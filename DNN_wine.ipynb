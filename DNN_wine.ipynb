{
  "nbformat": 4,
  "nbformat_minor": 0,
  "metadata": {
    "colab": {
      "name": "DNN_wine.ipynb",
      "provenance": [],
      "authorship_tag": "ABX9TyMcJBQbZZl8myHvqeG9qcBD",
      "include_colab_link": true
    },
    "kernelspec": {
      "name": "python3",
      "display_name": "Python 3"
    }
  },
  "cells": [
    {
      "cell_type": "markdown",
      "metadata": {
        "id": "view-in-github",
        "colab_type": "text"
      },
      "source": [
        "<a href=\"https://colab.research.google.com/github/anusree-t-s/deep-learning/blob/master/DNN_wine.ipynb\" target=\"_parent\"><img src=\"https://colab.research.google.com/assets/colab-badge.svg\" alt=\"Open In Colab\"/></a>"
      ]
    },
    {
      "cell_type": "code",
      "metadata": {
        "id": "NfEiQq4rouvk",
        "colab_type": "code",
        "colab": {}
      },
      "source": [
        "import numpy as np\n",
        "import pandas as pd\n",
        "import matplotlib.pyplot as plt"
      ],
      "execution_count": 0,
      "outputs": []
    },
    {
      "cell_type": "code",
      "metadata": {
        "id": "mghkVwIPo2o0",
        "colab_type": "code",
        "colab": {}
      },
      "source": [
        "from sklearn.datasets import load_wine"
      ],
      "execution_count": 0,
      "outputs": []
    },
    {
      "cell_type": "code",
      "metadata": {
        "id": "vskv8Z7_o5jZ",
        "colab_type": "code",
        "outputId": "102e70aa-95c5-4b46-e4ea-fd3e2b9bb993",
        "colab": {
          "base_uri": "https://localhost:8080/",
          "height": 63
        }
      },
      "source": [
        "import tensorflow as tf\n",
        "from tensorflow import keras"
      ],
      "execution_count": 0,
      "outputs": [
        {
          "output_type": "display_data",
          "data": {
            "text/html": [
              "<p style=\"color: red;\">\n",
              "The default version of TensorFlow in Colab will soon switch to TensorFlow 2.x.<br>\n",
              "We recommend you <a href=\"https://www.tensorflow.org/guide/migrate\" target=\"_blank\">upgrade</a> now \n",
              "or ensure your notebook will continue to use TensorFlow 1.x via the <code>%tensorflow_version 1.x</code> magic:\n",
              "<a href=\"https://colab.research.google.com/notebooks/tensorflow_version.ipynb\" target=\"_blank\">more info</a>.</p>\n"
            ],
            "text/plain": [
              "<IPython.core.display.HTML object>"
            ]
          },
          "metadata": {
            "tags": []
          }
        }
      ]
    },
    {
      "cell_type": "code",
      "metadata": {
        "id": "c-uMvXlyo7SC",
        "colab_type": "code",
        "colab": {}
      },
      "source": [
        "tf.random.set_random_seed(42)"
      ],
      "execution_count": 0,
      "outputs": []
    },
    {
      "cell_type": "code",
      "metadata": {
        "id": "aYhDSGeyo9PM",
        "colab_type": "code",
        "colab": {}
      },
      "source": [
        "np.random.seed(42)"
      ],
      "execution_count": 0,
      "outputs": []
    },
    {
      "cell_type": "code",
      "metadata": {
        "id": "hVFpaWJspD3u",
        "colab_type": "code",
        "colab": {}
      },
      "source": [
        "wineData = load_wine()"
      ],
      "execution_count": 0,
      "outputs": []
    },
    {
      "cell_type": "code",
      "metadata": {
        "id": "rxHKIiDfpHS8",
        "colab_type": "code",
        "colab": {}
      },
      "source": [
        "X=wineData.data\n",
        "y=wineData.target"
      ],
      "execution_count": 0,
      "outputs": []
    },
    {
      "cell_type": "code",
      "metadata": {
        "id": "EsYKK07LpOTR",
        "colab_type": "code",
        "colab": {}
      },
      "source": [
        "from sklearn.model_selection import train_test_split"
      ],
      "execution_count": 0,
      "outputs": []
    },
    {
      "cell_type": "code",
      "metadata": {
        "id": "HlhQS0vapVb_",
        "colab_type": "code",
        "colab": {}
      },
      "source": [
        "X_train, X_test, y_train, y_test = train_test_split(X, y, test_size=0.2,\n",
        "stratify=y, random_state=42)"
      ],
      "execution_count": 0,
      "outputs": []
    },
    {
      "cell_type": "code",
      "metadata": {
        "id": "UX4nG-zApYMx",
        "colab_type": "code",
        "colab": {}
      },
      "source": [
        "from sklearn.preprocessing import StandardScaler\n",
        "sc=StandardScaler()"
      ],
      "execution_count": 0,
      "outputs": []
    },
    {
      "cell_type": "code",
      "metadata": {
        "id": "ZQpxux42pnW8",
        "colab_type": "code",
        "outputId": "b74955bf-f013-4e63-f05b-5acb66544a91",
        "colab": {
          "base_uri": "https://localhost:8080/",
          "height": 34
        }
      },
      "source": [
        "sc.fit(X_train)"
      ],
      "execution_count": 0,
      "outputs": [
        {
          "output_type": "execute_result",
          "data": {
            "text/plain": [
              "StandardScaler(copy=True, with_mean=True, with_std=True)"
            ]
          },
          "metadata": {
            "tags": []
          },
          "execution_count": 12
        }
      ]
    },
    {
      "cell_type": "code",
      "metadata": {
        "id": "21-OJIklpqHy",
        "colab_type": "code",
        "colab": {}
      },
      "source": [
        "X_train_std = sc.transform(X_train)\n",
        "X_test_std = sc.transform(X_test)"
      ],
      "execution_count": 0,
      "outputs": []
    },
    {
      "cell_type": "code",
      "metadata": {
        "id": "ePigHpgipsUa",
        "colab_type": "code",
        "colab": {}
      },
      "source": [
        "model_DNN = keras.models.Sequential()"
      ],
      "execution_count": 0,
      "outputs": []
    },
    {
      "cell_type": "code",
      "metadata": {
        "id": "WyzAZUkhpvAp",
        "colab_type": "code",
        "outputId": "97f06237-705c-4815-9d31-9cd3940d597d",
        "colab": {
          "base_uri": "https://localhost:8080/",
          "height": 89
        }
      },
      "source": [
        "# Hidden layer definitions\n",
        "model_DNN.add(keras.layers.Dense(units=15, activation='relu', input_shape=X_train.shape[1:]))"
      ],
      "execution_count": 0,
      "outputs": [
        {
          "output_type": "stream",
          "text": [
            "WARNING:tensorflow:From /usr/local/lib/python3.6/dist-packages/tensorflow_core/python/ops/resource_variable_ops.py:1630: calling BaseResourceVariable.__init__ (from tensorflow.python.ops.resource_variable_ops) with constraint is deprecated and will be removed in a future version.\n",
            "Instructions for updating:\n",
            "If using Keras pass *_constraint arguments to layers.\n"
          ],
          "name": "stdout"
        }
      ]
    },
    {
      "cell_type": "code",
      "metadata": {
        "id": "xtH0uSG-pyjD",
        "colab_type": "code",
        "colab": {}
      },
      "source": [
        "model_DNN.add(keras.layers.Dense(units=12, activation='relu'))\n",
        "model_DNN.add(keras.layers.Dense(units=8, activation='relu'))\n",
        "model_DNN.add(keras.layers.Dense(units=4, activation='relu'))"
      ],
      "execution_count": 0,
      "outputs": []
    },
    {
      "cell_type": "code",
      "metadata": {
        "id": "99JOW9hap1KF",
        "colab_type": "code",
        "colab": {}
      },
      "source": [
        "# Output layer definitions\n",
        "model_DNN.add(keras.layers.Dense(units=3, activation='softmax'))"
      ],
      "execution_count": 0,
      "outputs": []
    },
    {
      "cell_type": "code",
      "metadata": {
        "id": "aEQ6lfXNqA5t",
        "colab_type": "code",
        "outputId": "4d3589a2-e99b-49c7-bb10-9ae5622d6a92",
        "colab": {
          "base_uri": "https://localhost:8080/",
          "height": 328
        }
      },
      "source": [
        "model_DNN.summary()"
      ],
      "execution_count": 0,
      "outputs": [
        {
          "output_type": "stream",
          "text": [
            "Model: \"sequential\"\n",
            "_________________________________________________________________\n",
            "Layer (type)                 Output Shape              Param #   \n",
            "=================================================================\n",
            "dense (Dense)                (None, 15)                210       \n",
            "_________________________________________________________________\n",
            "dense_1 (Dense)              (None, 12)                192       \n",
            "_________________________________________________________________\n",
            "dense_2 (Dense)              (None, 8)                 104       \n",
            "_________________________________________________________________\n",
            "dense_3 (Dense)              (None, 4)                 36        \n",
            "_________________________________________________________________\n",
            "dense_4 (Dense)              (None, 3)                 15        \n",
            "=================================================================\n",
            "Total params: 557\n",
            "Trainable params: 557\n",
            "Non-trainable params: 0\n",
            "_________________________________________________________________\n"
          ],
          "name": "stdout"
        }
      ]
    },
    {
      "cell_type": "code",
      "metadata": {
        "id": "gaTHGHVrqDYv",
        "colab_type": "code",
        "colab": {}
      },
      "source": [
        "model_DNN.compile(loss='sparse_categorical_crossentropy',optimizer='adam', metrics=['accuracy'])"
      ],
      "execution_count": 0,
      "outputs": []
    },
    {
      "cell_type": "code",
      "metadata": {
        "id": "LG17z2pXqH9l",
        "colab_type": "code",
        "outputId": "704d19cb-1f84-404a-8087-69b6882fee80",
        "colab": {
          "base_uri": "https://localhost:8080/",
          "height": 1000
        }
      },
      "source": [
        "model_DNN.fit(x=X_train_std, y=y_train, validation_split=0.1, epochs=50,batch_size=16)"
      ],
      "execution_count": 0,
      "outputs": [
        {
          "output_type": "stream",
          "text": [
            "Train on 127 samples, validate on 15 samples\n",
            "Epoch 1/50\n",
            "127/127 [==============================] - 0s 2ms/sample - loss: 1.0637 - acc: 0.5906 - val_loss: 1.1302 - val_acc: 0.4000\n",
            "Epoch 2/50\n",
            "127/127 [==============================] - 0s 164us/sample - loss: 1.0149 - acc: 0.6299 - val_loss: 1.0851 - val_acc: 0.4667\n",
            "Epoch 3/50\n",
            "127/127 [==============================] - 0s 136us/sample - loss: 0.9723 - acc: 0.6929 - val_loss: 1.0388 - val_acc: 0.5333\n",
            "Epoch 4/50\n",
            "127/127 [==============================] - 0s 146us/sample - loss: 0.9287 - acc: 0.7638 - val_loss: 0.9983 - val_acc: 0.6000\n",
            "Epoch 5/50\n",
            "127/127 [==============================] - 0s 141us/sample - loss: 0.8856 - acc: 0.7874 - val_loss: 0.9508 - val_acc: 0.6667\n",
            "Epoch 6/50\n",
            "127/127 [==============================] - 0s 140us/sample - loss: 0.8380 - acc: 0.7953 - val_loss: 0.8983 - val_acc: 0.6667\n",
            "Epoch 7/50\n",
            "127/127 [==============================] - 0s 146us/sample - loss: 0.7854 - acc: 0.8504 - val_loss: 0.8418 - val_acc: 0.8000\n",
            "Epoch 8/50\n",
            "127/127 [==============================] - 0s 155us/sample - loss: 0.7293 - acc: 0.8819 - val_loss: 0.7845 - val_acc: 0.8667\n",
            "Epoch 9/50\n",
            "127/127 [==============================] - 0s 139us/sample - loss: 0.6700 - acc: 0.8819 - val_loss: 0.7214 - val_acc: 0.9333\n",
            "Epoch 10/50\n",
            "127/127 [==============================] - 0s 181us/sample - loss: 0.6057 - acc: 0.9055 - val_loss: 0.6541 - val_acc: 0.9333\n",
            "Epoch 11/50\n",
            "127/127 [==============================] - 0s 157us/sample - loss: 0.5422 - acc: 0.9213 - val_loss: 0.5778 - val_acc: 0.9333\n",
            "Epoch 12/50\n",
            "127/127 [==============================] - 0s 169us/sample - loss: 0.4773 - acc: 0.9370 - val_loss: 0.5130 - val_acc: 0.9333\n",
            "Epoch 13/50\n",
            "127/127 [==============================] - 0s 154us/sample - loss: 0.4184 - acc: 0.9370 - val_loss: 0.4370 - val_acc: 1.0000\n",
            "Epoch 14/50\n",
            "127/127 [==============================] - 0s 161us/sample - loss: 0.3621 - acc: 0.9449 - val_loss: 0.3755 - val_acc: 1.0000\n",
            "Epoch 15/50\n",
            "127/127 [==============================] - 0s 159us/sample - loss: 0.3105 - acc: 0.9528 - val_loss: 0.3170 - val_acc: 1.0000\n",
            "Epoch 16/50\n",
            "127/127 [==============================] - 0s 152us/sample - loss: 0.2668 - acc: 0.9606 - val_loss: 0.2582 - val_acc: 1.0000\n",
            "Epoch 17/50\n",
            "127/127 [==============================] - 0s 152us/sample - loss: 0.2280 - acc: 0.9685 - val_loss: 0.2158 - val_acc: 1.0000\n",
            "Epoch 18/50\n",
            "127/127 [==============================] - 0s 156us/sample - loss: 0.1959 - acc: 0.9685 - val_loss: 0.1801 - val_acc: 1.0000\n",
            "Epoch 19/50\n",
            "127/127 [==============================] - 0s 149us/sample - loss: 0.1700 - acc: 0.9685 - val_loss: 0.1570 - val_acc: 1.0000\n",
            "Epoch 20/50\n",
            "127/127 [==============================] - 0s 169us/sample - loss: 0.1483 - acc: 0.9685 - val_loss: 0.1362 - val_acc: 1.0000\n",
            "Epoch 21/50\n",
            "127/127 [==============================] - 0s 150us/sample - loss: 0.1307 - acc: 0.9843 - val_loss: 0.1159 - val_acc: 1.0000\n",
            "Epoch 22/50\n",
            "127/127 [==============================] - 0s 140us/sample - loss: 0.1159 - acc: 0.9843 - val_loss: 0.1003 - val_acc: 1.0000\n",
            "Epoch 23/50\n",
            "127/127 [==============================] - 0s 195us/sample - loss: 0.1024 - acc: 0.9843 - val_loss: 0.0851 - val_acc: 1.0000\n",
            "Epoch 24/50\n",
            "127/127 [==============================] - 0s 132us/sample - loss: 0.0924 - acc: 0.9843 - val_loss: 0.0775 - val_acc: 1.0000\n",
            "Epoch 25/50\n",
            "127/127 [==============================] - 0s 167us/sample - loss: 0.0824 - acc: 0.9843 - val_loss: 0.0693 - val_acc: 1.0000\n",
            "Epoch 26/50\n",
            "127/127 [==============================] - 0s 171us/sample - loss: 0.0751 - acc: 0.9843 - val_loss: 0.0612 - val_acc: 1.0000\n",
            "Epoch 27/50\n",
            "127/127 [==============================] - 0s 153us/sample - loss: 0.0697 - acc: 0.9843 - val_loss: 0.0533 - val_acc: 1.0000\n",
            "Epoch 28/50\n",
            "127/127 [==============================] - 0s 168us/sample - loss: 0.0637 - acc: 0.9921 - val_loss: 0.0471 - val_acc: 1.0000\n",
            "Epoch 29/50\n",
            "127/127 [==============================] - 0s 160us/sample - loss: 0.0588 - acc: 0.9921 - val_loss: 0.0448 - val_acc: 1.0000\n",
            "Epoch 30/50\n",
            "127/127 [==============================] - 0s 165us/sample - loss: 0.0542 - acc: 0.9921 - val_loss: 0.0403 - val_acc: 1.0000\n",
            "Epoch 31/50\n",
            "127/127 [==============================] - 0s 180us/sample - loss: 0.0499 - acc: 0.9921 - val_loss: 0.0384 - val_acc: 1.0000\n",
            "Epoch 32/50\n",
            "127/127 [==============================] - 0s 202us/sample - loss: 0.0460 - acc: 0.9921 - val_loss: 0.0388 - val_acc: 1.0000\n",
            "Epoch 33/50\n",
            "127/127 [==============================] - 0s 165us/sample - loss: 0.0420 - acc: 0.9921 - val_loss: 0.0346 - val_acc: 1.0000\n",
            "Epoch 34/50\n",
            "127/127 [==============================] - 0s 174us/sample - loss: 0.0386 - acc: 0.9921 - val_loss: 0.0341 - val_acc: 1.0000\n",
            "Epoch 35/50\n",
            "127/127 [==============================] - 0s 148us/sample - loss: 0.0359 - acc: 0.9921 - val_loss: 0.0343 - val_acc: 1.0000\n",
            "Epoch 36/50\n",
            "127/127 [==============================] - 0s 153us/sample - loss: 0.0322 - acc: 0.9921 - val_loss: 0.0302 - val_acc: 1.0000\n",
            "Epoch 37/50\n",
            "127/127 [==============================] - 0s 164us/sample - loss: 0.0295 - acc: 0.9921 - val_loss: 0.0297 - val_acc: 1.0000\n",
            "Epoch 38/50\n",
            "127/127 [==============================] - 0s 158us/sample - loss: 0.0267 - acc: 0.9921 - val_loss: 0.0293 - val_acc: 1.0000\n",
            "Epoch 39/50\n",
            "127/127 [==============================] - 0s 141us/sample - loss: 0.0246 - acc: 0.9921 - val_loss: 0.0261 - val_acc: 1.0000\n",
            "Epoch 40/50\n",
            "127/127 [==============================] - 0s 138us/sample - loss: 0.0221 - acc: 0.9921 - val_loss: 0.0207 - val_acc: 1.0000\n",
            "Epoch 41/50\n",
            "127/127 [==============================] - 0s 141us/sample - loss: 0.0207 - acc: 1.0000 - val_loss: 0.0206 - val_acc: 1.0000\n",
            "Epoch 42/50\n",
            "127/127 [==============================] - 0s 161us/sample - loss: 0.0187 - acc: 1.0000 - val_loss: 0.0178 - val_acc: 1.0000\n",
            "Epoch 43/50\n",
            "127/127 [==============================] - 0s 148us/sample - loss: 0.0172 - acc: 1.0000 - val_loss: 0.0169 - val_acc: 1.0000\n",
            "Epoch 44/50\n",
            "127/127 [==============================] - 0s 159us/sample - loss: 0.0157 - acc: 1.0000 - val_loss: 0.0160 - val_acc: 1.0000\n",
            "Epoch 45/50\n",
            "127/127 [==============================] - 0s 160us/sample - loss: 0.0146 - acc: 1.0000 - val_loss: 0.0150 - val_acc: 1.0000\n",
            "Epoch 46/50\n",
            "127/127 [==============================] - 0s 145us/sample - loss: 0.0136 - acc: 1.0000 - val_loss: 0.0138 - val_acc: 1.0000\n",
            "Epoch 47/50\n",
            "127/127 [==============================] - 0s 187us/sample - loss: 0.0126 - acc: 1.0000 - val_loss: 0.0134 - val_acc: 1.0000\n",
            "Epoch 48/50\n",
            "127/127 [==============================] - 0s 160us/sample - loss: 0.0118 - acc: 1.0000 - val_loss: 0.0133 - val_acc: 1.0000\n",
            "Epoch 49/50\n",
            "127/127 [==============================] - 0s 151us/sample - loss: 0.0111 - acc: 1.0000 - val_loss: 0.0126 - val_acc: 1.0000\n",
            "Epoch 50/50\n",
            "127/127 [==============================] - 0s 147us/sample - loss: 0.0103 - acc: 1.0000 - val_loss: 0.0115 - val_acc: 1.0000\n"
          ],
          "name": "stdout"
        },
        {
          "output_type": "execute_result",
          "data": {
            "text/plain": [
              "<tensorflow.python.keras.callbacks.History at 0x7f76a518bdd8>"
            ]
          },
          "metadata": {
            "tags": []
          },
          "execution_count": 20
        }
      ]
    },
    {
      "cell_type": "code",
      "metadata": {
        "id": "FKrTYQETqLuU",
        "colab_type": "code",
        "outputId": "7b52ce3a-5bfc-4d0e-db45-d5d78c45966a",
        "colab": {
          "base_uri": "https://localhost:8080/",
          "height": 34
        }
      },
      "source": [
        "test_loss, test_accuracy = model_DNN.evaluate(x=X_test_std, y=y_test)"
      ],
      "execution_count": 0,
      "outputs": [
        {
          "output_type": "stream",
          "text": [
            "36/36 [==============================] - 0s 211us/sample - loss: 0.0920 - acc: 0.9167\n"
          ],
          "name": "stdout"
        }
      ]
    },
    {
      "cell_type": "code",
      "metadata": {
        "id": "ctZk6pgDqQ_y",
        "colab_type": "code",
        "outputId": "a2322b9f-598b-4897-c635-1a2591bc206f",
        "colab": {
          "base_uri": "https://localhost:8080/",
          "height": 34
        }
      },
      "source": [
        "print(test_loss, test_accuracy)"
      ],
      "execution_count": 0,
      "outputs": [
        {
          "output_type": "stream",
          "text": [
            "0.09202521672058436 0.9166667\n"
          ],
          "name": "stdout"
        }
      ]
    },
    {
      "cell_type": "code",
      "metadata": {
        "id": "RXtGzxHQqTd0",
        "colab_type": "code",
        "colab": {}
      },
      "source": [
        ""
      ],
      "execution_count": 0,
      "outputs": []
    }
  ]
}