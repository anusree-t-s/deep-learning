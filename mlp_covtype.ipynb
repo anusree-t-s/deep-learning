{
  "nbformat": 4,
  "nbformat_minor": 0,
  "metadata": {
    "colab": {
      "name": "mlp_covtype.ipynb",
      "provenance": []
    },
    "kernelspec": {
      "name": "python3",
      "display_name": "Python 3"
    }
  },
  "cells": [
    {
      "cell_type": "code",
      "metadata": {
        "id": "J-mOuiJRcBl_",
        "colab_type": "code",
        "colab": {}
      },
      "source": [
        "import numpy as np\n",
        "# Load the dataset from sklearn\n",
        "from sklearn.datasets import fetch_covtype\n",
        "# Use the MLP class defined in sklearn\n",
        "from sklearn.neural_network import MLPClassifier\n",
        "\n",
        "# When return_X_y = True, the load function\n",
        "# return data and target instead of Bunch object.\n",
        "X, y = fetch_covtype(return_X_y=True)\n"
      ],
      "execution_count": 0,
      "outputs": []
    },
    {
      "cell_type": "code",
      "metadata": {
        "id": "jlHknZFJcMTW",
        "colab_type": "code",
        "outputId": "f6053857-994d-41ab-db04-cbaa7620da3b",
        "colab": {
          "base_uri": "https://localhost:8080/",
          "height": 104
        }
      },
      "source": [
        "print(type(X))\n",
        "\n",
        "print(X.shape)\n",
        "print(y.shape)\n",
        "\n",
        "X_10 = X[:,:10]\n",
        "\n",
        "print(X_10.shape)\n",
        "# (581012, 10)\n",
        "# Split the data into 90% training and 10% testing\n",
        "from sklearn.model_selection import train_test_split\n",
        "# The 10% testing data obtained during this split will be take as our entire database.\n",
        "# This is because the original dataset is too big.\n",
        "X10_train, X10_test, y10_train, y10_test = train_test_split(X_10, y, test_size=0.1,\n",
        "stratify=y, random_state=42)\n",
        "\n",
        "print(X10_test.shape)\n",
        "# (58102, 10)\n",
        "\n",
        "# Handle only the modified 1% dataset. Split that into training and testing.\n",
        "# X and y are updated with the downsized dataset\n",
        "X = X10_test\n",
        "y = y10_test\n",
        "\n",
        "# Split the data into 80% training and 20% testing\n",
        "from sklearn.model_selection import train_test_split"
      ],
      "execution_count": 0,
      "outputs": [
        {
          "output_type": "stream",
          "text": [
            "<class 'numpy.ndarray'>\n",
            "(581012, 54)\n",
            "(581012,)\n",
            "(581012, 10)\n",
            "(58102, 10)\n"
          ],
          "name": "stdout"
        }
      ]
    },
    {
      "cell_type": "code",
      "metadata": {
        "id": "iYKIKBg7cTko",
        "colab_type": "code",
        "outputId": "f2571da0-5e30-4739-bbdf-923250463af9",
        "colab": {
          "base_uri": "https://localhost:8080/",
          "height": 34
        }
      },
      "source": [
        "X_train, X_test, y_train, y_test = train_test_split(X, y, test_size=0.2,\n",
        "stratify=y, random_state=42)\n",
        "\n",
        "# Feature scaling using Standardization\n",
        "from sklearn.preprocessing import StandardScaler\n",
        "sc = StandardScaler()\n",
        "sc.fit(X_train)\n",
        "# Scale both trainign and testing data\n",
        "X_train_std = sc.transform(X_train)\n",
        "X_test_std = sc.transform(X_test)\n",
        "\n",
        "# Create an object (model) for MLP.\n",
        "mlpClassifier = MLPClassifier(solver='lbfgs', alpha=1e-5,hidden_layer_sizes=(50, 25), random_state=3)\n",
        "\n",
        "# Train the MLP using 80% training set\n",
        "mlpClassifier.fit(X_train_std, y_train)\n",
        "score = mlpClassifier.score(X_test_std, y_test)\n",
        "print(score)\n"
      ],
      "execution_count": 0,
      "outputs": [
        {
          "output_type": "stream",
          "text": [
            "0.755528784097754\n"
          ],
          "name": "stdout"
        }
      ]
    },
    {
      "cell_type": "code",
      "metadata": {
        "id": "jrwlKCw1cZrQ",
        "colab_type": "code",
        "colab": {}
      },
      "source": [
        ""
      ],
      "execution_count": 0,
      "outputs": []
    }
  ]
}