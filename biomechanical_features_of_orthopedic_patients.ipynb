{
  "nbformat": 4,
  "nbformat_minor": 0,
  "metadata": {
    "colab": {
      "name": "biomechanical_features_of_orthopedic_patients.ipynb",
      "provenance": [],
      "authorship_tag": "ABX9TyNDdsRm2GlFWuvJVJnV4OvY",
      "include_colab_link": true
    },
    "kernelspec": {
      "name": "python3",
      "display_name": "Python 3"
    },
    "accelerator": "GPU"
  },
  "cells": [
    {
      "cell_type": "markdown",
      "metadata": {
        "id": "view-in-github",
        "colab_type": "text"
      },
      "source": [
        "<a href=\"https://colab.research.google.com/github/anusree-t-s/deep-learning/blob/master/biomechanical_features_of_orthopedic_patients.ipynb\" target=\"_parent\"><img src=\"https://colab.research.google.com/assets/colab-badge.svg\" alt=\"Open In Colab\"/></a>"
      ]
    },
    {
      "cell_type": "code",
      "metadata": {
        "id": "0pL-B3S90uTB",
        "colab_type": "code",
        "outputId": "4864e965-eb3d-4c1a-ffb2-d0001bcb70b4",
        "colab": {
          "base_uri": "https://localhost:8080/",
          "height": 124
        }
      },
      "source": [
        "from google.colab import drive\n",
        "drive.mount('/content/drive')"
      ],
      "execution_count": 3,
      "outputs": [
        {
          "output_type": "stream",
          "text": [
            "Go to this URL in a browser: https://accounts.google.com/o/oauth2/auth?client_id=947318989803-6bn6qk8qdgf4n4g3pfee6491hc0brc4i.apps.googleusercontent.com&redirect_uri=urn%3aietf%3awg%3aoauth%3a2.0%3aoob&response_type=code&scope=email%20https%3a%2f%2fwww.googleapis.com%2fauth%2fdocs.test%20https%3a%2f%2fwww.googleapis.com%2fauth%2fdrive%20https%3a%2f%2fwww.googleapis.com%2fauth%2fdrive.photos.readonly%20https%3a%2f%2fwww.googleapis.com%2fauth%2fpeopleapi.readonly\n",
            "\n",
            "Enter your authorization code:\n",
            "··········\n",
            "Mounted at /content/drive\n"
          ],
          "name": "stdout"
        }
      ]
    },
    {
      "cell_type": "code",
      "metadata": {
        "id": "xNugUBsp1Om4",
        "colab_type": "code",
        "colab": {}
      },
      "source": [
        "import numpy as np\n",
        "import pandas as pd"
      ],
      "execution_count": 0,
      "outputs": []
    },
    {
      "cell_type": "code",
      "metadata": {
        "id": "O2I6peq71V2f",
        "colab_type": "code",
        "colab": {}
      },
      "source": [
        "#binary dataset\n",
        "data1 = pd.read_csv('/content/drive/My Drive/deep learning/column_2C_weka.csv')\n",
        "#multiclass dataset\n",
        "data2 = pd.read_csv('/content/drive/My Drive/deep learning/column_3C_weka.csv')"
      ],
      "execution_count": 0,
      "outputs": []
    },
    {
      "cell_type": "code",
      "metadata": {
        "id": "vv2-TSCq12fm",
        "colab_type": "code",
        "outputId": "84ed6c86-7265-48aa-d6dc-96293b848178",
        "colab": {
          "base_uri": "https://localhost:8080/",
          "height": 432
        }
      },
      "source": [
        "data1.info()\n",
        "data2.info()"
      ],
      "execution_count": 6,
      "outputs": [
        {
          "output_type": "stream",
          "text": [
            "<class 'pandas.core.frame.DataFrame'>\n",
            "RangeIndex: 310 entries, 0 to 309\n",
            "Data columns (total 7 columns):\n",
            "pelvic_incidence            310 non-null float64\n",
            "pelvic_tilt numeric         310 non-null float64\n",
            "lumbar_lordosis_angle       310 non-null float64\n",
            "sacral_slope                310 non-null float64\n",
            "pelvic_radius               310 non-null float64\n",
            "degree_spondylolisthesis    310 non-null float64\n",
            "class                       310 non-null object\n",
            "dtypes: float64(6), object(1)\n",
            "memory usage: 17.1+ KB\n",
            "<class 'pandas.core.frame.DataFrame'>\n",
            "RangeIndex: 310 entries, 0 to 309\n",
            "Data columns (total 7 columns):\n",
            "pelvic_incidence            310 non-null float64\n",
            "pelvic_tilt                 310 non-null float64\n",
            "lumbar_lordosis_angle       310 non-null float64\n",
            "sacral_slope                310 non-null float64\n",
            "pelvic_radius               310 non-null float64\n",
            "degree_spondylolisthesis    310 non-null float64\n",
            "class                       310 non-null object\n",
            "dtypes: float64(6), object(1)\n",
            "memory usage: 17.1+ KB\n"
          ],
          "name": "stdout"
        }
      ]
    },
    {
      "cell_type": "code",
      "metadata": {
        "id": "VI_7lNc-15jH",
        "colab_type": "code",
        "outputId": "ac095272-df83-4337-a8b9-1b1d98f4cf36",
        "colab": {
          "base_uri": "https://localhost:8080/",
          "height": 224
        }
      },
      "source": [
        "print(data2['class'])"
      ],
      "execution_count": 7,
      "outputs": [
        {
          "output_type": "stream",
          "text": [
            "0      Hernia\n",
            "1      Hernia\n",
            "2      Hernia\n",
            "3      Hernia\n",
            "4      Hernia\n",
            "        ...  \n",
            "305    Normal\n",
            "306    Normal\n",
            "307    Normal\n",
            "308    Normal\n",
            "309    Normal\n",
            "Name: class, Length: 310, dtype: object\n"
          ],
          "name": "stdout"
        }
      ]
    },
    {
      "cell_type": "code",
      "metadata": {
        "id": "m92Sx9Sf17_q",
        "colab_type": "code",
        "colab": {}
      },
      "source": [
        "from sklearn import preprocessing\n",
        "le = preprocessing.LabelEncoder()\n",
        "\n",
        "le.fit(data1['class'])\n",
        "data1['class']=le.transform(data1['class'])\n",
        "\n",
        "le.fit(data2['class'])\n",
        "data2['class']=le.transform(data2['class'])"
      ],
      "execution_count": 0,
      "outputs": []
    },
    {
      "cell_type": "code",
      "metadata": {
        "id": "GADIHcRc1_lI",
        "colab_type": "code",
        "colab": {}
      },
      "source": [
        "y1=data1['class']\n",
        "data1.drop(['class'],axis=1,inplace=True)\n",
        "\n",
        "y2=data2['class']\n",
        "data2.drop(['class'],axis=1,inplace=True)"
      ],
      "execution_count": 0,
      "outputs": []
    },
    {
      "cell_type": "code",
      "metadata": {
        "id": "1_k7hhcg2DRT",
        "colab_type": "code",
        "colab": {}
      },
      "source": [
        "from sklearn.model_selection import train_test_split\n",
        "X_train1, X_test1, y_train1, y_test1 = train_test_split(data1, y1, test_size=0.275, stratify=y1,random_state=42)\n",
        "\n",
        "X_train2, X_test2, y_train2, y_test2 = train_test_split(data2, y2, test_size=0.275, stratify=y2,random_state=42)"
      ],
      "execution_count": 0,
      "outputs": []
    },
    {
      "cell_type": "markdown",
      "metadata": {
        "id": "BJ8EQcWz2IBR",
        "colab_type": "text"
      },
      "source": [
        "## perceptron"
      ]
    },
    {
      "cell_type": "code",
      "metadata": {
        "id": "_JY-Vnm_2GHM",
        "colab_type": "code",
        "colab": {}
      },
      "source": [
        "from sklearn.linear_model import Perceptron"
      ],
      "execution_count": 0,
      "outputs": []
    },
    {
      "cell_type": "code",
      "metadata": {
        "id": "57M6fnaD2Nvg",
        "colab_type": "code",
        "outputId": "630f8086-c236-4c54-c1c5-ad7e39a74fde",
        "colab": {
          "base_uri": "https://localhost:8080/",
          "height": 86
        }
      },
      "source": [
        "perceptronClassifier = Perceptron(alpha=.1,max_iter=100, n_iter_no_change=5)\n",
        "perceptronClassifier.fit(X_train1, y_train1)"
      ],
      "execution_count": 12,
      "outputs": [
        {
          "output_type": "execute_result",
          "data": {
            "text/plain": [
              "Perceptron(alpha=0.1, class_weight=None, early_stopping=False, eta0=1.0,\n",
              "           fit_intercept=True, max_iter=100, n_iter_no_change=5, n_jobs=None,\n",
              "           penalty=None, random_state=0, shuffle=True, tol=0.001,\n",
              "           validation_fraction=0.1, verbose=0, warm_start=False)"
            ]
          },
          "metadata": {
            "tags": []
          },
          "execution_count": 12
        }
      ]
    },
    {
      "cell_type": "code",
      "metadata": {
        "id": "jwWKbGQ82QaN",
        "colab_type": "code",
        "outputId": "c34750c5-7f93-4771-9454-5ca43e3c2e63",
        "colab": {
          "base_uri": "https://localhost:8080/",
          "height": 34
        }
      },
      "source": [
        "print(perceptronClassifier.score(X_test1, y_test1)) #binary dataset"
      ],
      "execution_count": 13,
      "outputs": [
        {
          "output_type": "stream",
          "text": [
            "0.813953488372093\n"
          ],
          "name": "stdout"
        }
      ]
    },
    {
      "cell_type": "markdown",
      "metadata": {
        "id": "mH3SMaFR2dCX",
        "colab_type": "text"
      },
      "source": [
        "## mlp"
      ]
    },
    {
      "cell_type": "code",
      "metadata": {
        "id": "vLoMIhi92TPs",
        "colab_type": "code",
        "colab": {}
      },
      "source": [
        "from sklearn.neural_network import MLPClassifier\n",
        "mlpClassifier1 = MLPClassifier(solver = 'lbfgs' , alpha = 1e-5 ,hidden_layer_sizes = ( 25 , 10 ), random_state = 1 )\n",
        "mlpClassifier2 = MLPClassifier(solver = 'lbfgs' , alpha = 1e-5 ,hidden_layer_sizes = ( 25 , 10 ), random_state = 1 )"
      ],
      "execution_count": 0,
      "outputs": []
    },
    {
      "cell_type": "code",
      "metadata": {
        "id": "NJm91IiQ2j7m",
        "colab_type": "code",
        "outputId": "3609fa8e-a644-434d-8814-1e2829166e69",
        "colab": {
          "base_uri": "https://localhost:8080/",
          "height": 383
        }
      },
      "source": [
        "mlpClassifier1.fit(X_train1, y_train1)\n",
        "\n",
        "mlpClassifier2.fit(X_train2, y_train2)"
      ],
      "execution_count": 15,
      "outputs": [
        {
          "output_type": "stream",
          "text": [
            "/usr/local/lib/python3.6/dist-packages/sklearn/neural_network/_multilayer_perceptron.py:470: ConvergenceWarning: lbfgs failed to converge (status=1):\n",
            "STOP: TOTAL NO. of ITERATIONS REACHED LIMIT.\n",
            "\n",
            "Increase the number of iterations (max_iter) or scale the data as shown in:\n",
            "    https://scikit-learn.org/stable/modules/preprocessing.html\n",
            "  self.n_iter_ = _check_optimize_result(\"lbfgs\", opt_res, self.max_iter)\n",
            "/usr/local/lib/python3.6/dist-packages/sklearn/neural_network/_multilayer_perceptron.py:470: ConvergenceWarning: lbfgs failed to converge (status=1):\n",
            "STOP: TOTAL NO. of ITERATIONS REACHED LIMIT.\n",
            "\n",
            "Increase the number of iterations (max_iter) or scale the data as shown in:\n",
            "    https://scikit-learn.org/stable/modules/preprocessing.html\n",
            "  self.n_iter_ = _check_optimize_result(\"lbfgs\", opt_res, self.max_iter)\n"
          ],
          "name": "stderr"
        },
        {
          "output_type": "execute_result",
          "data": {
            "text/plain": [
              "MLPClassifier(activation='relu', alpha=1e-05, batch_size='auto', beta_1=0.9,\n",
              "              beta_2=0.999, early_stopping=False, epsilon=1e-08,\n",
              "              hidden_layer_sizes=(25, 10), learning_rate='constant',\n",
              "              learning_rate_init=0.001, max_fun=15000, max_iter=200,\n",
              "              momentum=0.9, n_iter_no_change=10, nesterovs_momentum=True,\n",
              "              power_t=0.5, random_state=1, shuffle=True, solver='lbfgs',\n",
              "              tol=0.0001, validation_fraction=0.1, verbose=False,\n",
              "              warm_start=False)"
            ]
          },
          "metadata": {
            "tags": []
          },
          "execution_count": 15
        }
      ]
    },
    {
      "cell_type": "code",
      "metadata": {
        "id": "E0aVmBgg2mf2",
        "colab_type": "code",
        "outputId": "b98ed0a4-13af-45bc-85cb-2227d78c7fde",
        "colab": {
          "base_uri": "https://localhost:8080/",
          "height": 52
        }
      },
      "source": [
        "print(mlpClassifier1.score(X_test1, y_test1)) #binary dataset\n",
        "print(mlpClassifier2.score(X_test2, y_test2)) #multiclass dataset"
      ],
      "execution_count": 16,
      "outputs": [
        {
          "output_type": "stream",
          "text": [
            "0.8488372093023255\n",
            "0.7674418604651163\n"
          ],
          "name": "stdout"
        }
      ]
    },
    {
      "cell_type": "markdown",
      "metadata": {
        "id": "UgXiMyZL7WQ3",
        "colab_type": "text"
      },
      "source": [
        "## keras"
      ]
    },
    {
      "cell_type": "code",
      "metadata": {
        "id": "RY3ULu6g2rR4",
        "colab_type": "code",
        "colab": {
          "base_uri": "https://localhost:8080/",
          "height": 63
        },
        "outputId": "21bb26c7-dc08-4853-a771-1240ec54483f"
      },
      "source": [
        "import tensorflow.compat.v1 as tf\n",
        "from tensorflow import keras"
      ],
      "execution_count": 17,
      "outputs": [
        {
          "output_type": "display_data",
          "data": {
            "text/html": [
              "<p style=\"color: red;\">\n",
              "The default version of TensorFlow in Colab will soon switch to TensorFlow 2.x.<br>\n",
              "We recommend you <a href=\"https://www.tensorflow.org/guide/migrate\" target=\"_blank\">upgrade</a> now \n",
              "or ensure your notebook will continue to use TensorFlow 1.x via the <code>%tensorflow_version 1.x</code> magic:\n",
              "<a href=\"https://colab.research.google.com/notebooks/tensorflow_version.ipynb\" target=\"_blank\">more info</a>.</p>\n"
            ],
            "text/plain": [
              "<IPython.core.display.HTML object>"
            ]
          },
          "metadata": {
            "tags": []
          }
        }
      ]
    },
    {
      "cell_type": "code",
      "metadata": {
        "id": "5PisA4UZ7j5X",
        "colab_type": "code",
        "colab": {}
      },
      "source": [
        "tf.set_random_seed(42)\n",
        "np.random.seed(42)"
      ],
      "execution_count": 0,
      "outputs": []
    },
    {
      "cell_type": "code",
      "metadata": {
        "id": "W6yu8jc87mhq",
        "colab_type": "code",
        "colab": {}
      },
      "source": [
        "from sklearn.preprocessing import StandardScaler\n",
        "sc1 = StandardScaler()\n",
        "sc2 = StandardScaler()"
      ],
      "execution_count": 0,
      "outputs": []
    },
    {
      "cell_type": "code",
      "metadata": {
        "id": "pABWEjlN7oOW",
        "colab_type": "code",
        "colab": {
          "base_uri": "https://localhost:8080/",
          "height": 296
        },
        "outputId": "6cce8dc6-8ede-4e14-9f9d-8c37769f0ea0"
      },
      "source": [
        "model_MLP1 = keras.models.Sequential()\n",
        "\n",
        "model_MLP1.add(keras.layers.Dense(units=5, activation='relu', input_shape=X_train1.shape[1:]))\n",
        "\n",
        "model_MLP1.add(keras.layers.Dense(units=1, activation='sigmoid'))\n",
        "\n",
        "model_MLP1.summary()"
      ],
      "execution_count": 20,
      "outputs": [
        {
          "output_type": "stream",
          "text": [
            "WARNING:tensorflow:From /usr/local/lib/python3.6/dist-packages/tensorflow_core/python/ops/resource_variable_ops.py:1630: calling BaseResourceVariable.__init__ (from tensorflow.python.ops.resource_variable_ops) with constraint is deprecated and will be removed in a future version.\n",
            "Instructions for updating:\n",
            "If using Keras pass *_constraint arguments to layers.\n",
            "Model: \"sequential\"\n",
            "_________________________________________________________________\n",
            "Layer (type)                 Output Shape              Param #   \n",
            "=================================================================\n",
            "dense (Dense)                (None, 5)                 35        \n",
            "_________________________________________________________________\n",
            "dense_1 (Dense)              (None, 1)                 6         \n",
            "=================================================================\n",
            "Total params: 41\n",
            "Trainable params: 41\n",
            "Non-trainable params: 0\n",
            "_________________________________________________________________\n"
          ],
          "name": "stdout"
        }
      ]
    },
    {
      "cell_type": "code",
      "metadata": {
        "id": "Buw3I7lF7wSy",
        "colab_type": "code",
        "colab": {
          "base_uri": "https://localhost:8080/",
          "height": 89
        },
        "outputId": "3da3794d-ba2f-46b8-c038-24fca8e032af"
      },
      "source": [
        "model_MLP1.compile(loss='binary_crossentropy', optimizer='adam',metrics=['accuracy'])"
      ],
      "execution_count": 21,
      "outputs": [
        {
          "output_type": "stream",
          "text": [
            "WARNING:tensorflow:From /usr/local/lib/python3.6/dist-packages/tensorflow_core/python/ops/nn_impl.py:183: where (from tensorflow.python.ops.array_ops) is deprecated and will be removed in a future version.\n",
            "Instructions for updating:\n",
            "Use tf.where in 2.0, which has the same broadcast rule as np.where\n"
          ],
          "name": "stdout"
        }
      ]
    },
    {
      "cell_type": "code",
      "metadata": {
        "id": "g4N-wXHo71E3",
        "colab_type": "code",
        "colab": {
          "base_uri": "https://localhost:8080/",
          "height": 1000
        },
        "outputId": "609f0081-9987-49ff-fcee-d89d2dca22d7"
      },
      "source": [
        "model_MLP1.fit(x=X_train1, y=y_train1, validation_split=0.1,epochs=50, batch_size=16) #binary"
      ],
      "execution_count": 22,
      "outputs": [
        {
          "output_type": "stream",
          "text": [
            "Train on 201 samples, validate on 23 samples\n",
            "Epoch 1/50\n",
            "201/201 [==============================] - 2s 8ms/sample - loss: 19.0153 - acc: 0.3383 - val_loss: 21.1173 - val_acc: 0.1739\n",
            "Epoch 2/50\n",
            "201/201 [==============================] - 0s 164us/sample - loss: 16.6845 - acc: 0.3483 - val_loss: 18.0380 - val_acc: 0.1739\n",
            "Epoch 3/50\n",
            "201/201 [==============================] - 0s 164us/sample - loss: 14.5122 - acc: 0.3383 - val_loss: 15.4143 - val_acc: 0.1739\n",
            "Epoch 4/50\n",
            "201/201 [==============================] - 0s 162us/sample - loss: 12.6369 - acc: 0.3333 - val_loss: 13.0800 - val_acc: 0.1739\n",
            "Epoch 5/50\n",
            "201/201 [==============================] - 0s 171us/sample - loss: 10.9013 - acc: 0.3333 - val_loss: 11.2070 - val_acc: 0.2174\n",
            "Epoch 6/50\n",
            "201/201 [==============================] - 0s 176us/sample - loss: 9.2871 - acc: 0.3383 - val_loss: 9.5426 - val_acc: 0.2174\n",
            "Epoch 7/50\n",
            "201/201 [==============================] - 0s 170us/sample - loss: 7.9260 - acc: 0.3483 - val_loss: 7.9975 - val_acc: 0.2174\n",
            "Epoch 8/50\n",
            "201/201 [==============================] - 0s 170us/sample - loss: 6.7898 - acc: 0.3532 - val_loss: 6.5618 - val_acc: 0.2174\n",
            "Epoch 9/50\n",
            "201/201 [==============================] - 0s 174us/sample - loss: 5.7307 - acc: 0.3532 - val_loss: 5.4656 - val_acc: 0.2609\n",
            "Epoch 10/50\n",
            "201/201 [==============================] - 0s 178us/sample - loss: 4.9125 - acc: 0.3781 - val_loss: 4.5712 - val_acc: 0.2174\n",
            "Epoch 11/50\n",
            "201/201 [==============================] - 0s 184us/sample - loss: 4.2485 - acc: 0.4030 - val_loss: 3.8705 - val_acc: 0.2174\n",
            "Epoch 12/50\n",
            "201/201 [==============================] - 0s 177us/sample - loss: 3.7470 - acc: 0.4279 - val_loss: 3.3301 - val_acc: 0.2609\n",
            "Epoch 13/50\n",
            "201/201 [==============================] - 0s 173us/sample - loss: 3.3858 - acc: 0.4876 - val_loss: 2.9369 - val_acc: 0.3478\n",
            "Epoch 14/50\n",
            "201/201 [==============================] - 0s 183us/sample - loss: 3.0718 - acc: 0.5124 - val_loss: 2.6494 - val_acc: 0.3478\n",
            "Epoch 15/50\n",
            "201/201 [==============================] - 0s 181us/sample - loss: 2.8509 - acc: 0.5373 - val_loss: 2.4164 - val_acc: 0.3913\n",
            "Epoch 16/50\n",
            "201/201 [==============================] - 0s 242us/sample - loss: 2.6465 - acc: 0.5721 - val_loss: 2.2389 - val_acc: 0.4348\n",
            "Epoch 17/50\n",
            "201/201 [==============================] - 0s 190us/sample - loss: 2.4824 - acc: 0.6169 - val_loss: 2.0820 - val_acc: 0.5652\n",
            "Epoch 18/50\n",
            "201/201 [==============================] - 0s 193us/sample - loss: 2.3486 - acc: 0.6169 - val_loss: 1.9375 - val_acc: 0.5652\n",
            "Epoch 19/50\n",
            "201/201 [==============================] - 0s 178us/sample - loss: 2.2155 - acc: 0.6418 - val_loss: 1.8330 - val_acc: 0.5652\n",
            "Epoch 20/50\n",
            "201/201 [==============================] - 0s 170us/sample - loss: 2.1092 - acc: 0.6866 - val_loss: 1.7226 - val_acc: 0.5217\n",
            "Epoch 21/50\n",
            "201/201 [==============================] - 0s 164us/sample - loss: 2.0054 - acc: 0.6965 - val_loss: 1.5944 - val_acc: 0.5652\n",
            "Epoch 22/50\n",
            "201/201 [==============================] - 0s 198us/sample - loss: 1.9224 - acc: 0.7065 - val_loss: 1.4603 - val_acc: 0.5652\n",
            "Epoch 23/50\n",
            "201/201 [==============================] - 0s 202us/sample - loss: 1.8325 - acc: 0.7015 - val_loss: 1.3669 - val_acc: 0.6522\n",
            "Epoch 24/50\n",
            "201/201 [==============================] - 0s 164us/sample - loss: 1.7607 - acc: 0.7015 - val_loss: 1.2761 - val_acc: 0.6957\n",
            "Epoch 25/50\n",
            "201/201 [==============================] - 0s 181us/sample - loss: 1.6960 - acc: 0.7114 - val_loss: 1.2227 - val_acc: 0.6957\n",
            "Epoch 26/50\n",
            "201/201 [==============================] - 0s 168us/sample - loss: 1.6282 - acc: 0.7264 - val_loss: 1.1682 - val_acc: 0.6957\n",
            "Epoch 27/50\n",
            "201/201 [==============================] - 0s 201us/sample - loss: 1.5745 - acc: 0.7363 - val_loss: 1.1171 - val_acc: 0.6957\n",
            "Epoch 28/50\n",
            "201/201 [==============================] - 0s 182us/sample - loss: 1.5353 - acc: 0.7313 - val_loss: 1.0509 - val_acc: 0.6957\n",
            "Epoch 29/50\n",
            "201/201 [==============================] - 0s 201us/sample - loss: 1.4878 - acc: 0.7313 - val_loss: 1.0219 - val_acc: 0.7391\n",
            "Epoch 30/50\n",
            "201/201 [==============================] - 0s 173us/sample - loss: 1.4500 - acc: 0.7363 - val_loss: 0.9964 - val_acc: 0.7826\n",
            "Epoch 31/50\n",
            "201/201 [==============================] - 0s 183us/sample - loss: 1.4193 - acc: 0.7313 - val_loss: 0.9697 - val_acc: 0.7826\n",
            "Epoch 32/50\n",
            "201/201 [==============================] - 0s 190us/sample - loss: 1.3922 - acc: 0.7313 - val_loss: 0.9318 - val_acc: 0.7826\n",
            "Epoch 33/50\n",
            "201/201 [==============================] - 0s 169us/sample - loss: 1.3560 - acc: 0.7363 - val_loss: 0.9244 - val_acc: 0.7826\n",
            "Epoch 34/50\n",
            "201/201 [==============================] - 0s 202us/sample - loss: 1.3270 - acc: 0.7363 - val_loss: 0.8913 - val_acc: 0.8261\n",
            "Epoch 35/50\n",
            "201/201 [==============================] - 0s 165us/sample - loss: 1.2997 - acc: 0.7363 - val_loss: 0.8650 - val_acc: 0.8261\n",
            "Epoch 36/50\n",
            "201/201 [==============================] - 0s 171us/sample - loss: 1.2703 - acc: 0.7413 - val_loss: 0.8283 - val_acc: 0.8261\n",
            "Epoch 37/50\n",
            "201/201 [==============================] - 0s 168us/sample - loss: 1.2415 - acc: 0.7413 - val_loss: 0.8013 - val_acc: 0.8261\n",
            "Epoch 38/50\n",
            "201/201 [==============================] - 0s 182us/sample - loss: 1.2173 - acc: 0.7413 - val_loss: 0.7640 - val_acc: 0.8261\n",
            "Epoch 39/50\n",
            "201/201 [==============================] - 0s 189us/sample - loss: 1.1898 - acc: 0.7562 - val_loss: 0.7507 - val_acc: 0.8261\n",
            "Epoch 40/50\n",
            "201/201 [==============================] - 0s 193us/sample - loss: 1.1624 - acc: 0.7562 - val_loss: 0.7077 - val_acc: 0.8261\n",
            "Epoch 41/50\n",
            "201/201 [==============================] - 0s 236us/sample - loss: 1.1365 - acc: 0.7562 - val_loss: 0.6713 - val_acc: 0.8261\n",
            "Epoch 42/50\n",
            "201/201 [==============================] - 0s 167us/sample - loss: 1.1008 - acc: 0.7463 - val_loss: 0.6255 - val_acc: 0.8261\n",
            "Epoch 43/50\n",
            "201/201 [==============================] - 0s 178us/sample - loss: 1.0745 - acc: 0.7512 - val_loss: 0.5879 - val_acc: 0.8261\n",
            "Epoch 44/50\n",
            "201/201 [==============================] - 0s 176us/sample - loss: 1.0475 - acc: 0.7413 - val_loss: 0.5635 - val_acc: 0.8261\n",
            "Epoch 45/50\n",
            "201/201 [==============================] - 0s 175us/sample - loss: 1.0258 - acc: 0.7313 - val_loss: 0.5337 - val_acc: 0.8696\n",
            "Epoch 46/50\n",
            "201/201 [==============================] - 0s 184us/sample - loss: 0.9999 - acc: 0.7413 - val_loss: 0.5115 - val_acc: 0.8696\n",
            "Epoch 47/50\n",
            "201/201 [==============================] - 0s 189us/sample - loss: 0.9838 - acc: 0.7463 - val_loss: 0.5004 - val_acc: 0.9130\n",
            "Epoch 48/50\n",
            "201/201 [==============================] - 0s 179us/sample - loss: 0.9622 - acc: 0.7413 - val_loss: 0.4882 - val_acc: 0.9130\n",
            "Epoch 49/50\n",
            "201/201 [==============================] - 0s 180us/sample - loss: 0.9457 - acc: 0.7413 - val_loss: 0.4792 - val_acc: 0.9130\n",
            "Epoch 50/50\n",
            "201/201 [==============================] - 0s 181us/sample - loss: 0.9269 - acc: 0.7463 - val_loss: 0.4722 - val_acc: 0.9130\n"
          ],
          "name": "stdout"
        },
        {
          "output_type": "execute_result",
          "data": {
            "text/plain": [
              "<tensorflow.python.keras.callbacks.History at 0x7f3c46512a58>"
            ]
          },
          "metadata": {
            "tags": []
          },
          "execution_count": 22
        }
      ]
    },
    {
      "cell_type": "code",
      "metadata": {
        "id": "wtMuVaaI76WT",
        "colab_type": "code",
        "colab": {
          "base_uri": "https://localhost:8080/",
          "height": 69
        },
        "outputId": "a9c88035-081e-4a43-81cd-c7b1f9a4f0c8"
      },
      "source": [
        "test_loss, test_accuracy = model_MLP1.evaluate(x=X_test1, y=y_test1)\n",
        "print(test_loss, '\\n',test_accuracy)"
      ],
      "execution_count": 24,
      "outputs": [
        {
          "output_type": "stream",
          "text": [
            "86/86 [==============================] - 0s 108us/sample - loss: 0.7928 - acc: 0.7558\n",
            "0.7927877514861351 \n",
            " 0.75581396\n"
          ],
          "name": "stdout"
        }
      ]
    },
    {
      "cell_type": "code",
      "metadata": {
        "id": "7h-P2S7y8CFn",
        "colab_type": "code",
        "colab": {
          "base_uri": "https://localhost:8080/",
          "height": 224
        },
        "outputId": "1bca68dc-ea0a-4bbf-8f23-3bac87dbe8c2"
      },
      "source": [
        "model_MLP2 = keras.models.Sequential()\n",
        "\n",
        "model_MLP2.add(keras.layers.Dense(units=10, activation='relu', input_shape=X_train2.shape[1:]))\n",
        "\n",
        "model_MLP2.add(keras.layers.Dense(units=3, activation='softmax'))\n",
        "\n",
        "model_MLP2.summary()"
      ],
      "execution_count": 25,
      "outputs": [
        {
          "output_type": "stream",
          "text": [
            "Model: \"sequential_1\"\n",
            "_________________________________________________________________\n",
            "Layer (type)                 Output Shape              Param #   \n",
            "=================================================================\n",
            "dense_2 (Dense)              (None, 10)                70        \n",
            "_________________________________________________________________\n",
            "dense_3 (Dense)              (None, 3)                 33        \n",
            "=================================================================\n",
            "Total params: 103\n",
            "Trainable params: 103\n",
            "Non-trainable params: 0\n",
            "_________________________________________________________________\n"
          ],
          "name": "stdout"
        }
      ]
    },
    {
      "cell_type": "code",
      "metadata": {
        "id": "4zbLCpW68oAf",
        "colab_type": "code",
        "colab": {
          "base_uri": "https://localhost:8080/",
          "height": 1000
        },
        "outputId": "022a61fe-4f35-4ea3-e8b2-3382036ccf4e"
      },
      "source": [
        "model_MLP2.compile(loss='sparse_categorical_crossentropy', optimizer='adam',metrics=['accuracy'])\n",
        "model_MLP2.fit(x=X_train2, y=y_train2, validation_split=0.1,epochs=50, batch_size=16)"
      ],
      "execution_count": 26,
      "outputs": [
        {
          "output_type": "stream",
          "text": [
            "Train on 201 samples, validate on 23 samples\n",
            "Epoch 1/50\n",
            "201/201 [==============================] - 0s 544us/sample - loss: 50.5097 - acc: 0.3284 - val_loss: 48.1257 - val_acc: 0.2609\n",
            "Epoch 2/50\n",
            "201/201 [==============================] - 0s 146us/sample - loss: 42.1976 - acc: 0.3284 - val_loss: 39.9945 - val_acc: 0.2609\n",
            "Epoch 3/50\n",
            "201/201 [==============================] - 0s 141us/sample - loss: 34.7693 - acc: 0.3284 - val_loss: 32.3790 - val_acc: 0.2609\n",
            "Epoch 4/50\n",
            "201/201 [==============================] - 0s 136us/sample - loss: 27.8951 - acc: 0.3284 - val_loss: 25.3232 - val_acc: 0.2609\n",
            "Epoch 5/50\n",
            "201/201 [==============================] - 0s 141us/sample - loss: 21.4364 - acc: 0.3284 - val_loss: 18.7366 - val_acc: 0.2609\n",
            "Epoch 6/50\n",
            "201/201 [==============================] - 0s 146us/sample - loss: 15.4908 - acc: 0.3284 - val_loss: 12.2708 - val_acc: 0.2609\n",
            "Epoch 7/50\n",
            "201/201 [==============================] - 0s 142us/sample - loss: 9.8196 - acc: 0.3085 - val_loss: 7.0449 - val_acc: 0.1739\n",
            "Epoch 8/50\n",
            "201/201 [==============================] - 0s 150us/sample - loss: 5.8228 - acc: 0.2687 - val_loss: 4.3853 - val_acc: 0.1739\n",
            "Epoch 9/50\n",
            "201/201 [==============================] - 0s 150us/sample - loss: 3.6494 - acc: 0.2985 - val_loss: 3.3477 - val_acc: 0.3043\n",
            "Epoch 10/50\n",
            "201/201 [==============================] - 0s 154us/sample - loss: 2.4621 - acc: 0.4776 - val_loss: 3.1133 - val_acc: 0.2174\n",
            "Epoch 11/50\n",
            "201/201 [==============================] - 0s 159us/sample - loss: 2.0954 - acc: 0.5771 - val_loss: 3.0882 - val_acc: 0.1739\n",
            "Epoch 12/50\n",
            "201/201 [==============================] - 0s 145us/sample - loss: 1.8370 - acc: 0.6318 - val_loss: 2.8963 - val_acc: 0.2174\n",
            "Epoch 13/50\n",
            "201/201 [==============================] - 0s 140us/sample - loss: 1.6527 - acc: 0.6667 - val_loss: 2.7837 - val_acc: 0.3043\n",
            "Epoch 14/50\n",
            "201/201 [==============================] - 0s 151us/sample - loss: 1.5198 - acc: 0.6766 - val_loss: 2.6896 - val_acc: 0.3913\n",
            "Epoch 15/50\n",
            "201/201 [==============================] - 0s 138us/sample - loss: 1.4162 - acc: 0.6766 - val_loss: 2.6287 - val_acc: 0.3913\n",
            "Epoch 16/50\n",
            "201/201 [==============================] - 0s 140us/sample - loss: 1.3314 - acc: 0.6915 - val_loss: 2.5979 - val_acc: 0.3913\n",
            "Epoch 17/50\n",
            "201/201 [==============================] - 0s 145us/sample - loss: 1.2533 - acc: 0.6965 - val_loss: 2.5271 - val_acc: 0.3913\n",
            "Epoch 18/50\n",
            "201/201 [==============================] - 0s 141us/sample - loss: 1.1949 - acc: 0.6965 - val_loss: 2.4817 - val_acc: 0.3913\n",
            "Epoch 19/50\n",
            "201/201 [==============================] - 0s 141us/sample - loss: 1.1274 - acc: 0.6915 - val_loss: 2.4288 - val_acc: 0.4348\n",
            "Epoch 20/50\n",
            "201/201 [==============================] - 0s 140us/sample - loss: 1.0613 - acc: 0.6915 - val_loss: 2.3585 - val_acc: 0.4348\n",
            "Epoch 21/50\n",
            "201/201 [==============================] - 0s 143us/sample - loss: 1.0171 - acc: 0.6965 - val_loss: 2.3212 - val_acc: 0.4348\n",
            "Epoch 22/50\n",
            "201/201 [==============================] - 0s 132us/sample - loss: 0.9649 - acc: 0.7015 - val_loss: 2.2664 - val_acc: 0.4783\n",
            "Epoch 23/50\n",
            "201/201 [==============================] - 0s 144us/sample - loss: 0.9229 - acc: 0.7164 - val_loss: 2.2651 - val_acc: 0.4348\n",
            "Epoch 24/50\n",
            "201/201 [==============================] - 0s 199us/sample - loss: 0.8733 - acc: 0.7264 - val_loss: 2.1746 - val_acc: 0.4783\n",
            "Epoch 25/50\n",
            "201/201 [==============================] - 0s 148us/sample - loss: 0.8270 - acc: 0.7065 - val_loss: 2.1301 - val_acc: 0.4783\n",
            "Epoch 26/50\n",
            "201/201 [==============================] - 0s 152us/sample - loss: 0.7919 - acc: 0.7313 - val_loss: 2.0783 - val_acc: 0.4783\n",
            "Epoch 27/50\n",
            "201/201 [==============================] - 0s 151us/sample - loss: 0.7529 - acc: 0.7114 - val_loss: 2.0182 - val_acc: 0.4783\n",
            "Epoch 28/50\n",
            "201/201 [==============================] - 0s 159us/sample - loss: 0.7189 - acc: 0.7463 - val_loss: 1.9590 - val_acc: 0.4783\n",
            "Epoch 29/50\n",
            "201/201 [==============================] - 0s 151us/sample - loss: 0.6859 - acc: 0.7612 - val_loss: 1.9267 - val_acc: 0.4783\n",
            "Epoch 30/50\n",
            "201/201 [==============================] - 0s 148us/sample - loss: 0.6541 - acc: 0.7612 - val_loss: 1.8918 - val_acc: 0.4348\n",
            "Epoch 31/50\n",
            "201/201 [==============================] - 0s 155us/sample - loss: 0.6342 - acc: 0.7562 - val_loss: 1.8209 - val_acc: 0.4348\n",
            "Epoch 32/50\n",
            "201/201 [==============================] - 0s 159us/sample - loss: 0.6240 - acc: 0.7562 - val_loss: 1.8218 - val_acc: 0.4348\n",
            "Epoch 33/50\n",
            "201/201 [==============================] - 0s 150us/sample - loss: 0.5840 - acc: 0.7612 - val_loss: 1.7192 - val_acc: 0.4783\n",
            "Epoch 34/50\n",
            "201/201 [==============================] - 0s 148us/sample - loss: 0.5614 - acc: 0.7711 - val_loss: 1.6992 - val_acc: 0.4348\n",
            "Epoch 35/50\n",
            "201/201 [==============================] - 0s 148us/sample - loss: 0.5487 - acc: 0.7711 - val_loss: 1.6388 - val_acc: 0.4348\n",
            "Epoch 36/50\n",
            "201/201 [==============================] - 0s 154us/sample - loss: 0.5296 - acc: 0.7811 - val_loss: 1.6276 - val_acc: 0.4348\n",
            "Epoch 37/50\n",
            "201/201 [==============================] - 0s 146us/sample - loss: 0.5185 - acc: 0.7861 - val_loss: 1.5584 - val_acc: 0.4348\n",
            "Epoch 38/50\n",
            "201/201 [==============================] - 0s 150us/sample - loss: 0.5012 - acc: 0.7910 - val_loss: 1.5816 - val_acc: 0.4348\n",
            "Epoch 39/50\n",
            "201/201 [==============================] - 0s 147us/sample - loss: 0.5001 - acc: 0.7861 - val_loss: 1.5349 - val_acc: 0.4348\n",
            "Epoch 40/50\n",
            "201/201 [==============================] - 0s 166us/sample - loss: 0.4943 - acc: 0.7910 - val_loss: 1.4704 - val_acc: 0.4783\n",
            "Epoch 41/50\n",
            "201/201 [==============================] - 0s 152us/sample - loss: 0.4742 - acc: 0.7861 - val_loss: 1.4503 - val_acc: 0.4348\n",
            "Epoch 42/50\n",
            "201/201 [==============================] - 0s 149us/sample - loss: 0.4674 - acc: 0.7910 - val_loss: 1.4261 - val_acc: 0.4783\n",
            "Epoch 43/50\n",
            "201/201 [==============================] - 0s 140us/sample - loss: 0.4605 - acc: 0.7960 - val_loss: 1.4141 - val_acc: 0.4783\n",
            "Epoch 44/50\n",
            "201/201 [==============================] - 0s 152us/sample - loss: 0.4602 - acc: 0.8010 - val_loss: 1.3725 - val_acc: 0.4783\n",
            "Epoch 45/50\n",
            "201/201 [==============================] - 0s 151us/sample - loss: 0.4477 - acc: 0.7910 - val_loss: 1.4064 - val_acc: 0.5652\n",
            "Epoch 46/50\n",
            "201/201 [==============================] - 0s 152us/sample - loss: 0.4509 - acc: 0.8010 - val_loss: 1.3618 - val_acc: 0.4783\n",
            "Epoch 47/50\n",
            "201/201 [==============================] - 0s 151us/sample - loss: 0.4387 - acc: 0.8060 - val_loss: 1.3453 - val_acc: 0.5217\n",
            "Epoch 48/50\n",
            "201/201 [==============================] - 0s 148us/sample - loss: 0.4426 - acc: 0.7910 - val_loss: 1.2997 - val_acc: 0.5217\n",
            "Epoch 49/50\n",
            "201/201 [==============================] - 0s 146us/sample - loss: 0.4363 - acc: 0.7960 - val_loss: 1.2957 - val_acc: 0.5652\n",
            "Epoch 50/50\n",
            "201/201 [==============================] - 0s 163us/sample - loss: 0.4276 - acc: 0.8060 - val_loss: 1.3320 - val_acc: 0.5652\n"
          ],
          "name": "stdout"
        },
        {
          "output_type": "execute_result",
          "data": {
            "text/plain": [
              "<tensorflow.python.keras.callbacks.History at 0x7f3bd18cb080>"
            ]
          },
          "metadata": {
            "tags": []
          },
          "execution_count": 26
        }
      ]
    },
    {
      "cell_type": "code",
      "metadata": {
        "id": "I2ywRoZj8tSP",
        "colab_type": "code",
        "colab": {
          "base_uri": "https://localhost:8080/",
          "height": 52
        },
        "outputId": "eb25665a-2373-4dfd-a1a8-25a763a85576"
      },
      "source": [
        "test_loss, test_accuracy = model_MLP2.evaluate(x=X_test2, y=y_test2)\n",
        "print(test_loss, test_accuracy)\n"
      ],
      "execution_count": 28,
      "outputs": [
        {
          "output_type": "stream",
          "text": [
            "86/86 [==============================] - 0s 122us/sample - loss: 1.5678 - acc: 0.7791\n",
            "1.5678274146346158 0.7790698\n"
          ],
          "name": "stdout"
        }
      ]
    },
    {
      "cell_type": "code",
      "metadata": {
        "id": "xmjDnv978yeO",
        "colab_type": "code",
        "colab": {}
      },
      "source": [
        ""
      ],
      "execution_count": 0,
      "outputs": []
    }
  ]
}