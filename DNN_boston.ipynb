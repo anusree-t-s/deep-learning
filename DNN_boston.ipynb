{
  "nbformat": 4,
  "nbformat_minor": 0,
  "metadata": {
    "colab": {
      "name": "DNN_boston.ipynb",
      "provenance": [],
      "authorship_tag": "ABX9TyPg8/zsugSt+NaN7EUZzFeA",
      "include_colab_link": true
    },
    "kernelspec": {
      "name": "python3",
      "display_name": "Python 3"
    }
  },
  "cells": [
    {
      "cell_type": "markdown",
      "metadata": {
        "id": "view-in-github",
        "colab_type": "text"
      },
      "source": [
        "<a href=\"https://colab.research.google.com/github/anusree-t-s/deep-learning/blob/master/DNN_boston.ipynb\" target=\"_parent\"><img src=\"https://colab.research.google.com/assets/colab-badge.svg\" alt=\"Open In Colab\"/></a>"
      ]
    },
    {
      "cell_type": "code",
      "metadata": {
        "id": "Wtc0eas6mV3b",
        "colab_type": "code",
        "colab": {}
      },
      "source": [
        "import numpy as np\n",
        "import pandas as pd\n",
        "import matplotlib.pyplot as plt"
      ],
      "execution_count": 0,
      "outputs": []
    },
    {
      "cell_type": "code",
      "metadata": {
        "id": "Zn2SWZ1sme8l",
        "colab_type": "code",
        "colab": {}
      },
      "source": [
        "from sklearn.datasets import load_boston\n",
        "import tensorflow as tf\n",
        "from tensorflow import keras"
      ],
      "execution_count": 0,
      "outputs": []
    },
    {
      "cell_type": "code",
      "metadata": {
        "id": "Rat1KoNTms45",
        "colab_type": "code",
        "colab": {}
      },
      "source": [
        "tf.random.set_random_seed(42)\n",
        "np.random.seed(42)"
      ],
      "execution_count": 0,
      "outputs": []
    },
    {
      "cell_type": "code",
      "metadata": {
        "id": "rgFTswRYmzlW",
        "colab_type": "code",
        "colab": {}
      },
      "source": [
        "bostonData = load_boston()"
      ],
      "execution_count": 0,
      "outputs": []
    },
    {
      "cell_type": "code",
      "metadata": {
        "id": "5EevJea0naSr",
        "colab_type": "code",
        "colab": {}
      },
      "source": [
        "X = bostonData.data\n",
        "y = bostonData.target"
      ],
      "execution_count": 0,
      "outputs": []
    },
    {
      "cell_type": "code",
      "metadata": {
        "id": "qN8bFDZ-ncsr",
        "colab_type": "code",
        "colab": {}
      },
      "source": [
        "from sklearn.model_selection import train_test_split\n",
        "X_train, X_test, y_train, y_test = train_test_split(X, y, test_size=0.2,random_state=42)"
      ],
      "execution_count": 0,
      "outputs": []
    },
    {
      "cell_type": "code",
      "metadata": {
        "id": "bFWNXyggngt7",
        "colab_type": "code",
        "outputId": "9efba027-8502-4d7b-e138-0fa0b528472c",
        "colab": {
          "base_uri": "https://localhost:8080/",
          "height": 34
        }
      },
      "source": [
        "from sklearn.preprocessing import StandardScaler\n",
        "sc = StandardScaler()\n",
        "sc.fit(X_train)"
      ],
      "execution_count": 0,
      "outputs": [
        {
          "output_type": "execute_result",
          "data": {
            "text/plain": [
              "StandardScaler(copy=True, with_mean=True, with_std=True)"
            ]
          },
          "metadata": {
            "tags": []
          },
          "execution_count": 14
        }
      ]
    },
    {
      "cell_type": "code",
      "metadata": {
        "id": "CBJol4zcnlym",
        "colab_type": "code",
        "colab": {}
      },
      "source": [
        "X_train_std = sc.transform(X_train)\n",
        "X_test_std = sc.transform(X_test)"
      ],
      "execution_count": 0,
      "outputs": []
    },
    {
      "cell_type": "code",
      "metadata": {
        "id": "VCiCCr3bnuCs",
        "colab_type": "code",
        "colab": {}
      },
      "source": [
        "model_DNN = keras.models.Sequential()"
      ],
      "execution_count": 0,
      "outputs": []
    },
    {
      "cell_type": "code",
      "metadata": {
        "id": "V1VRVfsNnw1y",
        "colab_type": "code",
        "outputId": "a14da52c-cf79-4bb9-d3ba-1f324faa8c75",
        "colab": {
          "base_uri": "https://localhost:8080/",
          "height": 89
        }
      },
      "source": [
        "# Hidden layer definitions\n",
        "model_DNN.add(keras.layers.Dense(units=15, activation='relu', input_shape=\n",
        "X_train.shape[1:]))\n",
        "model_DNN.add(keras.layers.Dense(units=12, activation='relu'))\n",
        "model_DNN.add(keras.layers.Dense(units=8, activation='relu'))\n",
        "model_DNN.add(keras.layers.Dense(units=4, activation='relu'))"
      ],
      "execution_count": 0,
      "outputs": [
        {
          "output_type": "stream",
          "text": [
            "WARNING:tensorflow:From /usr/local/lib/python3.6/dist-packages/tensorflow_core/python/ops/resource_variable_ops.py:1630: calling BaseResourceVariable.__init__ (from tensorflow.python.ops.resource_variable_ops) with constraint is deprecated and will be removed in a future version.\n",
            "Instructions for updating:\n",
            "If using Keras pass *_constraint arguments to layers.\n"
          ],
          "name": "stdout"
        }
      ]
    },
    {
      "cell_type": "code",
      "metadata": {
        "id": "zAabzmS6n1KJ",
        "colab_type": "code",
        "colab": {}
      },
      "source": [
        "# Output layer definitions\n",
        "model_DNN.add(keras.layers.Dense(units=1, activation='linear'))"
      ],
      "execution_count": 0,
      "outputs": []
    },
    {
      "cell_type": "code",
      "metadata": {
        "id": "-_6QRZcBn3rd",
        "colab_type": "code",
        "outputId": "1ea4c2a4-4189-4c3e-b9cc-c2d7ae944450",
        "colab": {
          "base_uri": "https://localhost:8080/",
          "height": 328
        }
      },
      "source": [
        "# Print the summary of network architecture\n",
        "model_DNN.summary()"
      ],
      "execution_count": 0,
      "outputs": [
        {
          "output_type": "stream",
          "text": [
            "Model: \"sequential\"\n",
            "_________________________________________________________________\n",
            "Layer (type)                 Output Shape              Param #   \n",
            "=================================================================\n",
            "dense (Dense)                (None, 15)                210       \n",
            "_________________________________________________________________\n",
            "dense_1 (Dense)              (None, 12)                192       \n",
            "_________________________________________________________________\n",
            "dense_2 (Dense)              (None, 8)                 104       \n",
            "_________________________________________________________________\n",
            "dense_3 (Dense)              (None, 4)                 36        \n",
            "_________________________________________________________________\n",
            "dense_4 (Dense)              (None, 1)                 5         \n",
            "=================================================================\n",
            "Total params: 547\n",
            "Trainable params: 547\n",
            "Non-trainable params: 0\n",
            "_________________________________________________________________\n"
          ],
          "name": "stdout"
        }
      ]
    },
    {
      "cell_type": "code",
      "metadata": {
        "id": "8Z2HZki7n6A4",
        "colab_type": "code",
        "colab": {}
      },
      "source": [
        "model_DNN.compile(loss='mse', optimizer='adam', metrics=['mae'])"
      ],
      "execution_count": 0,
      "outputs": []
    },
    {
      "cell_type": "code",
      "metadata": {
        "id": "Tc9E-0YtoQbf",
        "colab_type": "code",
        "outputId": "ad668bd6-5f78-4e3e-c664-97470f8e8d26",
        "colab": {
          "base_uri": "https://localhost:8080/",
          "height": 1000
        }
      },
      "source": [
        "model_DNN.fit(x=X_train_std, y=y_train, validation_split=0.1, epochs=50,\n",
        "batch_size=16)"
      ],
      "execution_count": 0,
      "outputs": [
        {
          "output_type": "stream",
          "text": [
            "Train on 363 samples, validate on 41 samples\n",
            "Epoch 1/50\n",
            "363/363 [==============================] - 0s 859us/sample - loss: 587.8250 - mean_absolute_error: 22.2886 - val_loss: 564.4608 - val_mean_absolute_error: 22.1622\n",
            "Epoch 2/50\n",
            "363/363 [==============================] - 0s 110us/sample - loss: 555.4638 - mean_absolute_error: 21.4992 - val_loss: 523.2274 - val_mean_absolute_error: 21.1861\n",
            "Epoch 3/50\n",
            "363/363 [==============================] - 0s 112us/sample - loss: 504.4762 - mean_absolute_error: 20.1878 - val_loss: 456.5944 - val_mean_absolute_error: 19.4673\n",
            "Epoch 4/50\n",
            "363/363 [==============================] - 0s 112us/sample - loss: 425.8463 - mean_absolute_error: 17.9179 - val_loss: 354.4549 - val_mean_absolute_error: 16.6917\n",
            "Epoch 5/50\n",
            "363/363 [==============================] - 0s 111us/sample - loss: 317.0617 - mean_absolute_error: 14.9520 - val_loss: 229.7201 - val_mean_absolute_error: 12.8407\n",
            "Epoch 6/50\n",
            "363/363 [==============================] - 0s 120us/sample - loss: 197.0675 - mean_absolute_error: 11.5353 - val_loss: 118.5387 - val_mean_absolute_error: 8.3265\n",
            "Epoch 7/50\n",
            "363/363 [==============================] - 0s 122us/sample - loss: 104.3644 - mean_absolute_error: 7.7644 - val_loss: 67.1115 - val_mean_absolute_error: 5.7447\n",
            "Epoch 8/50\n",
            "363/363 [==============================] - 0s 113us/sample - loss: 66.7304 - mean_absolute_error: 6.1639 - val_loss: 54.1973 - val_mean_absolute_error: 5.2311\n",
            "Epoch 9/50\n",
            "363/363 [==============================] - 0s 110us/sample - loss: 51.0694 - mean_absolute_error: 5.4258 - val_loss: 46.6980 - val_mean_absolute_error: 4.8491\n",
            "Epoch 10/50\n",
            "363/363 [==============================] - 0s 118us/sample - loss: 40.3915 - mean_absolute_error: 4.8743 - val_loss: 41.4498 - val_mean_absolute_error: 4.6118\n",
            "Epoch 11/50\n",
            "363/363 [==============================] - 0s 113us/sample - loss: 33.3772 - mean_absolute_error: 4.4168 - val_loss: 40.3844 - val_mean_absolute_error: 4.5426\n",
            "Epoch 12/50\n",
            "363/363 [==============================] - 0s 111us/sample - loss: 29.4352 - mean_absolute_error: 4.1363 - val_loss: 39.0680 - val_mean_absolute_error: 4.4420\n",
            "Epoch 13/50\n",
            "363/363 [==============================] - 0s 116us/sample - loss: 26.4586 - mean_absolute_error: 3.9119 - val_loss: 38.4294 - val_mean_absolute_error: 4.3787\n",
            "Epoch 14/50\n",
            "363/363 [==============================] - 0s 113us/sample - loss: 24.4984 - mean_absolute_error: 3.7464 - val_loss: 38.4419 - val_mean_absolute_error: 4.3290\n",
            "Epoch 15/50\n",
            "363/363 [==============================] - 0s 141us/sample - loss: 23.1715 - mean_absolute_error: 3.6578 - val_loss: 38.4851 - val_mean_absolute_error: 4.3113\n",
            "Epoch 16/50\n",
            "363/363 [==============================] - 0s 130us/sample - loss: 21.8213 - mean_absolute_error: 3.5519 - val_loss: 37.3464 - val_mean_absolute_error: 4.2675\n",
            "Epoch 17/50\n",
            "363/363 [==============================] - 0s 131us/sample - loss: 20.9858 - mean_absolute_error: 3.4724 - val_loss: 36.9431 - val_mean_absolute_error: 4.2237\n",
            "Epoch 18/50\n",
            "363/363 [==============================] - 0s 128us/sample - loss: 20.2515 - mean_absolute_error: 3.3895 - val_loss: 36.2429 - val_mean_absolute_error: 4.1708\n",
            "Epoch 19/50\n",
            "363/363 [==============================] - 0s 113us/sample - loss: 19.4026 - mean_absolute_error: 3.3463 - val_loss: 35.9411 - val_mean_absolute_error: 4.1434\n",
            "Epoch 20/50\n",
            "363/363 [==============================] - 0s 123us/sample - loss: 18.6916 - mean_absolute_error: 3.2885 - val_loss: 34.8380 - val_mean_absolute_error: 4.0811\n",
            "Epoch 21/50\n",
            "363/363 [==============================] - 0s 129us/sample - loss: 18.1076 - mean_absolute_error: 3.2203 - val_loss: 34.6395 - val_mean_absolute_error: 4.0504\n",
            "Epoch 22/50\n",
            "363/363 [==============================] - 0s 125us/sample - loss: 17.5314 - mean_absolute_error: 3.1650 - val_loss: 33.3865 - val_mean_absolute_error: 4.0083\n",
            "Epoch 23/50\n",
            "363/363 [==============================] - 0s 122us/sample - loss: 17.1380 - mean_absolute_error: 3.1113 - val_loss: 33.7307 - val_mean_absolute_error: 3.9741\n",
            "Epoch 24/50\n",
            "363/363 [==============================] - 0s 125us/sample - loss: 16.6664 - mean_absolute_error: 3.0894 - val_loss: 32.4957 - val_mean_absolute_error: 3.9120\n",
            "Epoch 25/50\n",
            "363/363 [==============================] - 0s 113us/sample - loss: 16.0430 - mean_absolute_error: 3.0171 - val_loss: 32.0377 - val_mean_absolute_error: 3.9085\n",
            "Epoch 26/50\n",
            "363/363 [==============================] - 0s 128us/sample - loss: 15.6235 - mean_absolute_error: 2.9727 - val_loss: 31.8304 - val_mean_absolute_error: 3.9000\n",
            "Epoch 27/50\n",
            "363/363 [==============================] - 0s 141us/sample - loss: 15.3631 - mean_absolute_error: 2.9194 - val_loss: 31.7256 - val_mean_absolute_error: 3.9089\n",
            "Epoch 28/50\n",
            "363/363 [==============================] - 0s 127us/sample - loss: 14.9388 - mean_absolute_error: 2.9179 - val_loss: 31.0881 - val_mean_absolute_error: 3.8828\n",
            "Epoch 29/50\n",
            "363/363 [==============================] - 0s 132us/sample - loss: 14.5903 - mean_absolute_error: 2.8567 - val_loss: 29.7778 - val_mean_absolute_error: 3.7885\n",
            "Epoch 30/50\n",
            "363/363 [==============================] - 0s 117us/sample - loss: 14.2498 - mean_absolute_error: 2.8064 - val_loss: 30.1321 - val_mean_absolute_error: 3.8279\n",
            "Epoch 31/50\n",
            "363/363 [==============================] - 0s 115us/sample - loss: 13.9222 - mean_absolute_error: 2.7817 - val_loss: 29.7399 - val_mean_absolute_error: 3.7809\n",
            "Epoch 32/50\n",
            "363/363 [==============================] - 0s 118us/sample - loss: 13.6653 - mean_absolute_error: 2.7524 - val_loss: 29.0958 - val_mean_absolute_error: 3.7895\n",
            "Epoch 33/50\n",
            "363/363 [==============================] - 0s 130us/sample - loss: 13.5636 - mean_absolute_error: 2.7083 - val_loss: 28.3072 - val_mean_absolute_error: 3.7088\n",
            "Epoch 34/50\n",
            "363/363 [==============================] - 0s 126us/sample - loss: 13.1391 - mean_absolute_error: 2.7071 - val_loss: 28.3801 - val_mean_absolute_error: 3.7302\n",
            "Epoch 35/50\n",
            "363/363 [==============================] - 0s 115us/sample - loss: 12.8704 - mean_absolute_error: 2.6768 - val_loss: 28.2548 - val_mean_absolute_error: 3.7228\n",
            "Epoch 36/50\n",
            "363/363 [==============================] - 0s 127us/sample - loss: 12.6852 - mean_absolute_error: 2.6351 - val_loss: 28.1765 - val_mean_absolute_error: 3.7092\n",
            "Epoch 37/50\n",
            "363/363 [==============================] - 0s 126us/sample - loss: 12.4375 - mean_absolute_error: 2.6307 - val_loss: 27.0328 - val_mean_absolute_error: 3.6433\n",
            "Epoch 38/50\n",
            "363/363 [==============================] - 0s 120us/sample - loss: 12.4042 - mean_absolute_error: 2.6160 - val_loss: 27.5559 - val_mean_absolute_error: 3.6868\n",
            "Epoch 39/50\n",
            "363/363 [==============================] - 0s 124us/sample - loss: 12.2026 - mean_absolute_error: 2.6078 - val_loss: 27.1691 - val_mean_absolute_error: 3.6769\n",
            "Epoch 40/50\n",
            "363/363 [==============================] - 0s 124us/sample - loss: 11.9991 - mean_absolute_error: 2.5618 - val_loss: 27.5663 - val_mean_absolute_error: 3.6789\n",
            "Epoch 41/50\n",
            "363/363 [==============================] - 0s 109us/sample - loss: 11.8435 - mean_absolute_error: 2.5614 - val_loss: 26.4741 - val_mean_absolute_error: 3.6219\n",
            "Epoch 42/50\n",
            "363/363 [==============================] - 0s 110us/sample - loss: 11.7301 - mean_absolute_error: 2.5355 - val_loss: 26.6530 - val_mean_absolute_error: 3.6144\n",
            "Epoch 43/50\n",
            "363/363 [==============================] - 0s 118us/sample - loss: 11.4801 - mean_absolute_error: 2.5165 - val_loss: 26.2607 - val_mean_absolute_error: 3.6195\n",
            "Epoch 44/50\n",
            "363/363 [==============================] - 0s 112us/sample - loss: 11.4550 - mean_absolute_error: 2.5390 - val_loss: 26.4111 - val_mean_absolute_error: 3.6369\n",
            "Epoch 45/50\n",
            "363/363 [==============================] - 0s 111us/sample - loss: 11.2680 - mean_absolute_error: 2.4885 - val_loss: 27.0113 - val_mean_absolute_error: 3.6815\n",
            "Epoch 46/50\n",
            "363/363 [==============================] - 0s 117us/sample - loss: 11.1812 - mean_absolute_error: 2.4856 - val_loss: 25.8426 - val_mean_absolute_error: 3.5712\n",
            "Epoch 47/50\n",
            "363/363 [==============================] - 0s 130us/sample - loss: 10.9823 - mean_absolute_error: 2.4384 - val_loss: 25.9444 - val_mean_absolute_error: 3.5956\n",
            "Epoch 48/50\n",
            "363/363 [==============================] - 0s 136us/sample - loss: 10.8945 - mean_absolute_error: 2.4598 - val_loss: 25.7996 - val_mean_absolute_error: 3.5599\n",
            "Epoch 49/50\n",
            "363/363 [==============================] - 0s 151us/sample - loss: 10.9041 - mean_absolute_error: 2.4655 - val_loss: 25.3200 - val_mean_absolute_error: 3.5827\n",
            "Epoch 50/50\n",
            "363/363 [==============================] - 0s 119us/sample - loss: 10.6805 - mean_absolute_error: 2.4302 - val_loss: 25.6612 - val_mean_absolute_error: 3.5509\n"
          ],
          "name": "stdout"
        },
        {
          "output_type": "execute_result",
          "data": {
            "text/plain": [
              "<tensorflow.python.keras.callbacks.History at 0x7fbfbdea4080>"
            ]
          },
          "metadata": {
            "tags": []
          },
          "execution_count": 21
        }
      ]
    },
    {
      "cell_type": "code",
      "metadata": {
        "id": "ygBvDqsjoTVr",
        "colab_type": "code",
        "outputId": "4b4e804b-6470-4e00-9328-a2ad61c35d75",
        "colab": {
          "base_uri": "https://localhost:8080/",
          "height": 34
        }
      },
      "source": [
        "test_loss, test_accuracy = model_DNN.evaluate(x=X_test_std, y=y_test)"
      ],
      "execution_count": 0,
      "outputs": [
        {
          "output_type": "stream",
          "text": [
            "102/102 [==============================] - 0s 100us/sample - loss: 15.5627 - mean_absolute_error: 2.7684\n"
          ],
          "name": "stdout"
        }
      ]
    },
    {
      "cell_type": "code",
      "metadata": {
        "id": "ghM0Ev6joWg_",
        "colab_type": "code",
        "outputId": "c77ad3c7-a685-428e-ff96-61397684a77a",
        "colab": {
          "base_uri": "https://localhost:8080/",
          "height": 34
        }
      },
      "source": [
        "print(test_loss, test_accuracy)"
      ],
      "execution_count": 0,
      "outputs": [
        {
          "output_type": "stream",
          "text": [
            "15.562705395268459 2.7683692\n"
          ],
          "name": "stdout"
        }
      ]
    },
    {
      "cell_type": "code",
      "metadata": {
        "id": "NJC1RD6WoZzI",
        "colab_type": "code",
        "colab": {}
      },
      "source": [
        ""
      ],
      "execution_count": 0,
      "outputs": []
    }
  ]
}