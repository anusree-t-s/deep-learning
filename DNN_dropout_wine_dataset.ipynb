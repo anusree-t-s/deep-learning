{
  "nbformat": 4,
  "nbformat_minor": 0,
  "metadata": {
    "colab": {
      "name": "DNN_dropout_wine dataset.ipynb",
      "provenance": [],
      "authorship_tag": "ABX9TyNGNEOzcyeEyZuxyZxYEN+m",
      "include_colab_link": true
    },
    "kernelspec": {
      "name": "python3",
      "display_name": "Python 3"
    }
  },
  "cells": [
    {
      "cell_type": "markdown",
      "metadata": {
        "id": "view-in-github",
        "colab_type": "text"
      },
      "source": [
        "<a href=\"https://colab.research.google.com/github/anusree-t-s/deep-learning/blob/master/DNN_dropout_wine_dataset.ipynb\" target=\"_parent\"><img src=\"https://colab.research.google.com/assets/colab-badge.svg\" alt=\"Open In Colab\"/></a>"
      ]
    },
    {
      "cell_type": "code",
      "metadata": {
        "id": "89MDKPY3nCpx",
        "colab_type": "code",
        "colab": {}
      },
      "source": [
        "import numpy as np\n",
        "import pandas as pd"
      ],
      "execution_count": 0,
      "outputs": []
    },
    {
      "cell_type": "code",
      "metadata": {
        "id": "WKeI-lnenb4_",
        "colab_type": "code",
        "colab": {}
      },
      "source": [
        "from sklearn.datasets import load_wine"
      ],
      "execution_count": 0,
      "outputs": []
    },
    {
      "cell_type": "code",
      "metadata": {
        "id": "dcgCbIiXneg_",
        "colab_type": "code",
        "outputId": "b142ea1d-9b43-4947-9b0e-a74c87a23886",
        "colab": {
          "base_uri": "https://localhost:8080/",
          "height": 63
        }
      },
      "source": [
        "import tensorflow as tf\n",
        "from tensorflow import keras"
      ],
      "execution_count": 0,
      "outputs": [
        {
          "output_type": "display_data",
          "data": {
            "text/html": [
              "<p style=\"color: red;\">\n",
              "The default version of TensorFlow in Colab will soon switch to TensorFlow 2.x.<br>\n",
              "We recommend you <a href=\"https://www.tensorflow.org/guide/migrate\" target=\"_blank\">upgrade</a> now \n",
              "or ensure your notebook will continue to use TensorFlow 1.x via the <code>%tensorflow_version 1.x</code> magic:\n",
              "<a href=\"https://colab.research.google.com/notebooks/tensorflow_version.ipynb\" target=\"_blank\">more info</a>.</p>\n"
            ],
            "text/plain": [
              "<IPython.core.display.HTML object>"
            ]
          },
          "metadata": {
            "tags": []
          }
        }
      ]
    },
    {
      "cell_type": "code",
      "metadata": {
        "id": "wBH0KnXPnghU",
        "colab_type": "code",
        "colab": {}
      },
      "source": [
        "import tensorflow as tf\n",
        "from tensorflow import keras"
      ],
      "execution_count": 0,
      "outputs": []
    },
    {
      "cell_type": "code",
      "metadata": {
        "id": "ajBZ8fpwnlNC",
        "colab_type": "code",
        "colab": {}
      },
      "source": [
        "# Loading the dataset\n",
        "wineData = load_wine()"
      ],
      "execution_count": 0,
      "outputs": []
    },
    {
      "cell_type": "code",
      "metadata": {
        "id": "fkoH6-1Vnn6T",
        "colab_type": "code",
        "colab": {}
      },
      "source": [
        "X = wineData.data\n",
        "y = wineData.target"
      ],
      "execution_count": 0,
      "outputs": []
    },
    {
      "cell_type": "code",
      "metadata": {
        "id": "Bc3gchVonp69",
        "colab_type": "code",
        "colab": {}
      },
      "source": [
        "from sklearn.model_selection import train_test_split"
      ],
      "execution_count": 0,
      "outputs": []
    },
    {
      "cell_type": "code",
      "metadata": {
        "id": "r35qx9GXnsMT",
        "colab_type": "code",
        "colab": {}
      },
      "source": [
        "X_train, X_test, y_train, y_test = train_test_split(X, y, test_size=0.2,stratify=y, random_state=42)"
      ],
      "execution_count": 0,
      "outputs": []
    },
    {
      "cell_type": "code",
      "metadata": {
        "id": "rIMt2ZJ9nvOY",
        "colab_type": "code",
        "colab": {}
      },
      "source": [
        "from sklearn.preprocessing import StandardScaler\n",
        "sc = StandardScaler()"
      ],
      "execution_count": 0,
      "outputs": []
    },
    {
      "cell_type": "code",
      "metadata": {
        "id": "1fpPFyuvnxTM",
        "colab_type": "code",
        "outputId": "f25fa9cb-b2f1-4f54-95b1-f5b724b96394",
        "colab": {
          "base_uri": "https://localhost:8080/",
          "height": 34
        }
      },
      "source": [
        "sc.fit(X_train)"
      ],
      "execution_count": 0,
      "outputs": [
        {
          "output_type": "execute_result",
          "data": {
            "text/plain": [
              "StandardScaler(copy=True, with_mean=True, with_std=True)"
            ]
          },
          "metadata": {
            "tags": []
          },
          "execution_count": 10
        }
      ]
    },
    {
      "cell_type": "code",
      "metadata": {
        "id": "nlo0bmhJnzH7",
        "colab_type": "code",
        "colab": {}
      },
      "source": [
        "X_train_std = sc.transform(X_train)\n",
        "X_test_std = sc.transform(X_test)"
      ],
      "execution_count": 0,
      "outputs": []
    },
    {
      "cell_type": "code",
      "metadata": {
        "id": "JxVf2Fean1Iv",
        "colab_type": "code",
        "colab": {}
      },
      "source": [
        "model_DNN = keras.models.Sequential()"
      ],
      "execution_count": 0,
      "outputs": []
    },
    {
      "cell_type": "code",
      "metadata": {
        "id": "ZQPSXKeNn3Dw",
        "colab_type": "code",
        "outputId": "c601ce7c-e63e-4a88-8767-eaab4f4a3ca3",
        "colab": {
          "base_uri": "https://localhost:8080/",
          "height": 89
        }
      },
      "source": [
        "model_DNN.add(keras.layers.Dense(units=15, activation='relu', input_shape=X_train.shape[1:]))"
      ],
      "execution_count": 0,
      "outputs": [
        {
          "output_type": "stream",
          "text": [
            "WARNING:tensorflow:From /usr/local/lib/python3.6/dist-packages/tensorflow_core/python/ops/resource_variable_ops.py:1630: calling BaseResourceVariable.__init__ (from tensorflow.python.ops.resource_variable_ops) with constraint is deprecated and will be removed in a future version.\n",
            "Instructions for updating:\n",
            "If using Keras pass *_constraint arguments to layers.\n"
          ],
          "name": "stdout"
        }
      ]
    },
    {
      "cell_type": "code",
      "metadata": {
        "id": "WVN2Ia9Cn5pJ",
        "colab_type": "code",
        "colab": {}
      },
      "source": [
        "# Dropout layer with 10% of nodes being discarded in each training step.\n",
        "model_DNN.add(keras.layers.Dropout(0.1))\n",
        "model_DNN.add(keras.layers.Dense(units=12, activation='relu'))\n",
        "# Dropout layer with 10% of nodes being discarded in each training step.\n",
        "model_DNN.add(keras.layers.Dropout(0.1))\n",
        "model_DNN.add(keras.layers.Dense(units=8, activation='relu'))\n",
        "model_DNN.add(keras.layers.Dense(units=4, activation='relu'))"
      ],
      "execution_count": 0,
      "outputs": []
    },
    {
      "cell_type": "code",
      "metadata": {
        "id": "aCutUHWNn7ps",
        "colab_type": "code",
        "colab": {}
      },
      "source": [
        "# Output layer definitions\n",
        "model_DNN.add(keras.layers.Dense(units=3, activation='softmax'))"
      ],
      "execution_count": 0,
      "outputs": []
    },
    {
      "cell_type": "code",
      "metadata": {
        "id": "OdtR7_QJoQN4",
        "colab_type": "code",
        "outputId": "112364df-b721-43db-c661-08f28fd0aa35",
        "colab": {
          "base_uri": "https://localhost:8080/",
          "height": 536
        }
      },
      "source": [
        "model_DNN.summary()"
      ],
      "execution_count": 0,
      "outputs": [
        {
          "output_type": "stream",
          "text": [
            "Model: \"sequential\"\n",
            "_________________________________________________________________\n",
            "Layer (type)                 Output Shape              Param #   \n",
            "=================================================================\n",
            "dense (Dense)                (None, 15)                210       \n",
            "_________________________________________________________________\n",
            "dropout (Dropout)            (None, 15)                0         \n",
            "_________________________________________________________________\n",
            "dropout_1 (Dropout)          (None, 15)                0         \n",
            "_________________________________________________________________\n",
            "dense_1 (Dense)              (None, 12)                192       \n",
            "_________________________________________________________________\n",
            "dropout_2 (Dropout)          (None, 12)                0         \n",
            "_________________________________________________________________\n",
            "dropout_3 (Dropout)          (None, 12)                0         \n",
            "_________________________________________________________________\n",
            "dense_2 (Dense)              (None, 12)                156       \n",
            "_________________________________________________________________\n",
            "dropout_4 (Dropout)          (None, 12)                0         \n",
            "_________________________________________________________________\n",
            "dense_3 (Dense)              (None, 8)                 104       \n",
            "_________________________________________________________________\n",
            "dense_4 (Dense)              (None, 4)                 36        \n",
            "_________________________________________________________________\n",
            "dense_5 (Dense)              (None, 3)                 15        \n",
            "=================================================================\n",
            "Total params: 713\n",
            "Trainable params: 713\n",
            "Non-trainable params: 0\n",
            "_________________________________________________________________\n"
          ],
          "name": "stdout"
        }
      ]
    },
    {
      "cell_type": "code",
      "metadata": {
        "id": "TYS54FGNoScO",
        "colab_type": "code",
        "colab": {}
      },
      "source": [
        "model_DNN.compile(loss='sparse_categorical_crossentropy',optimizer='adam', metrics=['accuracy'])"
      ],
      "execution_count": 0,
      "outputs": []
    },
    {
      "cell_type": "code",
      "metadata": {
        "id": "jFSo9XfGoWCt",
        "colab_type": "code",
        "outputId": "f28285a4-0372-4adf-a98c-c683ab535acd",
        "colab": {
          "base_uri": "https://localhost:8080/",
          "height": 1000
        }
      },
      "source": [
        "model_DNN.fit(x=X_train_std, y=y_train, validation_split=0.1, epochs=50,batch_size=16)"
      ],
      "execution_count": 0,
      "outputs": [
        {
          "output_type": "stream",
          "text": [
            "Train on 127 samples, validate on 15 samples\n",
            "Epoch 1/50\n",
            "127/127 [==============================] - 0s 3ms/sample - loss: 1.0975 - acc: 0.4016 - val_loss: 1.1141 - val_acc: 0.3333\n",
            "Epoch 2/50\n",
            "127/127 [==============================] - 0s 172us/sample - loss: 1.0858 - acc: 0.4646 - val_loss: 1.1034 - val_acc: 0.3333\n",
            "Epoch 3/50\n",
            "127/127 [==============================] - 0s 190us/sample - loss: 1.0733 - acc: 0.4409 - val_loss: 1.0988 - val_acc: 0.2667\n",
            "Epoch 4/50\n",
            "127/127 [==============================] - 0s 198us/sample - loss: 1.0440 - acc: 0.5197 - val_loss: 1.0949 - val_acc: 0.3333\n",
            "Epoch 5/50\n",
            "127/127 [==============================] - 0s 179us/sample - loss: 1.0381 - acc: 0.5039 - val_loss: 1.0860 - val_acc: 0.4000\n",
            "Epoch 6/50\n",
            "127/127 [==============================] - 0s 159us/sample - loss: 1.0240 - acc: 0.5039 - val_loss: 1.0698 - val_acc: 0.4000\n",
            "Epoch 7/50\n",
            "127/127 [==============================] - 0s 200us/sample - loss: 0.9866 - acc: 0.5512 - val_loss: 1.0444 - val_acc: 0.4667\n",
            "Epoch 8/50\n",
            "127/127 [==============================] - 0s 166us/sample - loss: 0.9642 - acc: 0.5984 - val_loss: 1.0193 - val_acc: 0.4667\n",
            "Epoch 9/50\n",
            "127/127 [==============================] - 0s 206us/sample - loss: 0.9099 - acc: 0.6299 - val_loss: 0.9942 - val_acc: 0.4667\n",
            "Epoch 10/50\n",
            "127/127 [==============================] - 0s 200us/sample - loss: 0.9013 - acc: 0.5512 - val_loss: 0.9615 - val_acc: 0.4667\n",
            "Epoch 11/50\n",
            "127/127 [==============================] - 0s 182us/sample - loss: 0.8873 - acc: 0.5669 - val_loss: 0.9285 - val_acc: 0.4667\n",
            "Epoch 12/50\n",
            "127/127 [==============================] - 0s 171us/sample - loss: 0.8356 - acc: 0.6142 - val_loss: 0.8952 - val_acc: 0.4667\n",
            "Epoch 13/50\n",
            "127/127 [==============================] - 0s 202us/sample - loss: 0.7882 - acc: 0.6063 - val_loss: 0.8590 - val_acc: 0.4667\n",
            "Epoch 14/50\n",
            "127/127 [==============================] - 0s 186us/sample - loss: 0.7854 - acc: 0.6063 - val_loss: 0.8272 - val_acc: 0.4667\n",
            "Epoch 15/50\n",
            "127/127 [==============================] - 0s 163us/sample - loss: 0.7149 - acc: 0.6299 - val_loss: 0.7994 - val_acc: 0.8000\n",
            "Epoch 16/50\n",
            "127/127 [==============================] - 0s 202us/sample - loss: 0.7413 - acc: 0.7087 - val_loss: 0.7722 - val_acc: 0.8667\n",
            "Epoch 17/50\n",
            "127/127 [==============================] - 0s 161us/sample - loss: 0.6702 - acc: 0.7480 - val_loss: 0.7414 - val_acc: 0.8667\n",
            "Epoch 18/50\n",
            "127/127 [==============================] - 0s 165us/sample - loss: 0.6221 - acc: 0.7953 - val_loss: 0.7083 - val_acc: 0.8667\n",
            "Epoch 19/50\n",
            "127/127 [==============================] - 0s 209us/sample - loss: 0.6311 - acc: 0.8268 - val_loss: 0.6804 - val_acc: 0.8667\n",
            "Epoch 20/50\n",
            "127/127 [==============================] - 0s 159us/sample - loss: 0.6378 - acc: 0.7953 - val_loss: 0.6584 - val_acc: 0.8667\n",
            "Epoch 21/50\n",
            "127/127 [==============================] - 0s 219us/sample - loss: 0.5972 - acc: 0.8268 - val_loss: 0.6489 - val_acc: 0.8667\n",
            "Epoch 22/50\n",
            "127/127 [==============================] - 0s 185us/sample - loss: 0.5397 - acc: 0.8346 - val_loss: 0.6364 - val_acc: 0.8667\n",
            "Epoch 23/50\n",
            "127/127 [==============================] - 0s 182us/sample - loss: 0.6043 - acc: 0.8031 - val_loss: 0.6095 - val_acc: 0.8667\n",
            "Epoch 24/50\n",
            "127/127 [==============================] - 0s 168us/sample - loss: 0.4878 - acc: 0.8898 - val_loss: 0.5844 - val_acc: 0.9333\n",
            "Epoch 25/50\n",
            "127/127 [==============================] - 0s 197us/sample - loss: 0.5062 - acc: 0.8976 - val_loss: 0.5677 - val_acc: 0.9333\n",
            "Epoch 26/50\n",
            "127/127 [==============================] - 0s 187us/sample - loss: 0.5181 - acc: 0.8504 - val_loss: 0.5500 - val_acc: 0.9333\n",
            "Epoch 27/50\n",
            "127/127 [==============================] - 0s 201us/sample - loss: 0.4956 - acc: 0.8819 - val_loss: 0.5373 - val_acc: 0.9333\n",
            "Epoch 28/50\n",
            "127/127 [==============================] - 0s 190us/sample - loss: 0.4851 - acc: 0.8740 - val_loss: 0.5221 - val_acc: 1.0000\n",
            "Epoch 29/50\n",
            "127/127 [==============================] - 0s 174us/sample - loss: 0.4957 - acc: 0.8898 - val_loss: 0.5107 - val_acc: 1.0000\n",
            "Epoch 30/50\n",
            "127/127 [==============================] - 0s 155us/sample - loss: 0.4993 - acc: 0.8976 - val_loss: 0.4974 - val_acc: 1.0000\n",
            "Epoch 31/50\n",
            "127/127 [==============================] - 0s 192us/sample - loss: 0.4205 - acc: 0.9055 - val_loss: 0.4890 - val_acc: 1.0000\n",
            "Epoch 32/50\n",
            "127/127 [==============================] - 0s 172us/sample - loss: 0.3890 - acc: 0.9291 - val_loss: 0.4824 - val_acc: 1.0000\n",
            "Epoch 33/50\n",
            "127/127 [==============================] - 0s 192us/sample - loss: 0.3805 - acc: 0.9449 - val_loss: 0.4746 - val_acc: 1.0000\n",
            "Epoch 34/50\n",
            "127/127 [==============================] - 0s 187us/sample - loss: 0.4295 - acc: 0.9134 - val_loss: 0.4681 - val_acc: 1.0000\n",
            "Epoch 35/50\n",
            "127/127 [==============================] - 0s 247us/sample - loss: 0.3970 - acc: 0.9213 - val_loss: 0.4585 - val_acc: 1.0000\n",
            "Epoch 36/50\n",
            "127/127 [==============================] - 0s 181us/sample - loss: 0.4325 - acc: 0.9213 - val_loss: 0.4509 - val_acc: 1.0000\n",
            "Epoch 37/50\n",
            "127/127 [==============================] - 0s 181us/sample - loss: 0.3907 - acc: 0.9449 - val_loss: 0.4422 - val_acc: 1.0000\n",
            "Epoch 38/50\n",
            "127/127 [==============================] - 0s 170us/sample - loss: 0.3654 - acc: 0.9370 - val_loss: 0.4355 - val_acc: 1.0000\n",
            "Epoch 39/50\n",
            "127/127 [==============================] - 0s 174us/sample - loss: 0.3360 - acc: 0.9685 - val_loss: 0.4305 - val_acc: 1.0000\n",
            "Epoch 40/50\n",
            "127/127 [==============================] - 0s 159us/sample - loss: 0.3401 - acc: 0.9370 - val_loss: 0.4246 - val_acc: 1.0000\n",
            "Epoch 41/50\n",
            "127/127 [==============================] - 0s 192us/sample - loss: 0.3270 - acc: 0.9685 - val_loss: 0.4197 - val_acc: 1.0000\n",
            "Epoch 42/50\n",
            "127/127 [==============================] - 0s 204us/sample - loss: 0.3702 - acc: 0.9213 - val_loss: 0.4153 - val_acc: 1.0000\n",
            "Epoch 43/50\n",
            "127/127 [==============================] - 0s 163us/sample - loss: 0.4303 - acc: 0.9291 - val_loss: 0.4112 - val_acc: 1.0000\n",
            "Epoch 44/50\n",
            "127/127 [==============================] - 0s 163us/sample - loss: 0.3535 - acc: 0.9370 - val_loss: 0.4071 - val_acc: 1.0000\n",
            "Epoch 45/50\n",
            "127/127 [==============================] - 0s 170us/sample - loss: 0.3686 - acc: 0.9449 - val_loss: 0.4031 - val_acc: 1.0000\n",
            "Epoch 46/50\n",
            "127/127 [==============================] - 0s 207us/sample - loss: 0.3663 - acc: 0.9449 - val_loss: 0.3992 - val_acc: 1.0000\n",
            "Epoch 47/50\n",
            "127/127 [==============================] - 0s 180us/sample - loss: 0.3242 - acc: 0.9685 - val_loss: 0.3950 - val_acc: 1.0000\n",
            "Epoch 48/50\n",
            "127/127 [==============================] - 0s 190us/sample - loss: 0.3345 - acc: 0.9528 - val_loss: 0.3911 - val_acc: 1.0000\n",
            "Epoch 49/50\n",
            "127/127 [==============================] - 0s 206us/sample - loss: 0.2954 - acc: 0.9685 - val_loss: 0.3871 - val_acc: 1.0000\n",
            "Epoch 50/50\n",
            "127/127 [==============================] - 0s 175us/sample - loss: 0.3216 - acc: 0.9528 - val_loss: 0.3831 - val_acc: 1.0000\n"
          ],
          "name": "stdout"
        },
        {
          "output_type": "execute_result",
          "data": {
            "text/plain": [
              "<tensorflow.python.keras.callbacks.History at 0x7f5836977d68>"
            ]
          },
          "metadata": {
            "tags": []
          },
          "execution_count": 20
        }
      ]
    },
    {
      "cell_type": "code",
      "metadata": {
        "id": "Ag4GvMbXoYwT",
        "colab_type": "code",
        "outputId": "6c4ecc36-d681-4814-a28b-23df12cf385b",
        "colab": {
          "base_uri": "https://localhost:8080/",
          "height": 34
        }
      },
      "source": [
        "test_loss, test_accuracy = model_DNN.evaluate(x=X_test_std, y=y_test)"
      ],
      "execution_count": 0,
      "outputs": [
        {
          "output_type": "stream",
          "text": [
            "36/36 [==============================] - 0s 307us/sample - loss: 0.3470 - acc: 0.9444\n"
          ],
          "name": "stdout"
        }
      ]
    },
    {
      "cell_type": "code",
      "metadata": {
        "id": "esehjxzcobEQ",
        "colab_type": "code",
        "outputId": "f781b5a1-6a71-4f2c-ffe2-508048d45964",
        "colab": {
          "base_uri": "https://localhost:8080/",
          "height": 34
        }
      },
      "source": [
        "print(test_loss, test_accuracy)"
      ],
      "execution_count": 0,
      "outputs": [
        {
          "output_type": "stream",
          "text": [
            "0.34696732627020943 0.9444444\n"
          ],
          "name": "stdout"
        }
      ]
    },
    {
      "cell_type": "code",
      "metadata": {
        "id": "_DKWPQ2Ioc1Z",
        "colab_type": "code",
        "colab": {}
      },
      "source": [
        ""
      ],
      "execution_count": 0,
      "outputs": []
    }
  ]
}