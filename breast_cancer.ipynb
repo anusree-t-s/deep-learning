{
  "nbformat": 4,
  "nbformat_minor": 0,
  "metadata": {
    "colab": {
      "name": "breast_cancer.ipynb",
      "provenance": [],
      "include_colab_link": true
    },
    "kernelspec": {
      "name": "python3",
      "display_name": "Python 3"
    }
  },
  "cells": [
    {
      "cell_type": "markdown",
      "metadata": {
        "id": "view-in-github",
        "colab_type": "text"
      },
      "source": [
        "<a href=\"https://colab.research.google.com/github/anusree-t-s/deep-learning/blob/master/breast_cancer.ipynb\" target=\"_parent\"><img src=\"https://colab.research.google.com/assets/colab-badge.svg\" alt=\"Open In Colab\"/></a>"
      ]
    },
    {
      "cell_type": "code",
      "metadata": {
        "id": "gteLxuipTRAz",
        "colab_type": "code",
        "colab": {}
      },
      "source": [
        "import numpy as np\n",
        "import pandas as pd\n",
        "import matplotlib.pyplot as plt"
      ],
      "execution_count": 0,
      "outputs": []
    },
    {
      "cell_type": "code",
      "metadata": {
        "id": "vgWdiMDeTkrv",
        "colab_type": "code",
        "colab": {}
      },
      "source": [
        "from sklearn.datasets import load_breast_cancer"
      ],
      "execution_count": 0,
      "outputs": []
    },
    {
      "cell_type": "code",
      "metadata": {
        "id": "12TWV5DbUCgK",
        "colab_type": "code",
        "outputId": "f9ed1c01-6f05-4961-e9be-b8f8f83d925e",
        "colab": {
          "base_uri": "https://localhost:8080/",
          "height": 54
        }
      },
      "source": [
        "cancerDataset = load_breast_cancer()\n",
        "X = cancerDataset.data\n",
        "y = cancerDataset.target\n",
        "cancerDataset.DESCR\n"
      ],
      "execution_count": 17,
      "outputs": [
        {
          "output_type": "execute_result",
          "data": {
            "text/plain": [
              "'.. _breast_cancer_dataset:\\n\\nBreast cancer wisconsin (diagnostic) dataset\\n--------------------------------------------\\n\\n**Data Set Characteristics:**\\n\\n    :Number of Instances: 569\\n\\n    :Number of Attributes: 30 numeric, predictive attributes and the class\\n\\n    :Attribute Information:\\n        - radius (mean of distances from center to points on the perimeter)\\n        - texture (standard deviation of gray-scale values)\\n        - perimeter\\n        - area\\n        - smoothness (local variation in radius lengths)\\n        - compactness (perimeter^2 / area - 1.0)\\n        - concavity (severity of concave portions of the contour)\\n        - concave points (number of concave portions of the contour)\\n        - symmetry \\n        - fractal dimension (\"coastline approximation\" - 1)\\n\\n        The mean, standard error, and \"worst\" or largest (mean of the three\\n        largest values) of these features were computed for each image,\\n        resulting in 30 features.  For instance, field 3 is Mean Radius, field\\n        13 is Radius SE, field 23 is Worst Radius.\\n\\n        - class:\\n                - WDBC-Malignant\\n                - WDBC-Benign\\n\\n    :Summary Statistics:\\n\\n    ===================================== ====== ======\\n                                           Min    Max\\n    ===================================== ====== ======\\n    radius (mean):                        6.981  28.11\\n    texture (mean):                       9.71   39.28\\n    perimeter (mean):                     43.79  188.5\\n    area (mean):                          143.5  2501.0\\n    smoothness (mean):                    0.053  0.163\\n    compactness (mean):                   0.019  0.345\\n    concavity (mean):                     0.0    0.427\\n    concave points (mean):                0.0    0.201\\n    symmetry (mean):                      0.106  0.304\\n    fractal dimension (mean):             0.05   0.097\\n    radius (standard error):              0.112  2.873\\n    texture (standard error):             0.36   4.885\\n    perimeter (standard error):           0.757  21.98\\n    area (standard error):                6.802  542.2\\n    smoothness (standard error):          0.002  0.031\\n    compactness (standard error):         0.002  0.135\\n    concavity (standard error):           0.0    0.396\\n    concave points (standard error):      0.0    0.053\\n    symmetry (standard error):            0.008  0.079\\n    fractal dimension (standard error):   0.001  0.03\\n    radius (worst):                       7.93   36.04\\n    texture (worst):                      12.02  49.54\\n    perimeter (worst):                    50.41  251.2\\n    area (worst):                         185.2  4254.0\\n    smoothness (worst):                   0.071  0.223\\n    compactness (worst):                  0.027  1.058\\n    concavity (worst):                    0.0    1.252\\n    concave points (worst):               0.0    0.291\\n    symmetry (worst):                     0.156  0.664\\n    fractal dimension (worst):            0.055  0.208\\n    ===================================== ====== ======\\n\\n    :Missing Attribute Values: None\\n\\n    :Class Distribution: 212 - Malignant, 357 - Benign\\n\\n    :Creator:  Dr. William H. Wolberg, W. Nick Street, Olvi L. Mangasarian\\n\\n    :Donor: Nick Street\\n\\n    :Date: November, 1995\\n\\nThis is a copy of UCI ML Breast Cancer Wisconsin (Diagnostic) datasets.\\nhttps://goo.gl/U2Uwz2\\n\\nFeatures are computed from a digitized image of a fine needle\\naspirate (FNA) of a breast mass.  They describe\\ncharacteristics of the cell nuclei present in the image.\\n\\nSeparating plane described above was obtained using\\nMultisurface Method-Tree (MSM-T) [K. P. Bennett, \"Decision Tree\\nConstruction Via Linear Programming.\" Proceedings of the 4th\\nMidwest Artificial Intelligence and Cognitive Science Society,\\npp. 97-101, 1992], a classification method which uses linear\\nprogramming to construct a decision tree.  Relevant features\\nwere selected using an exhaustive search in the space of 1-4\\nfeatures and 1-3 separating planes.\\n\\nThe actual linear program used to obtain the separating plane\\nin the 3-dimensional space is that described in:\\n[K. P. Bennett and O. L. Mangasarian: \"Robust Linear\\nProgramming Discrimination of Two Linearly Inseparable Sets\",\\nOptimization Methods and Software 1, 1992, 23-34].\\n\\nThis database is also available through the UW CS ftp server:\\n\\nftp ftp.cs.wisc.edu\\ncd math-prog/cpo-dataset/machine-learn/WDBC/\\n\\n.. topic:: References\\n\\n   - W.N. Street, W.H. Wolberg and O.L. Mangasarian. Nuclear feature extraction \\n     for breast tumor diagnosis. IS&T/SPIE 1993 International Symposium on \\n     Electronic Imaging: Science and Technology, volume 1905, pages 861-870,\\n     San Jose, CA, 1993.\\n   - O.L. Mangasarian, W.N. Street and W.H. Wolberg. Breast cancer diagnosis and \\n     prognosis via linear programming. Operations Research, 43(4), pages 570-577, \\n     July-August 1995.\\n   - W.H. Wolberg, W.N. Street, and O.L. Mangasarian. Machine learning techniques\\n     to diagnose breast cancer from fine-needle aspirates. Cancer Letters 77 (1994) \\n     163-171.'"
            ]
          },
          "metadata": {
            "tags": []
          },
          "execution_count": 17
        }
      ]
    },
    {
      "cell_type": "code",
      "metadata": {
        "id": "zbeBBiPSUKAg",
        "colab_type": "code",
        "colab": {}
      },
      "source": [
        "from sklearn.model_selection import train_test_split\n",
        "X_train, X_test, y_train, y_test = train_test_split(X, y, test_size=0.275,stratify=y, random_state=42)\n",
        "from sklearn.preprocessing import StandardScaler\n",
        "sc = StandardScaler()\n",
        "sc.fit(X_train)\n",
        "X_train_std = sc.transform(X_train)\n",
        "X_test_std = sc.transform(X_test)\n"
      ],
      "execution_count": 0,
      "outputs": []
    },
    {
      "cell_type": "markdown",
      "metadata": {
        "id": "McX276mw_axl",
        "colab_type": "text"
      },
      "source": [
        "## perceptron"
      ]
    },
    {
      "cell_type": "code",
      "metadata": {
        "id": "PFrUGA1596rR",
        "colab_type": "code",
        "colab": {
          "base_uri": "https://localhost:8080/",
          "height": 86
        },
        "outputId": "3271fe14-d812-4f0c-ad54-2767e60577f0"
      },
      "source": [
        "from sklearn.linear_model import Perceptron\n",
        "perceptronClassifier = Perceptron(alpha=.1,max_iter=1000, n_iter_no_change=5)\n",
        "perceptronClassifier.fit(X_train, y_train)"
      ],
      "execution_count": 24,
      "outputs": [
        {
          "output_type": "execute_result",
          "data": {
            "text/plain": [
              "Perceptron(alpha=0.1, class_weight=None, early_stopping=False, eta0=1.0,\n",
              "           fit_intercept=True, max_iter=1000, n_iter_no_change=5, n_jobs=None,\n",
              "           penalty=None, random_state=0, shuffle=True, tol=0.001,\n",
              "           validation_fraction=0.1, verbose=0, warm_start=False)"
            ]
          },
          "metadata": {
            "tags": []
          },
          "execution_count": 24
        }
      ]
    },
    {
      "cell_type": "code",
      "metadata": {
        "id": "AGWU6wiN96n8",
        "colab_type": "code",
        "colab": {
          "base_uri": "https://localhost:8080/",
          "height": 34
        },
        "outputId": "27925852-8dfd-4c1b-e249-39466c267cae"
      },
      "source": [
        "print(perceptronClassifier.score(X_test, y_test))"
      ],
      "execution_count": 25,
      "outputs": [
        {
          "output_type": "stream",
          "text": [
            "0.910828025477707\n"
          ],
          "name": "stdout"
        }
      ]
    },
    {
      "cell_type": "markdown",
      "metadata": {
        "id": "4s2HskW0_nBK",
        "colab_type": "text"
      },
      "source": [
        "# MLP"
      ]
    },
    {
      "cell_type": "code",
      "metadata": {
        "id": "DeZUaT1-96me",
        "colab_type": "code",
        "colab": {}
      },
      "source": [
        "from sklearn.neural_network import MLPClassifier\n",
        "model=MLPClassifier(activation='relu')"
      ],
      "execution_count": 0,
      "outputs": []
    },
    {
      "cell_type": "code",
      "metadata": {
        "id": "V-cJWmFC96i6",
        "colab_type": "code",
        "colab": {
          "base_uri": "https://localhost:8080/",
          "height": 155
        },
        "outputId": "dc483949-9b64-488e-e327-e580c1f863e1"
      },
      "source": [
        "model.fit(X_train,y_train)"
      ],
      "execution_count": 28,
      "outputs": [
        {
          "output_type": "execute_result",
          "data": {
            "text/plain": [
              "MLPClassifier(activation='relu', alpha=0.0001, batch_size='auto', beta_1=0.9,\n",
              "              beta_2=0.999, early_stopping=False, epsilon=1e-08,\n",
              "              hidden_layer_sizes=(100,), learning_rate='constant',\n",
              "              learning_rate_init=0.001, max_fun=15000, max_iter=200,\n",
              "              momentum=0.9, n_iter_no_change=10, nesterovs_momentum=True,\n",
              "              power_t=0.5, random_state=None, shuffle=True, solver='adam',\n",
              "              tol=0.0001, validation_fraction=0.1, verbose=False,\n",
              "              warm_start=False)"
            ]
          },
          "metadata": {
            "tags": []
          },
          "execution_count": 28
        }
      ]
    },
    {
      "cell_type": "code",
      "metadata": {
        "id": "8lNhzxP396hY",
        "colab_type": "code",
        "colab": {
          "base_uri": "https://localhost:8080/",
          "height": 34
        },
        "outputId": "202c6301-5da4-4236-f7b1-9ce7a5dabb72"
      },
      "source": [
        "pred=model.predict(X_test)\n",
        "print(model.score(X_test,y_test))"
      ],
      "execution_count": 31,
      "outputs": [
        {
          "output_type": "stream",
          "text": [
            "0.9235668789808917\n"
          ],
          "name": "stdout"
        }
      ]
    },
    {
      "cell_type": "markdown",
      "metadata": {
        "id": "NoZSXYeZ937I",
        "colab_type": "text"
      },
      "source": [
        "## keras"
      ]
    },
    {
      "cell_type": "code",
      "metadata": {
        "id": "BUTde3OK-udr",
        "colab_type": "code",
        "colab": {}
      },
      "source": [
        "import tensorflow as tf\n",
        "from tensorflow import keras"
      ],
      "execution_count": 0,
      "outputs": []
    },
    {
      "cell_type": "code",
      "metadata": {
        "id": "QWZhPVtA-uaP",
        "colab_type": "code",
        "colab": {}
      },
      "source": [
        "tf.set_random_seed(42)\n",
        "np.random.seed(42)"
      ],
      "execution_count": 0,
      "outputs": []
    },
    {
      "cell_type": "code",
      "metadata": {
        "id": "LafAiUpKVKNO",
        "colab_type": "code",
        "outputId": "481beb84-9a88-4a6f-d86e-cd8a102ea9dd",
        "colab": {
          "base_uri": "https://localhost:8080/",
          "height": 1000
        }
      },
      "source": [
        "model_MLP = keras.models.Sequential()\n",
        "model_MLP.add(keras.layers.Dense(units=5, activation='relu',input_shape= X_train.shape[1:]))\n",
        "model_MLP.add(keras.layers.Dense(units=1, activation='sigmoid'))\n",
        "\n",
        "\n",
        "model_MLP.summary()\n",
        "\n",
        "model_MLP.compile(loss='binary_crossentropy', optimizer='adam',metrics=['accuracy'])\n",
        "model_MLP.fit(x=X_train_std, y=y_train, validation_split=0.1,epochs=50, batch_size=16)\n",
        "test_loss, test_accuracy = model_MLP.evaluate(x=X_test_std, y=y_test)\n",
        "print(test_loss, test_accuracy)"
      ],
      "execution_count": 7,
      "outputs": [
        {
          "output_type": "stream",
          "text": [
            "WARNING:tensorflow:From /usr/local/lib/python3.6/dist-packages/tensorflow_core/python/ops/resource_variable_ops.py:1630: calling BaseResourceVariable.__init__ (from tensorflow.python.ops.resource_variable_ops) with constraint is deprecated and will be removed in a future version.\n",
            "Instructions for updating:\n",
            "If using Keras pass *_constraint arguments to layers.\n",
            "Model: \"sequential\"\n",
            "_________________________________________________________________\n",
            "Layer (type)                 Output Shape              Param #   \n",
            "=================================================================\n",
            "dense (Dense)                (None, 5)                 155       \n",
            "_________________________________________________________________\n",
            "dense_1 (Dense)              (None, 1)                 6         \n",
            "=================================================================\n",
            "Total params: 161\n",
            "Trainable params: 161\n",
            "Non-trainable params: 0\n",
            "_________________________________________________________________\n",
            "WARNING:tensorflow:From /usr/local/lib/python3.6/dist-packages/tensorflow_core/python/ops/nn_impl.py:183: where (from tensorflow.python.ops.array_ops) is deprecated and will be removed in a future version.\n",
            "Instructions for updating:\n",
            "Use tf.where in 2.0, which has the same broadcast rule as np.where\n",
            "Train on 409 samples, validate on 46 samples\n",
            "Epoch 1/50\n",
            "409/409 [==============================] - 0s 664us/sample - loss: 1.1692 - acc: 0.3521 - val_loss: 1.0637 - val_acc: 0.2826\n",
            "Epoch 2/50\n",
            "409/409 [==============================] - 0s 94us/sample - loss: 0.9171 - acc: 0.4645 - val_loss: 0.8714 - val_acc: 0.3696\n",
            "Epoch 3/50\n",
            "409/409 [==============================] - 0s 86us/sample - loss: 0.7263 - acc: 0.5746 - val_loss: 0.7354 - val_acc: 0.4565\n",
            "Epoch 4/50\n",
            "409/409 [==============================] - 0s 91us/sample - loss: 0.5894 - acc: 0.6601 - val_loss: 0.6418 - val_acc: 0.5000\n",
            "Epoch 5/50\n",
            "409/409 [==============================] - 0s 104us/sample - loss: 0.4915 - acc: 0.7237 - val_loss: 0.5690 - val_acc: 0.5652\n",
            "Epoch 6/50\n",
            "409/409 [==============================] - 0s 95us/sample - loss: 0.4240 - acc: 0.7579 - val_loss: 0.5122 - val_acc: 0.6304\n",
            "Epoch 7/50\n",
            "409/409 [==============================] - 0s 93us/sample - loss: 0.3732 - acc: 0.7873 - val_loss: 0.4720 - val_acc: 0.6304\n",
            "Epoch 8/50\n",
            "409/409 [==============================] - 0s 87us/sample - loss: 0.3365 - acc: 0.8166 - val_loss: 0.4395 - val_acc: 0.6957\n",
            "Epoch 9/50\n",
            "409/409 [==============================] - 0s 99us/sample - loss: 0.3081 - acc: 0.8313 - val_loss: 0.4088 - val_acc: 0.7174\n",
            "Epoch 10/50\n",
            "409/409 [==============================] - 0s 101us/sample - loss: 0.2842 - acc: 0.8557 - val_loss: 0.3806 - val_acc: 0.7826\n",
            "Epoch 11/50\n",
            "409/409 [==============================] - 0s 102us/sample - loss: 0.2621 - acc: 0.8973 - val_loss: 0.3522 - val_acc: 0.8696\n",
            "Epoch 12/50\n",
            "409/409 [==============================] - 0s 113us/sample - loss: 0.2414 - acc: 0.9242 - val_loss: 0.3304 - val_acc: 0.8696\n",
            "Epoch 13/50\n",
            "409/409 [==============================] - 0s 106us/sample - loss: 0.2238 - acc: 0.9267 - val_loss: 0.3051 - val_acc: 0.8696\n",
            "Epoch 14/50\n",
            "409/409 [==============================] - 0s 102us/sample - loss: 0.2074 - acc: 0.9364 - val_loss: 0.2824 - val_acc: 0.8696\n",
            "Epoch 15/50\n",
            "409/409 [==============================] - 0s 95us/sample - loss: 0.1936 - acc: 0.9389 - val_loss: 0.2633 - val_acc: 0.8913\n",
            "Epoch 16/50\n",
            "409/409 [==============================] - 0s 95us/sample - loss: 0.1810 - acc: 0.9413 - val_loss: 0.2472 - val_acc: 0.8913\n",
            "Epoch 17/50\n",
            "409/409 [==============================] - 0s 109us/sample - loss: 0.1703 - acc: 0.9438 - val_loss: 0.2350 - val_acc: 0.9130\n",
            "Epoch 18/50\n",
            "409/409 [==============================] - 0s 99us/sample - loss: 0.1613 - acc: 0.9413 - val_loss: 0.2241 - val_acc: 0.9130\n",
            "Epoch 19/50\n",
            "409/409 [==============================] - 0s 93us/sample - loss: 0.1535 - acc: 0.9462 - val_loss: 0.2142 - val_acc: 0.9348\n",
            "Epoch 20/50\n",
            "409/409 [==============================] - 0s 96us/sample - loss: 0.1466 - acc: 0.9487 - val_loss: 0.2055 - val_acc: 0.9348\n",
            "Epoch 21/50\n",
            "409/409 [==============================] - 0s 95us/sample - loss: 0.1408 - acc: 0.9511 - val_loss: 0.1972 - val_acc: 0.9348\n",
            "Epoch 22/50\n",
            "409/409 [==============================] - 0s 96us/sample - loss: 0.1352 - acc: 0.9535 - val_loss: 0.1899 - val_acc: 0.9348\n",
            "Epoch 23/50\n",
            "409/409 [==============================] - 0s 96us/sample - loss: 0.1305 - acc: 0.9560 - val_loss: 0.1832 - val_acc: 0.9348\n",
            "Epoch 24/50\n",
            "409/409 [==============================] - 0s 96us/sample - loss: 0.1260 - acc: 0.9560 - val_loss: 0.1756 - val_acc: 0.9348\n",
            "Epoch 25/50\n",
            "409/409 [==============================] - 0s 98us/sample - loss: 0.1218 - acc: 0.9609 - val_loss: 0.1699 - val_acc: 0.9348\n",
            "Epoch 26/50\n",
            "409/409 [==============================] - 0s 90us/sample - loss: 0.1181 - acc: 0.9609 - val_loss: 0.1633 - val_acc: 0.9348\n",
            "Epoch 27/50\n",
            "409/409 [==============================] - 0s 100us/sample - loss: 0.1145 - acc: 0.9609 - val_loss: 0.1589 - val_acc: 0.9348\n",
            "Epoch 28/50\n",
            "409/409 [==============================] - 0s 100us/sample - loss: 0.1113 - acc: 0.9584 - val_loss: 0.1531 - val_acc: 0.9348\n",
            "Epoch 29/50\n",
            "409/409 [==============================] - 0s 95us/sample - loss: 0.1084 - acc: 0.9658 - val_loss: 0.1483 - val_acc: 0.9348\n",
            "Epoch 30/50\n",
            "409/409 [==============================] - 0s 97us/sample - loss: 0.1056 - acc: 0.9658 - val_loss: 0.1450 - val_acc: 0.9348\n",
            "Epoch 31/50\n",
            "409/409 [==============================] - 0s 98us/sample - loss: 0.1030 - acc: 0.9682 - val_loss: 0.1396 - val_acc: 0.9348\n",
            "Epoch 32/50\n",
            "409/409 [==============================] - 0s 98us/sample - loss: 0.1002 - acc: 0.9707 - val_loss: 0.1350 - val_acc: 0.9565\n",
            "Epoch 33/50\n",
            "409/409 [==============================] - 0s 97us/sample - loss: 0.0978 - acc: 0.9707 - val_loss: 0.1323 - val_acc: 0.9565\n",
            "Epoch 34/50\n",
            "409/409 [==============================] - 0s 91us/sample - loss: 0.0953 - acc: 0.9707 - val_loss: 0.1281 - val_acc: 0.9565\n",
            "Epoch 35/50\n",
            "409/409 [==============================] - 0s 101us/sample - loss: 0.0932 - acc: 0.9707 - val_loss: 0.1238 - val_acc: 0.9565\n",
            "Epoch 36/50\n",
            "409/409 [==============================] - 0s 107us/sample - loss: 0.0911 - acc: 0.9731 - val_loss: 0.1202 - val_acc: 0.9565\n",
            "Epoch 37/50\n",
            "409/409 [==============================] - 0s 95us/sample - loss: 0.0892 - acc: 0.9731 - val_loss: 0.1166 - val_acc: 0.9565\n",
            "Epoch 38/50\n",
            "409/409 [==============================] - 0s 92us/sample - loss: 0.0874 - acc: 0.9731 - val_loss: 0.1148 - val_acc: 0.9565\n",
            "Epoch 39/50\n",
            "409/409 [==============================] - 0s 98us/sample - loss: 0.0858 - acc: 0.9731 - val_loss: 0.1123 - val_acc: 0.9565\n",
            "Epoch 40/50\n",
            "409/409 [==============================] - 0s 113us/sample - loss: 0.0841 - acc: 0.9731 - val_loss: 0.1097 - val_acc: 0.9565\n",
            "Epoch 41/50\n",
            "409/409 [==============================] - 0s 108us/sample - loss: 0.0826 - acc: 0.9731 - val_loss: 0.1073 - val_acc: 0.9565\n",
            "Epoch 42/50\n",
            "409/409 [==============================] - 0s 97us/sample - loss: 0.0810 - acc: 0.9756 - val_loss: 0.1056 - val_acc: 0.9565\n",
            "Epoch 43/50\n",
            "409/409 [==============================] - 0s 96us/sample - loss: 0.0796 - acc: 0.9756 - val_loss: 0.1037 - val_acc: 0.9565\n",
            "Epoch 44/50\n",
            "409/409 [==============================] - 0s 98us/sample - loss: 0.0783 - acc: 0.9756 - val_loss: 0.1018 - val_acc: 0.9565\n",
            "Epoch 45/50\n",
            "409/409 [==============================] - 0s 95us/sample - loss: 0.0770 - acc: 0.9756 - val_loss: 0.0998 - val_acc: 0.9783\n",
            "Epoch 46/50\n",
            "409/409 [==============================] - 0s 99us/sample - loss: 0.0756 - acc: 0.9756 - val_loss: 0.0981 - val_acc: 0.9783\n",
            "Epoch 47/50\n",
            "409/409 [==============================] - 0s 93us/sample - loss: 0.0743 - acc: 0.9756 - val_loss: 0.0964 - val_acc: 0.9783\n",
            "Epoch 48/50\n",
            "409/409 [==============================] - 0s 97us/sample - loss: 0.0731 - acc: 0.9780 - val_loss: 0.0937 - val_acc: 0.9783\n",
            "Epoch 49/50\n",
            "409/409 [==============================] - 0s 99us/sample - loss: 0.0718 - acc: 0.9804 - val_loss: 0.0923 - val_acc: 0.9783\n",
            "Epoch 50/50\n",
            "409/409 [==============================] - 0s 97us/sample - loss: 0.0706 - acc: 0.9853 - val_loss: 0.0911 - val_acc: 0.9783\n",
            "114/114 [==============================] - 0s 70us/sample - loss: 0.1093 - acc: 0.9649\n",
            "0.10926503740381777 0.9649123\n"
          ],
          "name": "stdout"
        }
      ]
    },
    {
      "cell_type": "code",
      "metadata": {
        "id": "_UW2mzPMYxHD",
        "colab_type": "code",
        "outputId": "14a1d63d-41a2-4823-bc33-0246e047a8a8",
        "colab": {
          "base_uri": "https://localhost:8080/",
          "height": 34
        }
      },
      "source": [
        "print(X_train.shape[:])"
      ],
      "execution_count": 8,
      "outputs": [
        {
          "output_type": "stream",
          "text": [
            "(455, 30)\n"
          ],
          "name": "stdout"
        }
      ]
    }
  ]
}