{
  "nbformat": 4,
  "nbformat_minor": 0,
  "metadata": {
    "colab": {
      "name": "DNN_forest cover.ipynb",
      "provenance": [],
      "authorship_tag": "ABX9TyNFLmWAORQO5HgsPKMRKCAC",
      "include_colab_link": true
    },
    "kernelspec": {
      "name": "python3",
      "display_name": "Python 3"
    }
  },
  "cells": [
    {
      "cell_type": "markdown",
      "metadata": {
        "id": "view-in-github",
        "colab_type": "text"
      },
      "source": [
        "<a href=\"https://colab.research.google.com/github/anusree-t-s/deep-learning/blob/master/DNN_forest_cover.ipynb\" target=\"_parent\"><img src=\"https://colab.research.google.com/assets/colab-badge.svg\" alt=\"Open In Colab\"/></a>"
      ]
    },
    {
      "cell_type": "code",
      "metadata": {
        "id": "GcwRD9LdilLO",
        "colab_type": "code",
        "colab": {}
      },
      "source": [
        "import numpy as  np \n",
        "import pandas as pd"
      ],
      "execution_count": 0,
      "outputs": []
    },
    {
      "cell_type": "code",
      "metadata": {
        "id": "zEZbzrzKiqx2",
        "colab_type": "code",
        "colab": {}
      },
      "source": [
        "from sklearn.datasets import fetch_covtype\n"
      ],
      "execution_count": 0,
      "outputs": []
    },
    {
      "cell_type": "code",
      "metadata": {
        "id": "QUoR84eljLwr",
        "colab_type": "code",
        "colab": {}
      },
      "source": [
        "import tensorflow as tf\n",
        "from tensorflow import  keras"
      ],
      "execution_count": 0,
      "outputs": []
    },
    {
      "cell_type": "code",
      "metadata": {
        "id": "Wyn1aOPOjT34",
        "colab_type": "code",
        "colab": {}
      },
      "source": [
        "tf.random.set_random_seed(42)\n",
        "np.random.seed(42)"
      ],
      "execution_count": 0,
      "outputs": []
    },
    {
      "cell_type": "code",
      "metadata": {
        "id": "ZVlQcixmk-zn",
        "colab_type": "code",
        "outputId": "3e4263da-c142-46c1-8c59-e2ca594bf345",
        "colab": {
          "base_uri": "https://localhost:8080/",
          "height": 34
        }
      },
      "source": [
        "X, y = fetch_covtype(return_X_y=True)"
      ],
      "execution_count": 0,
      "outputs": [
        {
          "output_type": "stream",
          "text": [
            "Downloading https://ndownloader.figshare.com/files/5976039\n"
          ],
          "name": "stderr"
        }
      ]
    },
    {
      "cell_type": "code",
      "metadata": {
        "id": "noxarQmYlC-m",
        "colab_type": "code",
        "outputId": "037e829a-08e0-424a-ecf7-6a7591f9cb49",
        "colab": {
          "base_uri": "https://localhost:8080/",
          "height": 52
        }
      },
      "source": [
        "print(X.shape)\n",
        "print(y.shape)"
      ],
      "execution_count": 0,
      "outputs": [
        {
          "output_type": "stream",
          "text": [
            "(581012, 54)\n",
            "(581012,)\n"
          ],
          "name": "stdout"
        }
      ]
    },
    {
      "cell_type": "code",
      "metadata": {
        "id": "Tdmh6JBdlI19",
        "colab_type": "code",
        "outputId": "e0792745-8c44-4030-853b-2d08218e7c47",
        "colab": {
          "base_uri": "https://localhost:8080/",
          "height": 34
        }
      },
      "source": [
        "X_10 = X[:,:10]\n",
        "print(X_10.shape)"
      ],
      "execution_count": 0,
      "outputs": [
        {
          "output_type": "stream",
          "text": [
            "(581012, 10)\n"
          ],
          "name": "stdout"
        }
      ]
    },
    {
      "cell_type": "code",
      "metadata": {
        "id": "asxYmHaNl3Ln",
        "colab_type": "code",
        "colab": {}
      },
      "source": [
        "from sklearn.model_selection import train_test_split\n",
        "X10_train, X10_test, y10_train, y10_test = train_test_split(X_10, y, test_size=0.1,stratify=y, random_state=42)"
      ],
      "execution_count": 0,
      "outputs": []
    },
    {
      "cell_type": "code",
      "metadata": {
        "id": "e2oWwxwDl8vH",
        "colab_type": "code",
        "outputId": "30f768ff-67de-4626-96ae-f986650c4091",
        "colab": {
          "base_uri": "https://localhost:8080/",
          "height": 34
        }
      },
      "source": [
        "print(X10_test.shape)"
      ],
      "execution_count": 0,
      "outputs": [
        {
          "output_type": "stream",
          "text": [
            "(58102, 10)\n"
          ],
          "name": "stdout"
        }
      ]
    },
    {
      "cell_type": "code",
      "metadata": {
        "id": "XbR4TT75l-xR",
        "colab_type": "code",
        "colab": {}
      },
      "source": [
        "X = X10_test\n",
        "y = y10_test"
      ],
      "execution_count": 0,
      "outputs": []
    },
    {
      "cell_type": "code",
      "metadata": {
        "id": "PO-87qM9mBBA",
        "colab_type": "code",
        "outputId": "c28ee947-a7da-4ec7-e6f9-7967eb42e501",
        "colab": {
          "base_uri": "https://localhost:8080/",
          "height": 34
        }
      },
      "source": [
        "print(set(y))"
      ],
      "execution_count": 0,
      "outputs": [
        {
          "output_type": "stream",
          "text": [
            "{1, 2, 3, 4, 5, 6, 7}\n"
          ],
          "name": "stdout"
        }
      ]
    },
    {
      "cell_type": "code",
      "metadata": {
        "id": "vK-gMBEWmCvP",
        "colab_type": "code",
        "outputId": "fbadff17-61c8-49dc-bf46-048c995ce5d7",
        "colab": {
          "base_uri": "https://localhost:8080/",
          "height": 34
        }
      },
      "source": [
        "y = y-1\n",
        "print(set(y))"
      ],
      "execution_count": 0,
      "outputs": [
        {
          "output_type": "stream",
          "text": [
            "{0, 1, 2, 3, 4, 5, 6}\n"
          ],
          "name": "stdout"
        }
      ]
    },
    {
      "cell_type": "code",
      "metadata": {
        "id": "GbawfiMzmEyk",
        "colab_type": "code",
        "colab": {}
      },
      "source": [
        "from sklearn.model_selection import train_test_split"
      ],
      "execution_count": 0,
      "outputs": []
    },
    {
      "cell_type": "code",
      "metadata": {
        "id": "HpizWW7xmHmc",
        "colab_type": "code",
        "colab": {}
      },
      "source": [
        "X_train, X_test, y_train, y_test = train_test_split(X, y, test_size=0.2,stratify=y, random_state=42)"
      ],
      "execution_count": 0,
      "outputs": []
    },
    {
      "cell_type": "code",
      "metadata": {
        "id": "p8HY9gq8mKYG",
        "colab_type": "code",
        "colab": {}
      },
      "source": [
        "from sklearn.preprocessing import StandardScaler\n",
        "sc = StandardScaler()"
      ],
      "execution_count": 0,
      "outputs": []
    },
    {
      "cell_type": "code",
      "metadata": {
        "id": "S3ASwECImNa8",
        "colab_type": "code",
        "outputId": "f595bc92-9179-43bf-efc9-e8030da3fb0f",
        "colab": {
          "base_uri": "https://localhost:8080/",
          "height": 34
        }
      },
      "source": [
        "sc.fit(X_train)"
      ],
      "execution_count": 0,
      "outputs": [
        {
          "output_type": "execute_result",
          "data": {
            "text/plain": [
              "StandardScaler(copy=True, with_mean=True, with_std=True)"
            ]
          },
          "metadata": {
            "tags": []
          },
          "execution_count": 17
        }
      ]
    },
    {
      "cell_type": "code",
      "metadata": {
        "id": "HNUe36qImPqX",
        "colab_type": "code",
        "colab": {}
      },
      "source": [
        "X_train_std = sc.transform(X_train)\n",
        "X_test_std = sc.transform(X_test)"
      ],
      "execution_count": 0,
      "outputs": []
    },
    {
      "cell_type": "code",
      "metadata": {
        "id": "VVtPGM7DmR4C",
        "colab_type": "code",
        "colab": {}
      },
      "source": [
        "model_DNN = keras.models.Sequential()"
      ],
      "execution_count": 0,
      "outputs": []
    },
    {
      "cell_type": "code",
      "metadata": {
        "id": "uYb_Dy1ymTqZ",
        "colab_type": "code",
        "outputId": "8a9f87d2-b683-4e29-81e6-6316acec0093",
        "colab": {
          "base_uri": "https://localhost:8080/",
          "height": 89
        }
      },
      "source": [
        "# Hidden layer definitions\n",
        "model_DNN.add(keras.layers.Dense(units=25, activation='relu', input_shape=X_train.shape[1:]))\n",
        "model_DNN.add(keras.layers.Dense(units=20, activation='relu'))\n",
        "model_DNN.add(keras.layers.Dense(units= 15, activation='relu'))\n",
        "model_DNN.add(keras.layers.Dense(units=10, activation='relu'))"
      ],
      "execution_count": 0,
      "outputs": [
        {
          "output_type": "stream",
          "text": [
            "WARNING:tensorflow:From /usr/local/lib/python3.6/dist-packages/tensorflow_core/python/ops/resource_variable_ops.py:1630: calling BaseResourceVariable.__init__ (from tensorflow.python.ops.resource_variable_ops) with constraint is deprecated and will be removed in a future version.\n",
            "Instructions for updating:\n",
            "If using Keras pass *_constraint arguments to layers.\n"
          ],
          "name": "stdout"
        }
      ]
    },
    {
      "cell_type": "code",
      "metadata": {
        "id": "qCvmhQJTmdwB",
        "colab_type": "code",
        "colab": {}
      },
      "source": [
        "# Output layer definitions\n",
        "model_DNN.add(keras.layers.Dense(units=7, activation='sigmoid'))"
      ],
      "execution_count": 0,
      "outputs": []
    },
    {
      "cell_type": "code",
      "metadata": {
        "id": "xVPcjzzomgA5",
        "colab_type": "code",
        "outputId": "8d3c498d-7011-4e1e-bae6-eaf06974da80",
        "colab": {
          "base_uri": "https://localhost:8080/",
          "height": 328
        }
      },
      "source": [
        "model_DNN.summary()"
      ],
      "execution_count": 0,
      "outputs": [
        {
          "output_type": "stream",
          "text": [
            "Model: \"sequential\"\n",
            "_________________________________________________________________\n",
            "Layer (type)                 Output Shape              Param #   \n",
            "=================================================================\n",
            "dense (Dense)                (None, 25)                275       \n",
            "_________________________________________________________________\n",
            "dense_1 (Dense)              (None, 20)                520       \n",
            "_________________________________________________________________\n",
            "dense_2 (Dense)              (None, 15)                315       \n",
            "_________________________________________________________________\n",
            "dense_3 (Dense)              (None, 10)                160       \n",
            "_________________________________________________________________\n",
            "dense_4 (Dense)              (None, 7)                 77        \n",
            "=================================================================\n",
            "Total params: 1,347\n",
            "Trainable params: 1,347\n",
            "Non-trainable params: 0\n",
            "_________________________________________________________________\n"
          ],
          "name": "stdout"
        }
      ]
    },
    {
      "cell_type": "code",
      "metadata": {
        "id": "CCVIGqc-miZ4",
        "colab_type": "code",
        "colab": {}
      },
      "source": [
        "model_DNN.compile(loss='sparse_categorical_crossentropy',optimizer='adam', metrics=['accuracy'])"
      ],
      "execution_count": 0,
      "outputs": []
    },
    {
      "cell_type": "code",
      "metadata": {
        "id": "lJaE3HIEmnpO",
        "colab_type": "code",
        "outputId": "ad3ca7c7-8186-4787-b049-286b6df75c93",
        "colab": {
          "base_uri": "https://localhost:8080/",
          "height": 1000
        }
      },
      "source": [
        "model_DNN.fit(x=X_train_std, y=y_train, validation_split=0.1, epochs=50,batch_size=16)"
      ],
      "execution_count": 0,
      "outputs": [
        {
          "output_type": "stream",
          "text": [
            "WARNING:tensorflow:From /usr/local/lib/python3.6/dist-packages/tensorflow_core/python/ops/math_grad.py:1424: where (from tensorflow.python.ops.array_ops) is deprecated and will be removed in a future version.\n",
            "Instructions for updating:\n",
            "Use tf.where in 2.0, which has the same broadcast rule as np.where\n",
            "Train on 41832 samples, validate on 4649 samples\n",
            "Epoch 1/50\n",
            "41832/41832 [==============================] - 5s 128us/sample - loss: 0.8640 - acc: 0.5733 - val_loss: 0.6897 - val_acc: 0.7057\n",
            "Epoch 2/50\n",
            "41832/41832 [==============================] - 5s 126us/sample - loss: 0.6963 - acc: 0.6949 - val_loss: 0.6752 - val_acc: 0.7038\n",
            "Epoch 3/50\n",
            "41832/41832 [==============================] - 5s 117us/sample - loss: 0.6816 - acc: 0.6971 - val_loss: 0.6616 - val_acc: 0.7100\n",
            "Epoch 4/50\n",
            "41832/41832 [==============================] - 5s 120us/sample - loss: 0.6718 - acc: 0.6990 - val_loss: 0.6556 - val_acc: 0.7124\n",
            "Epoch 5/50\n",
            "41832/41832 [==============================] - 5s 119us/sample - loss: 0.6645 - acc: 0.7006 - val_loss: 0.6553 - val_acc: 0.7100\n",
            "Epoch 6/50\n",
            "41832/41832 [==============================] - 5s 114us/sample - loss: 0.6569 - acc: 0.7015 - val_loss: 0.6428 - val_acc: 0.7128\n",
            "Epoch 7/50\n",
            "41832/41832 [==============================] - 5s 116us/sample - loss: 0.6511 - acc: 0.7043 - val_loss: 0.6468 - val_acc: 0.7133\n",
            "Epoch 8/50\n",
            "41832/41832 [==============================] - 5s 116us/sample - loss: 0.6470 - acc: 0.7069 - val_loss: 0.6400 - val_acc: 0.7107\n",
            "Epoch 9/50\n",
            "41832/41832 [==============================] - 5s 130us/sample - loss: 0.6437 - acc: 0.7070 - val_loss: 0.6380 - val_acc: 0.7148\n",
            "Epoch 10/50\n",
            "41832/41832 [==============================] - 5s 124us/sample - loss: 0.6386 - acc: 0.7069 - val_loss: 0.6374 - val_acc: 0.7143\n",
            "Epoch 11/50\n",
            "41832/41832 [==============================] - 5s 118us/sample - loss: 0.6364 - acc: 0.7089 - val_loss: 0.6350 - val_acc: 0.7148\n",
            "Epoch 12/50\n",
            "41832/41832 [==============================] - 5s 118us/sample - loss: 0.6327 - acc: 0.7101 - val_loss: 0.6268 - val_acc: 0.7163\n",
            "Epoch 13/50\n",
            "41832/41832 [==============================] - 5s 119us/sample - loss: 0.6293 - acc: 0.7107 - val_loss: 0.6192 - val_acc: 0.7230\n",
            "Epoch 14/50\n",
            "41832/41832 [==============================] - 5s 119us/sample - loss: 0.6263 - acc: 0.7136 - val_loss: 0.6143 - val_acc: 0.7251\n",
            "Epoch 15/50\n",
            "41832/41832 [==============================] - 5s 116us/sample - loss: 0.6227 - acc: 0.7172 - val_loss: 0.6078 - val_acc: 0.7285\n",
            "Epoch 16/50\n",
            "41832/41832 [==============================] - 5s 124us/sample - loss: 0.6196 - acc: 0.7202 - val_loss: 0.6053 - val_acc: 0.7288\n",
            "Epoch 17/50\n",
            "41832/41832 [==============================] - 5s 121us/sample - loss: 0.6154 - acc: 0.7237 - val_loss: 0.6034 - val_acc: 0.7296\n",
            "Epoch 18/50\n",
            "41832/41832 [==============================] - 5s 116us/sample - loss: 0.6135 - acc: 0.7239 - val_loss: 0.6113 - val_acc: 0.7344\n",
            "Epoch 19/50\n",
            "41832/41832 [==============================] - 5s 124us/sample - loss: 0.6108 - acc: 0.7255 - val_loss: 0.6035 - val_acc: 0.7275\n",
            "Epoch 20/50\n",
            "41832/41832 [==============================] - 6s 132us/sample - loss: 0.6080 - acc: 0.7289 - val_loss: 0.6041 - val_acc: 0.7339\n",
            "Epoch 21/50\n",
            "41832/41832 [==============================] - 5s 118us/sample - loss: 0.6065 - acc: 0.7278 - val_loss: 0.5992 - val_acc: 0.7324\n",
            "Epoch 22/50\n",
            "41832/41832 [==============================] - 5s 116us/sample - loss: 0.6043 - acc: 0.7304 - val_loss: 0.5973 - val_acc: 0.7371\n",
            "Epoch 23/50\n",
            "41832/41832 [==============================] - 5s 114us/sample - loss: 0.6022 - acc: 0.7317 - val_loss: 0.5968 - val_acc: 0.7408\n",
            "Epoch 24/50\n",
            "41832/41832 [==============================] - 5s 113us/sample - loss: 0.5997 - acc: 0.7344 - val_loss: 0.5881 - val_acc: 0.7425\n",
            "Epoch 25/50\n",
            "41832/41832 [==============================] - 5s 120us/sample - loss: 0.5974 - acc: 0.7359 - val_loss: 0.5892 - val_acc: 0.7451\n",
            "Epoch 26/50\n",
            "41832/41832 [==============================] - 5s 122us/sample - loss: 0.5948 - acc: 0.7363 - val_loss: 0.5974 - val_acc: 0.7369\n",
            "Epoch 27/50\n",
            "41832/41832 [==============================] - 5s 114us/sample - loss: 0.5942 - acc: 0.7378 - val_loss: 0.5763 - val_acc: 0.7460\n",
            "Epoch 28/50\n",
            "41832/41832 [==============================] - 6s 139us/sample - loss: 0.5918 - acc: 0.7381 - val_loss: 0.5898 - val_acc: 0.7419\n",
            "Epoch 29/50\n",
            "41832/41832 [==============================] - 6s 132us/sample - loss: 0.5899 - acc: 0.7385 - val_loss: 0.5888 - val_acc: 0.7376\n",
            "Epoch 30/50\n",
            "41832/41832 [==============================] - 5s 115us/sample - loss: 0.5885 - acc: 0.7403 - val_loss: 0.5814 - val_acc: 0.7479\n",
            "Epoch 31/50\n",
            "41832/41832 [==============================] - 5s 118us/sample - loss: 0.5873 - acc: 0.7388 - val_loss: 0.5856 - val_acc: 0.7481\n",
            "Epoch 32/50\n",
            "41832/41832 [==============================] - 5s 117us/sample - loss: 0.5871 - acc: 0.7433 - val_loss: 0.5709 - val_acc: 0.7442\n",
            "Epoch 33/50\n",
            "41832/41832 [==============================] - 5s 115us/sample - loss: 0.5842 - acc: 0.7418 - val_loss: 0.5883 - val_acc: 0.7533\n",
            "Epoch 34/50\n",
            "41832/41832 [==============================] - 5s 113us/sample - loss: 0.5838 - acc: 0.7424 - val_loss: 0.5743 - val_acc: 0.7524\n",
            "Epoch 35/50\n",
            "41832/41832 [==============================] - 4s 107us/sample - loss: 0.5829 - acc: 0.7423 - val_loss: 0.5869 - val_acc: 0.7522\n",
            "Epoch 36/50\n",
            "41832/41832 [==============================] - 4s 105us/sample - loss: 0.5808 - acc: 0.7445 - val_loss: 0.5746 - val_acc: 0.7533\n",
            "Epoch 37/50\n",
            "41832/41832 [==============================] - 5s 109us/sample - loss: 0.5800 - acc: 0.7450 - val_loss: 0.5816 - val_acc: 0.7490\n",
            "Epoch 38/50\n",
            "41832/41832 [==============================] - 5s 110us/sample - loss: 0.5787 - acc: 0.7448 - val_loss: 0.5707 - val_acc: 0.7516\n",
            "Epoch 39/50\n",
            "41832/41832 [==============================] - 5s 110us/sample - loss: 0.5768 - acc: 0.7446 - val_loss: 0.5752 - val_acc: 0.7470\n",
            "Epoch 40/50\n",
            "41832/41832 [==============================] - 5s 109us/sample - loss: 0.5756 - acc: 0.7471 - val_loss: 0.5811 - val_acc: 0.7402\n",
            "Epoch 41/50\n",
            "41832/41832 [==============================] - 5s 114us/sample - loss: 0.5758 - acc: 0.7462 - val_loss: 0.5749 - val_acc: 0.7531\n",
            "Epoch 42/50\n",
            "41832/41832 [==============================] - 5s 108us/sample - loss: 0.5740 - acc: 0.7483 - val_loss: 0.5686 - val_acc: 0.7507\n",
            "Epoch 43/50\n",
            "41832/41832 [==============================] - 4s 106us/sample - loss: 0.5726 - acc: 0.7488 - val_loss: 0.5631 - val_acc: 0.7602\n",
            "Epoch 44/50\n",
            "41832/41832 [==============================] - 4s 107us/sample - loss: 0.5713 - acc: 0.7493 - val_loss: 0.5774 - val_acc: 0.7511\n",
            "Epoch 45/50\n",
            "41832/41832 [==============================] - 4s 107us/sample - loss: 0.5695 - acc: 0.7514 - val_loss: 0.5664 - val_acc: 0.7597\n",
            "Epoch 46/50\n",
            "41832/41832 [==============================] - 4s 106us/sample - loss: 0.5692 - acc: 0.7521 - val_loss: 0.5640 - val_acc: 0.7619\n",
            "Epoch 47/50\n",
            "41832/41832 [==============================] - 5s 108us/sample - loss: 0.5672 - acc: 0.7527 - val_loss: 0.5759 - val_acc: 0.7537\n",
            "Epoch 48/50\n",
            "41832/41832 [==============================] - 5s 108us/sample - loss: 0.5674 - acc: 0.7502 - val_loss: 0.5636 - val_acc: 0.7617\n",
            "Epoch 49/50\n",
            "41832/41832 [==============================] - 4s 107us/sample - loss: 0.5649 - acc: 0.7541 - val_loss: 0.5589 - val_acc: 0.7604\n",
            "Epoch 50/50\n",
            "41832/41832 [==============================] - 4s 106us/sample - loss: 0.5644 - acc: 0.7538 - val_loss: 0.5703 - val_acc: 0.7449\n"
          ],
          "name": "stdout"
        },
        {
          "output_type": "execute_result",
          "data": {
            "text/plain": [
              "<tensorflow.python.keras.callbacks.History at 0x7f320ab739b0>"
            ]
          },
          "metadata": {
            "tags": []
          },
          "execution_count": 24
        }
      ]
    },
    {
      "cell_type": "code",
      "metadata": {
        "id": "yXy1KVdZmqxR",
        "colab_type": "code",
        "outputId": "2e606056-ffb0-460c-d52c-29072b6eaea5",
        "colab": {
          "base_uri": "https://localhost:8080/",
          "height": 52
        }
      },
      "source": [
        "test_loss, test_accuracy = model_DNN.evaluate(x=X_test_std, y=y_test)\n",
        "print(test_loss, test_accuracy)"
      ],
      "execution_count": 0,
      "outputs": [
        {
          "output_type": "stream",
          "text": [
            "11621/11621 [==============================] - 0s 23us/sample - loss: 0.5851 - acc: 0.7450\n",
            "0.5850698492344619 0.7450305\n"
          ],
          "name": "stdout"
        }
      ]
    },
    {
      "cell_type": "code",
      "metadata": {
        "id": "G64n5vlcmxrR",
        "colab_type": "code",
        "colab": {}
      },
      "source": [
        ""
      ],
      "execution_count": 0,
      "outputs": []
    }
  ]
}