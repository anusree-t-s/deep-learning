{
  "nbformat": 4,
  "nbformat_minor": 0,
  "metadata": {
    "colab": {
      "name": "DNN_dropout_boston.ipynb",
      "provenance": [],
      "authorship_tag": "ABX9TyO88S5x66ZcypRfjgmMlxyS",
      "include_colab_link": true
    },
    "kernelspec": {
      "name": "python3",
      "display_name": "Python 3"
    }
  },
  "cells": [
    {
      "cell_type": "markdown",
      "metadata": {
        "id": "view-in-github",
        "colab_type": "text"
      },
      "source": [
        "<a href=\"https://colab.research.google.com/github/anusree-t-s/deep-learning/blob/master/DNN_dropout_boston.ipynb\" target=\"_parent\"><img src=\"https://colab.research.google.com/assets/colab-badge.svg\" alt=\"Open In Colab\"/></a>"
      ]
    },
    {
      "cell_type": "code",
      "metadata": {
        "id": "ql3BYMnvP8zF",
        "colab_type": "code",
        "colab": {}
      },
      "source": [
        "import numpy as np\n",
        "import pandas as pd \n",
        "import matplotlib.pyplot as plt"
      ],
      "execution_count": 0,
      "outputs": []
    },
    {
      "cell_type": "code",
      "metadata": {
        "id": "eG4uerOqQnur",
        "colab_type": "code",
        "colab": {}
      },
      "source": [
        "from sklearn.datasets import load_boston"
      ],
      "execution_count": 0,
      "outputs": []
    },
    {
      "cell_type": "code",
      "metadata": {
        "id": "a-kKgHq2Qyy7",
        "colab_type": "code",
        "colab": {}
      },
      "source": [
        "import tensorflow as tf\n",
        "from tensorflow import keras"
      ],
      "execution_count": 0,
      "outputs": []
    },
    {
      "cell_type": "code",
      "metadata": {
        "id": "sK3p0kdiQ7on",
        "colab_type": "code",
        "colab": {}
      },
      "source": [
        "tf.random.set_random_seed(42)\n",
        "np.random.seed(42)"
      ],
      "execution_count": 0,
      "outputs": []
    },
    {
      "cell_type": "code",
      "metadata": {
        "id": "MyMToFqgRJTj",
        "colab_type": "code",
        "colab": {}
      },
      "source": [
        "bostonData=load_boston()"
      ],
      "execution_count": 0,
      "outputs": []
    },
    {
      "cell_type": "code",
      "metadata": {
        "id": "TVIgx0xKRb59",
        "colab_type": "code",
        "colab": {}
      },
      "source": [
        "X=bostonData.data\n",
        "y=bostonData.target"
      ],
      "execution_count": 0,
      "outputs": []
    },
    {
      "cell_type": "code",
      "metadata": {
        "id": "jIXEcjS5Rhsx",
        "colab_type": "code",
        "colab": {}
      },
      "source": [
        "from sklearn.model_selection import train_test_split"
      ],
      "execution_count": 0,
      "outputs": []
    },
    {
      "cell_type": "code",
      "metadata": {
        "id": "NfO_IXIBRnJA",
        "colab_type": "code",
        "colab": {}
      },
      "source": [
        "X_train, X_test, y_train, y_test = train_test_split(X, y, test_size=0.2,random_state=42)"
      ],
      "execution_count": 0,
      "outputs": []
    },
    {
      "cell_type": "code",
      "metadata": {
        "id": "_4w1KhBqRzqT",
        "colab_type": "code",
        "colab": {}
      },
      "source": [
        "from sklearn.preprocessing import StandardScaler\n"
      ],
      "execution_count": 0,
      "outputs": []
    },
    {
      "cell_type": "code",
      "metadata": {
        "id": "He25c7UwR682",
        "colab_type": "code",
        "colab": {}
      },
      "source": [
        "sc=StandardScaler()"
      ],
      "execution_count": 0,
      "outputs": []
    },
    {
      "cell_type": "code",
      "metadata": {
        "id": "884MIkP_R9H4",
        "colab_type": "code",
        "outputId": "0e4fa4d1-9480-4c4c-f23c-23e3f9d3e042",
        "colab": {
          "base_uri": "https://localhost:8080/",
          "height": 34
        }
      },
      "source": [
        "sc.fit(X_train)"
      ],
      "execution_count": 0,
      "outputs": [
        {
          "output_type": "execute_result",
          "data": {
            "text/plain": [
              "StandardScaler(copy=True, with_mean=True, with_std=True)"
            ]
          },
          "metadata": {
            "tags": []
          },
          "execution_count": 69
        }
      ]
    },
    {
      "cell_type": "code",
      "metadata": {
        "id": "dapAmUOMSAaE",
        "colab_type": "code",
        "colab": {}
      },
      "source": [
        "X_train_std = sc.transform(X_train)\n",
        "X_test_std = sc.transform(X_test)"
      ],
      "execution_count": 0,
      "outputs": []
    },
    {
      "cell_type": "code",
      "metadata": {
        "id": "EZ9R6hnoSa1d",
        "colab_type": "code",
        "colab": {}
      },
      "source": [
        "model_DNN = keras.models.Sequential()"
      ],
      "execution_count": 0,
      "outputs": []
    },
    {
      "cell_type": "code",
      "metadata": {
        "id": "X40JM9fVSpy7",
        "colab_type": "code",
        "colab": {}
      },
      "source": [
        "#hidden layer\n",
        "model_DNN.add(keras.layers.Dense(units=15, activation='relu', input_shape=X_train.shape[1:]))"
      ],
      "execution_count": 0,
      "outputs": []
    },
    {
      "cell_type": "code",
      "metadata": {
        "id": "eDcTkuvMTKjR",
        "colab_type": "code",
        "colab": {}
      },
      "source": [
        "# Dropout layer with 10% of nodes being discarded in each training step.\n",
        "model_DNN.add(keras.layers.Dropout(0.1))"
      ],
      "execution_count": 0,
      "outputs": []
    },
    {
      "cell_type": "code",
      "metadata": {
        "id": "2hQi2585ToHt",
        "colab_type": "code",
        "colab": {}
      },
      "source": [
        "model_DNN.add(keras.layers.Dense(units=12, activation='relu'))"
      ],
      "execution_count": 0,
      "outputs": []
    },
    {
      "cell_type": "code",
      "metadata": {
        "id": "tTKnob6YT4UV",
        "colab_type": "code",
        "colab": {}
      },
      "source": [
        "model_DNN.add(keras.layers.Dropout(0.1))\n",
        "model_DNN.add(keras.layers.Dense(units=8, activation='relu'))\n",
        "model_DNN.add(keras.layers.Dense(units=4, activation='relu'))"
      ],
      "execution_count": 0,
      "outputs": []
    },
    {
      "cell_type": "code",
      "metadata": {
        "id": "DN9NoLnsUDxJ",
        "colab_type": "code",
        "outputId": "eb79d25f-6d86-483b-b780-a1efd2497f88",
        "colab": {
          "base_uri": "https://localhost:8080/",
          "height": 399
        }
      },
      "source": [
        "# Output layer definitions\n",
        "model_DNN.add(keras.layers.Dense(units=1, activation='linear'))\n",
        "# Print the summary of network architecture\n",
        "model_DNN.summary()"
      ],
      "execution_count": 0,
      "outputs": [
        {
          "output_type": "stream",
          "text": [
            "Model: \"sequential_1\"\n",
            "_________________________________________________________________\n",
            "Layer (type)                 Output Shape              Param #   \n",
            "=================================================================\n",
            "dense_17 (Dense)             (None, 15)                210       \n",
            "_________________________________________________________________\n",
            "dropout_8 (Dropout)          (None, 15)                0         \n",
            "_________________________________________________________________\n",
            "dense_18 (Dense)             (None, 12)                192       \n",
            "_________________________________________________________________\n",
            "dropout_9 (Dropout)          (None, 12)                0         \n",
            "_________________________________________________________________\n",
            "dense_19 (Dense)             (None, 8)                 104       \n",
            "_________________________________________________________________\n",
            "dense_20 (Dense)             (None, 4)                 36        \n",
            "_________________________________________________________________\n",
            "dense_21 (Dense)             (None, 1)                 5         \n",
            "=================================================================\n",
            "Total params: 547\n",
            "Trainable params: 547\n",
            "Non-trainable params: 0\n",
            "_________________________________________________________________\n"
          ],
          "name": "stdout"
        }
      ]
    },
    {
      "cell_type": "code",
      "metadata": {
        "id": "koWFF7o6UGFT",
        "colab_type": "code",
        "colab": {}
      },
      "source": [
        "model_DNN.compile(loss='mse', optimizer='adam', metrics=['mae'])"
      ],
      "execution_count": 0,
      "outputs": []
    },
    {
      "cell_type": "code",
      "metadata": {
        "id": "9nzTKYgbUIfZ",
        "colab_type": "code",
        "outputId": "3e8b1a9f-9765-4c5d-9ada-c8de8dc0251b",
        "colab": {
          "base_uri": "https://localhost:8080/",
          "height": 1000
        }
      },
      "source": [
        "model_DNN.fit(x=X_train_std, y=y_train, validation_split=0.1, epochs=50,\n",
        "batch_size=16)"
      ],
      "execution_count": 0,
      "outputs": [
        {
          "output_type": "stream",
          "text": [
            "Train on 363 samples, validate on 41 samples\n",
            "Epoch 1/50\n",
            "363/363 [==============================] - 0s 1ms/sample - loss: 597.6963 - mean_absolute_error: 22.5871 - val_loss: 581.3938 - val_mean_absolute_error: 22.6155\n",
            "Epoch 2/50\n",
            "363/363 [==============================] - 0s 148us/sample - loss: 574.3921 - mean_absolute_error: 22.1079 - val_loss: 548.8445 - val_mean_absolute_error: 21.8988\n",
            "Epoch 3/50\n",
            "363/363 [==============================] - 0s 130us/sample - loss: 527.7145 - mean_absolute_error: 21.0299 - val_loss: 490.5357 - val_mean_absolute_error: 20.4400\n",
            "Epoch 4/50\n",
            "363/363 [==============================] - 0s 132us/sample - loss: 455.6149 - mean_absolute_error: 19.1245 - val_loss: 401.7168 - val_mean_absolute_error: 18.1410\n",
            "Epoch 5/50\n",
            "363/363 [==============================] - 0s 132us/sample - loss: 356.2158 - mean_absolute_error: 16.3773 - val_loss: 280.2836 - val_mean_absolute_error: 14.5681\n",
            "Epoch 6/50\n",
            "363/363 [==============================] - 0s 133us/sample - loss: 233.7612 - mean_absolute_error: 12.7238 - val_loss: 152.1833 - val_mean_absolute_error: 9.7568\n",
            "Epoch 7/50\n",
            "363/363 [==============================] - 0s 135us/sample - loss: 128.5144 - mean_absolute_error: 8.9908 - val_loss: 77.8959 - val_mean_absolute_error: 5.9082\n",
            "Epoch 8/50\n",
            "363/363 [==============================] - 0s 142us/sample - loss: 75.2298 - mean_absolute_error: 6.5462 - val_loss: 55.4390 - val_mean_absolute_error: 4.4681\n",
            "Epoch 9/50\n",
            "363/363 [==============================] - 0s 156us/sample - loss: 58.0443 - mean_absolute_error: 5.7042 - val_loss: 50.0105 - val_mean_absolute_error: 4.2285\n",
            "Epoch 10/50\n",
            "363/363 [==============================] - 0s 150us/sample - loss: 58.4382 - mean_absolute_error: 5.6572 - val_loss: 45.5470 - val_mean_absolute_error: 4.0025\n",
            "Epoch 11/50\n",
            "363/363 [==============================] - 0s 146us/sample - loss: 46.7845 - mean_absolute_error: 5.1675 - val_loss: 41.8558 - val_mean_absolute_error: 3.7591\n",
            "Epoch 12/50\n",
            "363/363 [==============================] - 0s 151us/sample - loss: 44.2399 - mean_absolute_error: 4.8665 - val_loss: 39.4580 - val_mean_absolute_error: 3.7130\n",
            "Epoch 13/50\n",
            "363/363 [==============================] - 0s 142us/sample - loss: 39.0482 - mean_absolute_error: 4.6857 - val_loss: 39.7323 - val_mean_absolute_error: 3.7236\n",
            "Epoch 14/50\n",
            "363/363 [==============================] - 0s 138us/sample - loss: 38.9507 - mean_absolute_error: 4.8516 - val_loss: 39.6203 - val_mean_absolute_error: 3.7134\n",
            "Epoch 15/50\n",
            "363/363 [==============================] - 0s 132us/sample - loss: 40.9062 - mean_absolute_error: 4.7385 - val_loss: 39.4807 - val_mean_absolute_error: 3.7275\n",
            "Epoch 16/50\n",
            "363/363 [==============================] - 0s 147us/sample - loss: 36.8218 - mean_absolute_error: 4.3781 - val_loss: 36.9084 - val_mean_absolute_error: 3.5560\n",
            "Epoch 17/50\n",
            "363/363 [==============================] - 0s 139us/sample - loss: 39.9067 - mean_absolute_error: 4.6962 - val_loss: 38.2904 - val_mean_absolute_error: 3.6352\n",
            "Epoch 18/50\n",
            "363/363 [==============================] - 0s 136us/sample - loss: 38.1138 - mean_absolute_error: 4.5842 - val_loss: 36.8171 - val_mean_absolute_error: 3.5279\n",
            "Epoch 19/50\n",
            "363/363 [==============================] - 0s 131us/sample - loss: 31.5449 - mean_absolute_error: 4.2157 - val_loss: 37.2132 - val_mean_absolute_error: 3.5954\n",
            "Epoch 20/50\n",
            "363/363 [==============================] - 0s 138us/sample - loss: 35.3387 - mean_absolute_error: 4.4370 - val_loss: 35.8682 - val_mean_absolute_error: 3.5125\n",
            "Epoch 21/50\n",
            "363/363 [==============================] - 0s 134us/sample - loss: 36.6457 - mean_absolute_error: 4.4755 - val_loss: 35.3284 - val_mean_absolute_error: 3.4613\n",
            "Epoch 22/50\n",
            "363/363 [==============================] - 0s 136us/sample - loss: 38.7070 - mean_absolute_error: 4.5187 - val_loss: 34.2657 - val_mean_absolute_error: 3.4136\n",
            "Epoch 23/50\n",
            "363/363 [==============================] - 0s 141us/sample - loss: 32.1010 - mean_absolute_error: 4.2021 - val_loss: 34.8538 - val_mean_absolute_error: 3.4615\n",
            "Epoch 24/50\n",
            "363/363 [==============================] - 0s 134us/sample - loss: 34.4560 - mean_absolute_error: 4.2683 - val_loss: 33.4860 - val_mean_absolute_error: 3.3942\n",
            "Epoch 25/50\n",
            "363/363 [==============================] - 0s 145us/sample - loss: 32.7281 - mean_absolute_error: 4.2765 - val_loss: 33.6060 - val_mean_absolute_error: 3.3866\n",
            "Epoch 26/50\n",
            "363/363 [==============================] - 0s 137us/sample - loss: 32.4523 - mean_absolute_error: 4.2184 - val_loss: 31.3883 - val_mean_absolute_error: 3.2358\n",
            "Epoch 27/50\n",
            "363/363 [==============================] - 0s 154us/sample - loss: 31.5362 - mean_absolute_error: 4.0726 - val_loss: 31.9796 - val_mean_absolute_error: 3.2557\n",
            "Epoch 28/50\n",
            "363/363 [==============================] - 0s 137us/sample - loss: 32.6872 - mean_absolute_error: 4.1083 - val_loss: 31.3362 - val_mean_absolute_error: 3.2231\n",
            "Epoch 29/50\n",
            "363/363 [==============================] - 0s 141us/sample - loss: 31.7525 - mean_absolute_error: 4.2509 - val_loss: 33.0528 - val_mean_absolute_error: 3.4610\n",
            "Epoch 30/50\n",
            "363/363 [==============================] - 0s 142us/sample - loss: 34.4592 - mean_absolute_error: 4.3227 - val_loss: 30.7976 - val_mean_absolute_error: 3.2200\n",
            "Epoch 31/50\n",
            "363/363 [==============================] - 0s 142us/sample - loss: 30.0121 - mean_absolute_error: 4.1785 - val_loss: 31.8773 - val_mean_absolute_error: 3.3104\n",
            "Epoch 32/50\n",
            "363/363 [==============================] - 0s 134us/sample - loss: 27.3803 - mean_absolute_error: 3.8387 - val_loss: 32.2477 - val_mean_absolute_error: 3.3868\n",
            "Epoch 33/50\n",
            "363/363 [==============================] - 0s 140us/sample - loss: 29.6220 - mean_absolute_error: 4.0783 - val_loss: 30.1686 - val_mean_absolute_error: 3.1747\n",
            "Epoch 34/50\n",
            "363/363 [==============================] - 0s 151us/sample - loss: 30.0009 - mean_absolute_error: 4.0304 - val_loss: 30.2486 - val_mean_absolute_error: 3.1799\n",
            "Epoch 35/50\n",
            "363/363 [==============================] - 0s 150us/sample - loss: 25.2255 - mean_absolute_error: 3.8084 - val_loss: 30.6750 - val_mean_absolute_error: 3.2309\n",
            "Epoch 36/50\n",
            "363/363 [==============================] - 0s 149us/sample - loss: 24.5570 - mean_absolute_error: 3.6871 - val_loss: 30.9028 - val_mean_absolute_error: 3.2550\n",
            "Epoch 37/50\n",
            "363/363 [==============================] - 0s 134us/sample - loss: 31.0414 - mean_absolute_error: 4.1052 - val_loss: 30.2929 - val_mean_absolute_error: 3.2930\n",
            "Epoch 38/50\n",
            "363/363 [==============================] - 0s 125us/sample - loss: 24.1477 - mean_absolute_error: 3.6864 - val_loss: 30.2363 - val_mean_absolute_error: 3.3105\n",
            "Epoch 39/50\n",
            "363/363 [==============================] - 0s 142us/sample - loss: 23.1792 - mean_absolute_error: 3.6840 - val_loss: 28.8507 - val_mean_absolute_error: 3.1944\n",
            "Epoch 40/50\n",
            "363/363 [==============================] - 0s 134us/sample - loss: 23.0878 - mean_absolute_error: 3.5630 - val_loss: 30.5651 - val_mean_absolute_error: 3.3192\n",
            "Epoch 41/50\n",
            "363/363 [==============================] - 0s 161us/sample - loss: 22.6157 - mean_absolute_error: 3.5213 - val_loss: 30.0827 - val_mean_absolute_error: 3.2991\n",
            "Epoch 42/50\n",
            "363/363 [==============================] - 0s 143us/sample - loss: 25.8646 - mean_absolute_error: 3.6581 - val_loss: 29.8034 - val_mean_absolute_error: 3.2474\n",
            "Epoch 43/50\n",
            "363/363 [==============================] - 0s 146us/sample - loss: 23.0316 - mean_absolute_error: 3.6664 - val_loss: 30.0468 - val_mean_absolute_error: 3.3356\n",
            "Epoch 44/50\n",
            "363/363 [==============================] - 0s 136us/sample - loss: 25.8673 - mean_absolute_error: 3.7780 - val_loss: 28.7709 - val_mean_absolute_error: 3.2307\n",
            "Epoch 45/50\n",
            "363/363 [==============================] - 0s 134us/sample - loss: 27.0473 - mean_absolute_error: 3.7691 - val_loss: 29.8093 - val_mean_absolute_error: 3.3353\n",
            "Epoch 46/50\n",
            "363/363 [==============================] - 0s 144us/sample - loss: 27.0656 - mean_absolute_error: 3.6651 - val_loss: 27.6254 - val_mean_absolute_error: 3.1678\n",
            "Epoch 47/50\n",
            "363/363 [==============================] - 0s 152us/sample - loss: 20.4894 - mean_absolute_error: 3.4788 - val_loss: 28.2415 - val_mean_absolute_error: 3.1938\n",
            "Epoch 48/50\n",
            "363/363 [==============================] - 0s 137us/sample - loss: 27.1049 - mean_absolute_error: 3.8358 - val_loss: 27.6819 - val_mean_absolute_error: 3.1347\n",
            "Epoch 49/50\n",
            "363/363 [==============================] - 0s 141us/sample - loss: 24.4681 - mean_absolute_error: 3.6889 - val_loss: 26.8708 - val_mean_absolute_error: 3.1322\n",
            "Epoch 50/50\n",
            "363/363 [==============================] - 0s 141us/sample - loss: 26.8440 - mean_absolute_error: 3.8643 - val_loss: 27.7617 - val_mean_absolute_error: 3.1580\n"
          ],
          "name": "stdout"
        },
        {
          "output_type": "execute_result",
          "data": {
            "text/plain": [
              "<tensorflow.python.keras.callbacks.History at 0x7f82a18094a8>"
            ]
          },
          "metadata": {
            "tags": []
          },
          "execution_count": 78
        }
      ]
    },
    {
      "cell_type": "code",
      "metadata": {
        "id": "J_BgBfcuUK0E",
        "colab_type": "code",
        "outputId": "2bf2130e-e9b7-4e51-e842-cc562a763061",
        "colab": {
          "base_uri": "https://localhost:8080/",
          "height": 34
        }
      },
      "source": [
        "test_loss, test_accuracy = model_DNN.evaluate(x=X_test_std, y=y_test)"
      ],
      "execution_count": 0,
      "outputs": [
        {
          "output_type": "stream",
          "text": [
            "102/102 [==============================] - 0s 112us/sample - loss: 15.2657 - mean_absolute_error: 2.5270\n"
          ],
          "name": "stdout"
        }
      ]
    },
    {
      "cell_type": "code",
      "metadata": {
        "id": "ygTa17rNUNBL",
        "colab_type": "code",
        "outputId": "906553e8-bfad-4ed9-9abc-9f6729383a56",
        "colab": {
          "base_uri": "https://localhost:8080/",
          "height": 34
        }
      },
      "source": [
        "print(test_loss, test_accuracy)"
      ],
      "execution_count": 0,
      "outputs": [
        {
          "output_type": "stream",
          "text": [
            "15.26573959051394 2.5269566\n"
          ],
          "name": "stdout"
        }
      ]
    },
    {
      "cell_type": "code",
      "metadata": {
        "id": "_2vZhpS9UO1y",
        "colab_type": "code",
        "colab": {}
      },
      "source": [
        ""
      ],
      "execution_count": 0,
      "outputs": []
    }
  ]
}