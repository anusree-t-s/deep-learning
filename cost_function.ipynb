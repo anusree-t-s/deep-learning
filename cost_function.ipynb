{
  "nbformat": 4,
  "nbformat_minor": 0,
  "metadata": {
    "colab": {
      "name": "cost_function.ipynb",
      "provenance": [],
      "authorship_tag": "ABX9TyPjSJbTtxgc1UtBWRFmxqEW",
      "include_colab_link": true
    },
    "kernelspec": {
      "name": "python3",
      "display_name": "Python 3"
    }
  },
  "cells": [
    {
      "cell_type": "markdown",
      "metadata": {
        "id": "view-in-github",
        "colab_type": "text"
      },
      "source": [
        "<a href=\"https://colab.research.google.com/github/anusree-t-s/deep-learning/blob/master/cost_function.ipynb\" target=\"_parent\"><img src=\"https://colab.research.google.com/assets/colab-badge.svg\" alt=\"Open In Colab\"/></a>"
      ]
    },
    {
      "cell_type": "code",
      "metadata": {
        "id": "yc9wXpPBQk6N",
        "colab_type": "code",
        "colab": {}
      },
      "source": [
        "from sklearn.metrics import mean_squared_error"
      ],
      "execution_count": 0,
      "outputs": []
    },
    {
      "cell_type": "code",
      "metadata": {
        "id": "XmRQd-2rQpng",
        "colab_type": "code",
        "colab": {}
      },
      "source": [
        "y_true = [3, -0.5, 2, 7] \n",
        "y_pred = [2.5, 0.0, 2, 8]"
      ],
      "execution_count": 0,
      "outputs": []
    },
    {
      "cell_type": "code",
      "metadata": {
        "id": "E477trd7QwYa",
        "colab_type": "code",
        "colab": {}
      },
      "source": [
        "mse = mean_squared_error(y_true, y_pred)\n"
      ],
      "execution_count": 0,
      "outputs": []
    },
    {
      "cell_type": "code",
      "metadata": {
        "id": "7km4V5MZQygZ",
        "colab_type": "code",
        "colab": {
          "base_uri": "https://localhost:8080/",
          "height": 52
        },
        "outputId": "71358bed-e8b9-47a0-a98e-dc2a72ec0663"
      },
      "source": [
        "print(\"MSE: %f\\n\" % mse)"
      ],
      "execution_count": 13,
      "outputs": [
        {
          "output_type": "stream",
          "text": [
            "MSE: 0.708333\n",
            "\n"
          ],
          "name": "stdout"
        }
      ]
    },
    {
      "cell_type": "code",
      "metadata": {
        "id": "h2V9Ze1ZQ0Ud",
        "colab_type": "code",
        "colab": {
          "base_uri": "https://localhost:8080/",
          "height": 52
        },
        "outputId": "212a4c20-9a1e-444e-e1c7-06048567eb80"
      },
      "source": [
        "y_true = [[0.5, 1],[-1, 1],[7, -6]] \n",
        "y_pred = [[0, 2],[-1, 2],[8, -5]] \n",
        "mse = mean_squared_error(y_true, y_pred)  \n",
        "print(\"MSE: %f\\n\" % mse)"
      ],
      "execution_count": 14,
      "outputs": [
        {
          "output_type": "stream",
          "text": [
            "MSE: 0.708333\n",
            "\n"
          ],
          "name": "stdout"
        }
      ]
    },
    {
      "cell_type": "code",
      "metadata": {
        "id": "0mlmfcPLQ4XN",
        "colab_type": "code",
        "colab": {
          "base_uri": "https://localhost:8080/",
          "height": 34
        },
        "outputId": "6ee96ff6-f0fc-4875-f453-bb77d2fc0bda"
      },
      "source": [
        "print(mse)"
      ],
      "execution_count": 15,
      "outputs": [
        {
          "output_type": "stream",
          "text": [
            "0.7083333333333334\n"
          ],
          "name": "stdout"
        }
      ]
    },
    {
      "cell_type": "code",
      "metadata": {
        "id": "SjXBteUjQ6eK",
        "colab_type": "code",
        "colab": {
          "base_uri": "https://localhost:8080/",
          "height": 52
        },
        "outputId": "d4a6b666-368e-46cd-cec2-dfcbdb1567d4"
      },
      "source": [
        "mse = mean_squared_error(y_true, y_pred, multioutput='raw_values') \n",
        "print(\"MSE: {}\\n\".format(mse))"
      ],
      "execution_count": 16,
      "outputs": [
        {
          "output_type": "stream",
          "text": [
            "MSE: [0.41666667 1.        ]\n",
            "\n"
          ],
          "name": "stdout"
        }
      ]
    },
    {
      "cell_type": "code",
      "metadata": {
        "id": "Iw3zx2j0Q9ie",
        "colab_type": "code",
        "colab": {
          "base_uri": "https://localhost:8080/",
          "height": 52
        },
        "outputId": "96daa6b9-74c9-4053-cda9-c74a4ff66618"
      },
      "source": [
        "\n",
        "mse = mean_squared_error(y_true, y_pred, multioutput=[0.3, 0.7]) \n",
        "print(\"MSE: %f\\n\" % mse)"
      ],
      "execution_count": 17,
      "outputs": [
        {
          "output_type": "stream",
          "text": [
            "MSE: 0.825000\n",
            "\n"
          ],
          "name": "stdout"
        }
      ]
    },
    {
      "cell_type": "code",
      "metadata": {
        "id": "Q22ROuDqRAdL",
        "colab_type": "code",
        "colab": {}
      },
      "source": [
        "from sklearn.metrics import mean_absolute_error"
      ],
      "execution_count": 0,
      "outputs": []
    },
    {
      "cell_type": "code",
      "metadata": {
        "id": "5JWy2ZniRF3n",
        "colab_type": "code",
        "colab": {}
      },
      "source": [
        "mae=mean_absolute_error(y_true,y_pred)"
      ],
      "execution_count": 0,
      "outputs": []
    },
    {
      "cell_type": "code",
      "metadata": {
        "id": "LN8FVLZyRH50",
        "colab_type": "code",
        "colab": {
          "base_uri": "https://localhost:8080/",
          "height": 34
        },
        "outputId": "44b61e07-2745-4405-bf61-fba291f9a909"
      },
      "source": [
        "print(mae)"
      ],
      "execution_count": 20,
      "outputs": [
        {
          "output_type": "stream",
          "text": [
            "0.75\n"
          ],
          "name": "stdout"
        }
      ]
    },
    {
      "cell_type": "code",
      "metadata": {
        "id": "_KCyoqEgRJrX",
        "colab_type": "code",
        "colab": {}
      },
      "source": [
        ""
      ],
      "execution_count": 0,
      "outputs": []
    }
  ]
}