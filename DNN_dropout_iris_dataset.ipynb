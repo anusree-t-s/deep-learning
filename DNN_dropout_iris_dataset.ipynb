{
  "nbformat": 4,
  "nbformat_minor": 0,
  "metadata": {
    "colab": {
      "name": "DNN_dropout_iris dataset.ipynb",
      "provenance": [],
      "authorship_tag": "ABX9TyOTil9EcWvPJDB1xQyGBhP4",
      "include_colab_link": true
    },
    "kernelspec": {
      "name": "python3",
      "display_name": "Python 3"
    }
  },
  "cells": [
    {
      "cell_type": "markdown",
      "metadata": {
        "id": "view-in-github",
        "colab_type": "text"
      },
      "source": [
        "<a href=\"https://colab.research.google.com/github/anusree-t-s/deep-learning/blob/master/DNN_dropout_iris_dataset.ipynb\" target=\"_parent\"><img src=\"https://colab.research.google.com/assets/colab-badge.svg\" alt=\"Open In Colab\"/></a>"
      ]
    },
    {
      "cell_type": "code",
      "metadata": {
        "id": "wczL_WSJorBn",
        "colab_type": "code",
        "colab": {}
      },
      "source": [
        "import numpy as np\n",
        "import pandas as pd"
      ],
      "execution_count": 0,
      "outputs": []
    },
    {
      "cell_type": "code",
      "metadata": {
        "id": "ZenzaY03pFQ2",
        "colab_type": "code",
        "colab": {}
      },
      "source": [
        "from sklearn.datasets import load_iris"
      ],
      "execution_count": 0,
      "outputs": []
    },
    {
      "cell_type": "code",
      "metadata": {
        "id": "ourR2P11pHfF",
        "colab_type": "code",
        "outputId": "774d89ea-9d05-425a-ac41-98bc5123f59b",
        "colab": {
          "base_uri": "https://localhost:8080/",
          "height": 63
        }
      },
      "source": [
        "import tensorflow as tf\n",
        "from tensorflow import keras"
      ],
      "execution_count": 0,
      "outputs": [
        {
          "output_type": "display_data",
          "data": {
            "text/html": [
              "<p style=\"color: red;\">\n",
              "The default version of TensorFlow in Colab will soon switch to TensorFlow 2.x.<br>\n",
              "We recommend you <a href=\"https://www.tensorflow.org/guide/migrate\" target=\"_blank\">upgrade</a> now \n",
              "or ensure your notebook will continue to use TensorFlow 1.x via the <code>%tensorflow_version 1.x</code> magic:\n",
              "<a href=\"https://colab.research.google.com/notebooks/tensorflow_version.ipynb\" target=\"_blank\">more info</a>.</p>\n"
            ],
            "text/plain": [
              "<IPython.core.display.HTML object>"
            ]
          },
          "metadata": {
            "tags": []
          }
        }
      ]
    },
    {
      "cell_type": "code",
      "metadata": {
        "id": "Nmi8G7jwpJUp",
        "colab_type": "code",
        "colab": {}
      },
      "source": [
        "tf.random.set_random_seed(42)\n",
        "np.random.seed(42)"
      ],
      "execution_count": 0,
      "outputs": []
    },
    {
      "cell_type": "code",
      "metadata": {
        "id": "-zn0pJyIpLeE",
        "colab_type": "code",
        "colab": {}
      },
      "source": [
        "irisData = load_iris()"
      ],
      "execution_count": 0,
      "outputs": []
    },
    {
      "cell_type": "code",
      "metadata": {
        "id": "vRjrmtrQpV8C",
        "colab_type": "code",
        "colab": {}
      },
      "source": [
        "X = irisData.data\n",
        "y = irisData.target"
      ],
      "execution_count": 0,
      "outputs": []
    },
    {
      "cell_type": "code",
      "metadata": {
        "id": "U4lPc4izpXqj",
        "colab_type": "code",
        "colab": {}
      },
      "source": [
        "from sklearn.model_selection import train_test_split"
      ],
      "execution_count": 0,
      "outputs": []
    },
    {
      "cell_type": "code",
      "metadata": {
        "id": "8HGNgECUpabj",
        "colab_type": "code",
        "colab": {}
      },
      "source": [
        "X_train, X_test, y_train, y_test = train_test_split(X, y, test_size=0.2,stratify=y, random_state=42)"
      ],
      "execution_count": 0,
      "outputs": []
    },
    {
      "cell_type": "code",
      "metadata": {
        "id": "3pBgloWMpdm3",
        "colab_type": "code",
        "outputId": "d6092a28-c084-4870-d043-2a71c8ac875f",
        "colab": {
          "base_uri": "https://localhost:8080/",
          "height": 34
        }
      },
      "source": [
        "from sklearn.preprocessing import StandardScaler\n",
        "sc = StandardScaler()\n",
        "sc.fit(X_train)"
      ],
      "execution_count": 0,
      "outputs": [
        {
          "output_type": "execute_result",
          "data": {
            "text/plain": [
              "StandardScaler(copy=True, with_mean=True, with_std=True)"
            ]
          },
          "metadata": {
            "tags": []
          },
          "execution_count": 10
        }
      ]
    },
    {
      "cell_type": "code",
      "metadata": {
        "id": "PU_6ryaypkpd",
        "colab_type": "code",
        "colab": {}
      },
      "source": [
        "X_train_std = sc.transform(X_train)\n",
        "X_test_std = sc.transform(X_test)"
      ],
      "execution_count": 0,
      "outputs": []
    },
    {
      "cell_type": "code",
      "metadata": {
        "id": "TjJuJ_D4pm7z",
        "colab_type": "code",
        "colab": {}
      },
      "source": [
        "# Sequential() does linear stacking of layers\n",
        "model_DNN = keras.models.Sequential()"
      ],
      "execution_count": 0,
      "outputs": []
    },
    {
      "cell_type": "code",
      "metadata": {
        "id": "Jn4WfmmJppcV",
        "colab_type": "code",
        "outputId": "70ce749b-d063-4adb-ff22-00d72da97370",
        "colab": {
          "base_uri": "https://localhost:8080/",
          "height": 89
        }
      },
      "source": [
        "# Hidden layer definitions\n",
        "model_DNN.add(keras.layers.Dense(units=12, activation='relu', input_shape=X_train.shape[1:]))"
      ],
      "execution_count": 0,
      "outputs": [
        {
          "output_type": "stream",
          "text": [
            "WARNING:tensorflow:From /usr/local/lib/python3.6/dist-packages/tensorflow_core/python/ops/resource_variable_ops.py:1630: calling BaseResourceVariable.__init__ (from tensorflow.python.ops.resource_variable_ops) with constraint is deprecated and will be removed in a future version.\n",
            "Instructions for updating:\n",
            "If using Keras pass *_constraint arguments to layers.\n"
          ],
          "name": "stdout"
        }
      ]
    },
    {
      "cell_type": "code",
      "metadata": {
        "id": "1RiMHxhSpsKP",
        "colab_type": "code",
        "colab": {}
      },
      "source": [
        "# Dropout layer with 10% of nodes being discarded in each training step.\n",
        "model_DNN.add(keras.layers.Dropout(0.1))\n",
        "model_DNN.add(keras.layers.Dense(units=10, activation='relu'))"
      ],
      "execution_count": 0,
      "outputs": []
    },
    {
      "cell_type": "code",
      "metadata": {
        "id": "wZSVHSdtpxri",
        "colab_type": "code",
        "colab": {}
      },
      "source": [
        "# Dropout layer with 10% of nodes being discarded in each training step.\n",
        "model_DNN.add(keras.layers.Dropout(0.1))\n",
        "model_DNN.add(keras.layers.Dense(units= 8, activation='relu'))\n",
        "model_DNN.add(keras.layers.Dense(units=6, activation='relu'))"
      ],
      "execution_count": 0,
      "outputs": []
    },
    {
      "cell_type": "code",
      "metadata": {
        "id": "cWAsoq4cpyH4",
        "colab_type": "code",
        "outputId": "1ece15c8-6d4b-4315-ee6b-302e7f774a02",
        "colab": {
          "base_uri": "https://localhost:8080/",
          "height": 397
        }
      },
      "source": [
        "# Output layer definitions\n",
        "model_DNN.add(keras.layers.Dense(units=3, activation='sigmoid'))\n",
        "# Print the summary of network architecture\n",
        "model_DNN.summary()"
      ],
      "execution_count": 0,
      "outputs": [
        {
          "output_type": "stream",
          "text": [
            "Model: \"sequential\"\n",
            "_________________________________________________________________\n",
            "Layer (type)                 Output Shape              Param #   \n",
            "=================================================================\n",
            "dense (Dense)                (None, 12)                60        \n",
            "_________________________________________________________________\n",
            "dropout (Dropout)            (None, 12)                0         \n",
            "_________________________________________________________________\n",
            "dense_1 (Dense)              (None, 10)                130       \n",
            "_________________________________________________________________\n",
            "dropout_1 (Dropout)          (None, 10)                0         \n",
            "_________________________________________________________________\n",
            "dense_2 (Dense)              (None, 8)                 88        \n",
            "_________________________________________________________________\n",
            "dense_3 (Dense)              (None, 6)                 54        \n",
            "_________________________________________________________________\n",
            "dense_4 (Dense)              (None, 3)                 21        \n",
            "=================================================================\n",
            "Total params: 353\n",
            "Trainable params: 353\n",
            "Non-trainable params: 0\n",
            "_________________________________________________________________\n"
          ],
          "name": "stdout"
        }
      ]
    },
    {
      "cell_type": "code",
      "metadata": {
        "id": "qvpiyUOrp0Li",
        "colab_type": "code",
        "colab": {}
      },
      "source": [
        "model_DNN.compile(loss='sparse_categorical_crossentropy',optimizer='adam', metrics=['accuracy'])"
      ],
      "execution_count": 0,
      "outputs": []
    },
    {
      "cell_type": "code",
      "metadata": {
        "id": "R3Wvtrs-p3wD",
        "colab_type": "code",
        "outputId": "1702d219-b075-40e1-df75-2d2e9908943d",
        "colab": {
          "base_uri": "https://localhost:8080/",
          "height": 1000
        }
      },
      "source": [
        "model_DNN.fit(x=X_train_std, y=y_train, validation_split=0.1, epochs=50,batch_size=16)"
      ],
      "execution_count": 0,
      "outputs": [
        {
          "output_type": "stream",
          "text": [
            "WARNING:tensorflow:From /usr/local/lib/python3.6/dist-packages/tensorflow_core/python/ops/math_grad.py:1424: where (from tensorflow.python.ops.array_ops) is deprecated and will be removed in a future version.\n",
            "Instructions for updating:\n",
            "Use tf.where in 2.0, which has the same broadcast rule as np.where\n",
            "Train on 108 samples, validate on 12 samples\n",
            "Epoch 1/50\n",
            "108/108 [==============================] - 0s 3ms/sample - loss: 1.0943 - acc: 0.3519 - val_loss: 1.1124 - val_acc: 0.0833\n",
            "Epoch 2/50\n",
            "108/108 [==============================] - 0s 177us/sample - loss: 1.0860 - acc: 0.3519 - val_loss: 1.1052 - val_acc: 0.0833\n",
            "Epoch 3/50\n",
            "108/108 [==============================] - 0s 189us/sample - loss: 1.0728 - acc: 0.3611 - val_loss: 1.0986 - val_acc: 0.0833\n",
            "Epoch 4/50\n",
            "108/108 [==============================] - 0s 178us/sample - loss: 1.0641 - acc: 0.3611 - val_loss: 1.0928 - val_acc: 0.0833\n",
            "Epoch 5/50\n",
            "108/108 [==============================] - 0s 155us/sample - loss: 1.0498 - acc: 0.3519 - val_loss: 1.0864 - val_acc: 0.0833\n",
            "Epoch 6/50\n",
            "108/108 [==============================] - 0s 160us/sample - loss: 1.0378 - acc: 0.3519 - val_loss: 1.0799 - val_acc: 0.0833\n",
            "Epoch 7/50\n",
            "108/108 [==============================] - 0s 166us/sample - loss: 1.0272 - acc: 0.3981 - val_loss: 1.0740 - val_acc: 0.1667\n",
            "Epoch 8/50\n",
            "108/108 [==============================] - 0s 167us/sample - loss: 1.0106 - acc: 0.4167 - val_loss: 1.0686 - val_acc: 0.1667\n",
            "Epoch 9/50\n",
            "108/108 [==============================] - 0s 163us/sample - loss: 1.0015 - acc: 0.4259 - val_loss: 1.0612 - val_acc: 0.2500\n",
            "Epoch 10/50\n",
            "108/108 [==============================] - 0s 159us/sample - loss: 0.9999 - acc: 0.4537 - val_loss: 1.0539 - val_acc: 0.2500\n",
            "Epoch 11/50\n",
            "108/108 [==============================] - 0s 142us/sample - loss: 0.9612 - acc: 0.5000 - val_loss: 1.0458 - val_acc: 0.5000\n",
            "Epoch 12/50\n",
            "108/108 [==============================] - 0s 194us/sample - loss: 0.9576 - acc: 0.5370 - val_loss: 1.0370 - val_acc: 0.5000\n",
            "Epoch 13/50\n",
            "108/108 [==============================] - 0s 146us/sample - loss: 0.9541 - acc: 0.5833 - val_loss: 1.0278 - val_acc: 0.5000\n",
            "Epoch 14/50\n",
            "108/108 [==============================] - 0s 171us/sample - loss: 0.9323 - acc: 0.6111 - val_loss: 1.0178 - val_acc: 0.5000\n",
            "Epoch 15/50\n",
            "108/108 [==============================] - 0s 140us/sample - loss: 0.9204 - acc: 0.5926 - val_loss: 1.0081 - val_acc: 0.5000\n",
            "Epoch 16/50\n",
            "108/108 [==============================] - 0s 166us/sample - loss: 0.9118 - acc: 0.6296 - val_loss: 0.9985 - val_acc: 0.5000\n",
            "Epoch 17/50\n",
            "108/108 [==============================] - 0s 152us/sample - loss: 0.9019 - acc: 0.6389 - val_loss: 0.9878 - val_acc: 0.5000\n",
            "Epoch 18/50\n",
            "108/108 [==============================] - 0s 182us/sample - loss: 0.8899 - acc: 0.6296 - val_loss: 0.9777 - val_acc: 0.5000\n",
            "Epoch 19/50\n",
            "108/108 [==============================] - 0s 170us/sample - loss: 0.8799 - acc: 0.6111 - val_loss: 0.9674 - val_acc: 0.5833\n",
            "Epoch 20/50\n",
            "108/108 [==============================] - 0s 153us/sample - loss: 0.8703 - acc: 0.6389 - val_loss: 0.9572 - val_acc: 0.5833\n",
            "Epoch 21/50\n",
            "108/108 [==============================] - 0s 155us/sample - loss: 0.8620 - acc: 0.6296 - val_loss: 0.9478 - val_acc: 0.5833\n",
            "Epoch 22/50\n",
            "108/108 [==============================] - 0s 174us/sample - loss: 0.8499 - acc: 0.6481 - val_loss: 0.9387 - val_acc: 0.5833\n",
            "Epoch 23/50\n",
            "108/108 [==============================] - 0s 152us/sample - loss: 0.8397 - acc: 0.6481 - val_loss: 0.9291 - val_acc: 0.5833\n",
            "Epoch 24/50\n",
            "108/108 [==============================] - 0s 137us/sample - loss: 0.8294 - acc: 0.6574 - val_loss: 0.9200 - val_acc: 0.5833\n",
            "Epoch 25/50\n",
            "108/108 [==============================] - 0s 150us/sample - loss: 0.8269 - acc: 0.6574 - val_loss: 0.9116 - val_acc: 0.5833\n",
            "Epoch 26/50\n",
            "108/108 [==============================] - 0s 166us/sample - loss: 0.8142 - acc: 0.6667 - val_loss: 0.9023 - val_acc: 0.5833\n",
            "Epoch 27/50\n",
            "108/108 [==============================] - 0s 149us/sample - loss: 0.8102 - acc: 0.6574 - val_loss: 0.8930 - val_acc: 0.5833\n",
            "Epoch 28/50\n",
            "108/108 [==============================] - 0s 158us/sample - loss: 0.7998 - acc: 0.6667 - val_loss: 0.8846 - val_acc: 0.5833\n",
            "Epoch 29/50\n",
            "108/108 [==============================] - 0s 235us/sample - loss: 0.7958 - acc: 0.6759 - val_loss: 0.8752 - val_acc: 0.5833\n",
            "Epoch 30/50\n",
            "108/108 [==============================] - 0s 184us/sample - loss: 0.7866 - acc: 0.6667 - val_loss: 0.8652 - val_acc: 0.5833\n",
            "Epoch 31/50\n",
            "108/108 [==============================] - 0s 207us/sample - loss: 0.7829 - acc: 0.6759 - val_loss: 0.8539 - val_acc: 0.5833\n",
            "Epoch 32/50\n",
            "108/108 [==============================] - 0s 159us/sample - loss: 0.7747 - acc: 0.6759 - val_loss: 0.8428 - val_acc: 0.5833\n",
            "Epoch 33/50\n",
            "108/108 [==============================] - 0s 151us/sample - loss: 0.7716 - acc: 0.6759 - val_loss: 0.8319 - val_acc: 0.5833\n",
            "Epoch 34/50\n",
            "108/108 [==============================] - 0s 141us/sample - loss: 0.7658 - acc: 0.6759 - val_loss: 0.8208 - val_acc: 0.5833\n",
            "Epoch 35/50\n",
            "108/108 [==============================] - 0s 156us/sample - loss: 0.7486 - acc: 0.6759 - val_loss: 0.8078 - val_acc: 0.5833\n",
            "Epoch 36/50\n",
            "108/108 [==============================] - 0s 156us/sample - loss: 0.7366 - acc: 0.6759 - val_loss: 0.7940 - val_acc: 0.5833\n",
            "Epoch 37/50\n",
            "108/108 [==============================] - 0s 154us/sample - loss: 0.7297 - acc: 0.6759 - val_loss: 0.7795 - val_acc: 0.5833\n",
            "Epoch 38/50\n",
            "108/108 [==============================] - 0s 155us/sample - loss: 0.7264 - acc: 0.6667 - val_loss: 0.7644 - val_acc: 0.5833\n",
            "Epoch 39/50\n",
            "108/108 [==============================] - 0s 158us/sample - loss: 0.7104 - acc: 0.6759 - val_loss: 0.7479 - val_acc: 0.5833\n",
            "Epoch 40/50\n",
            "108/108 [==============================] - 0s 148us/sample - loss: 0.7017 - acc: 0.6667 - val_loss: 0.7314 - val_acc: 0.5833\n",
            "Epoch 41/50\n",
            "108/108 [==============================] - 0s 162us/sample - loss: 0.6822 - acc: 0.6759 - val_loss: 0.7138 - val_acc: 0.5833\n",
            "Epoch 42/50\n",
            "108/108 [==============================] - 0s 150us/sample - loss: 0.6751 - acc: 0.6759 - val_loss: 0.6962 - val_acc: 0.5833\n",
            "Epoch 43/50\n",
            "108/108 [==============================] - 0s 173us/sample - loss: 0.6739 - acc: 0.6759 - val_loss: 0.6769 - val_acc: 0.5833\n",
            "Epoch 44/50\n",
            "108/108 [==============================] - 0s 154us/sample - loss: 0.6578 - acc: 0.6759 - val_loss: 0.6573 - val_acc: 0.5833\n",
            "Epoch 45/50\n",
            "108/108 [==============================] - 0s 196us/sample - loss: 0.6422 - acc: 0.6759 - val_loss: 0.6370 - val_acc: 0.5833\n",
            "Epoch 46/50\n",
            "108/108 [==============================] - 0s 174us/sample - loss: 0.6389 - acc: 0.6759 - val_loss: 0.6172 - val_acc: 0.5833\n",
            "Epoch 47/50\n",
            "108/108 [==============================] - 0s 182us/sample - loss: 0.6153 - acc: 0.6759 - val_loss: 0.5981 - val_acc: 0.5833\n",
            "Epoch 48/50\n",
            "108/108 [==============================] - 0s 183us/sample - loss: 0.6145 - acc: 0.6759 - val_loss: 0.5781 - val_acc: 0.5833\n",
            "Epoch 49/50\n",
            "108/108 [==============================] - 0s 170us/sample - loss: 0.5943 - acc: 0.6759 - val_loss: 0.5588 - val_acc: 0.5833\n",
            "Epoch 50/50\n",
            "108/108 [==============================] - 0s 161us/sample - loss: 0.5932 - acc: 0.6667 - val_loss: 0.5400 - val_acc: 0.5833\n"
          ],
          "name": "stdout"
        },
        {
          "output_type": "execute_result",
          "data": {
            "text/plain": [
              "<tensorflow.python.keras.callbacks.History at 0x7f20ddd07d68>"
            ]
          },
          "metadata": {
            "tags": []
          },
          "execution_count": 18
        }
      ]
    },
    {
      "cell_type": "code",
      "metadata": {
        "id": "S1x6p-nFp6zx",
        "colab_type": "code",
        "outputId": "998b55c1-c9ef-4887-bbae-f88bdbf19835",
        "colab": {
          "base_uri": "https://localhost:8080/",
          "height": 34
        }
      },
      "source": [
        "test_loss, test_accuracy = model_DNN.evaluate(x=X_test_std, y=y_test)"
      ],
      "execution_count": 0,
      "outputs": [
        {
          "output_type": "stream",
          "text": [
            "\r30/30 [==============================] - 0s 72us/sample - loss: 0.5598 - acc: 0.6667\n"
          ],
          "name": "stdout"
        }
      ]
    },
    {
      "cell_type": "code",
      "metadata": {
        "id": "aDNDHov9p9QE",
        "colab_type": "code",
        "outputId": "7bc28444-fad5-41e4-dc6a-2726500a72f6",
        "colab": {
          "base_uri": "https://localhost:8080/",
          "height": 34
        }
      },
      "source": [
        "print(test_loss, test_accuracy)"
      ],
      "execution_count": 0,
      "outputs": [
        {
          "output_type": "stream",
          "text": [
            "0.5598045587539673 0.6666667\n"
          ],
          "name": "stdout"
        }
      ]
    },
    {
      "cell_type": "code",
      "metadata": {
        "id": "AayHdyTyp_jW",
        "colab_type": "code",
        "colab": {}
      },
      "source": [
        ""
      ],
      "execution_count": 0,
      "outputs": []
    }
  ]
}