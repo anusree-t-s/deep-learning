{
  "nbformat": 4,
  "nbformat_minor": 0,
  "metadata": {
    "colab": {
      "name": "mlp_keras_cancer.ipynb",
      "provenance": []
    },
    "kernelspec": {
      "name": "python3",
      "display_name": "Python 3"
    }
  },
  "cells": [
    {
      "cell_type": "code",
      "metadata": {
        "id": "gteLxuipTRAz",
        "colab_type": "code",
        "colab": {}
      },
      "source": [
        "import numpy as np\n",
        "import pandas as pd\n",
        "import matplotlib.pyplot as plt"
      ],
      "execution_count": 0,
      "outputs": []
    },
    {
      "cell_type": "code",
      "metadata": {
        "id": "vgWdiMDeTkrv",
        "colab_type": "code",
        "colab": {}
      },
      "source": [
        "from sklearn.datasets import load_breast_cancer"
      ],
      "execution_count": 0,
      "outputs": []
    },
    {
      "cell_type": "code",
      "metadata": {
        "id": "K3vJcVV5TrRm",
        "colab_type": "code",
        "colab": {}
      },
      "source": [
        "import tensorflow as tf\n",
        "from tensorflow import keras"
      ],
      "execution_count": 0,
      "outputs": []
    },
    {
      "cell_type": "code",
      "metadata": {
        "id": "ObdZGezBT91r",
        "colab_type": "code",
        "colab": {}
      },
      "source": [
        "tf.set_random_seed(42)\n",
        "np.random.seed(42)"
      ],
      "execution_count": 0,
      "outputs": []
    },
    {
      "cell_type": "code",
      "metadata": {
        "id": "12TWV5DbUCgK",
        "colab_type": "code",
        "outputId": "f6e67923-b9b8-4530-d146-bcb8e0993e0b",
        "colab": {
          "base_uri": "https://localhost:8080/",
          "height": 54
        }
      },
      "source": [
        "cancerDataset = load_breast_cancer()\n",
        "X = cancerDataset.data\n",
        "y = cancerDataset.target\n",
        "cancerDataset.DESCR\n"
      ],
      "execution_count": 0,
      "outputs": [
        {
          "output_type": "execute_result",
          "data": {
            "text/plain": [
              "'.. _breast_cancer_dataset:\\n\\nBreast cancer wisconsin (diagnostic) dataset\\n--------------------------------------------\\n\\n**Data Set Characteristics:**\\n\\n    :Number of Instances: 569\\n\\n    :Number of Attributes: 30 numeric, predictive attributes and the class\\n\\n    :Attribute Information:\\n        - radius (mean of distances from center to points on the perimeter)\\n        - texture (standard deviation of gray-scale values)\\n        - perimeter\\n        - area\\n        - smoothness (local variation in radius lengths)\\n        - compactness (perimeter^2 / area - 1.0)\\n        - concavity (severity of concave portions of the contour)\\n        - concave points (number of concave portions of the contour)\\n        - symmetry \\n        - fractal dimension (\"coastline approximation\" - 1)\\n\\n        The mean, standard error, and \"worst\" or largest (mean of the three\\n        largest values) of these features were computed for each image,\\n        resulting in 30 features.  For instance, field 3 is Mean Radius, field\\n        13 is Radius SE, field 23 is Worst Radius.\\n\\n        - class:\\n                - WDBC-Malignant\\n                - WDBC-Benign\\n\\n    :Summary Statistics:\\n\\n    ===================================== ====== ======\\n                                           Min    Max\\n    ===================================== ====== ======\\n    radius (mean):                        6.981  28.11\\n    texture (mean):                       9.71   39.28\\n    perimeter (mean):                     43.79  188.5\\n    area (mean):                          143.5  2501.0\\n    smoothness (mean):                    0.053  0.163\\n    compactness (mean):                   0.019  0.345\\n    concavity (mean):                     0.0    0.427\\n    concave points (mean):                0.0    0.201\\n    symmetry (mean):                      0.106  0.304\\n    fractal dimension (mean):             0.05   0.097\\n    radius (standard error):              0.112  2.873\\n    texture (standard error):             0.36   4.885\\n    perimeter (standard error):           0.757  21.98\\n    area (standard error):                6.802  542.2\\n    smoothness (standard error):          0.002  0.031\\n    compactness (standard error):         0.002  0.135\\n    concavity (standard error):           0.0    0.396\\n    concave points (standard error):      0.0    0.053\\n    symmetry (standard error):            0.008  0.079\\n    fractal dimension (standard error):   0.001  0.03\\n    radius (worst):                       7.93   36.04\\n    texture (worst):                      12.02  49.54\\n    perimeter (worst):                    50.41  251.2\\n    area (worst):                         185.2  4254.0\\n    smoothness (worst):                   0.071  0.223\\n    compactness (worst):                  0.027  1.058\\n    concavity (worst):                    0.0    1.252\\n    concave points (worst):               0.0    0.291\\n    symmetry (worst):                     0.156  0.664\\n    fractal dimension (worst):            0.055  0.208\\n    ===================================== ====== ======\\n\\n    :Missing Attribute Values: None\\n\\n    :Class Distribution: 212 - Malignant, 357 - Benign\\n\\n    :Creator:  Dr. William H. Wolberg, W. Nick Street, Olvi L. Mangasarian\\n\\n    :Donor: Nick Street\\n\\n    :Date: November, 1995\\n\\nThis is a copy of UCI ML Breast Cancer Wisconsin (Diagnostic) datasets.\\nhttps://goo.gl/U2Uwz2\\n\\nFeatures are computed from a digitized image of a fine needle\\naspirate (FNA) of a breast mass.  They describe\\ncharacteristics of the cell nuclei present in the image.\\n\\nSeparating plane described above was obtained using\\nMultisurface Method-Tree (MSM-T) [K. P. Bennett, \"Decision Tree\\nConstruction Via Linear Programming.\" Proceedings of the 4th\\nMidwest Artificial Intelligence and Cognitive Science Society,\\npp. 97-101, 1992], a classification method which uses linear\\nprogramming to construct a decision tree.  Relevant features\\nwere selected using an exhaustive search in the space of 1-4\\nfeatures and 1-3 separating planes.\\n\\nThe actual linear program used to obtain the separating plane\\nin the 3-dimensional space is that described in:\\n[K. P. Bennett and O. L. Mangasarian: \"Robust Linear\\nProgramming Discrimination of Two Linearly Inseparable Sets\",\\nOptimization Methods and Software 1, 1992, 23-34].\\n\\nThis database is also available through the UW CS ftp server:\\n\\nftp ftp.cs.wisc.edu\\ncd math-prog/cpo-dataset/machine-learn/WDBC/\\n\\n.. topic:: References\\n\\n   - W.N. Street, W.H. Wolberg and O.L. Mangasarian. Nuclear feature extraction \\n     for breast tumor diagnosis. IS&T/SPIE 1993 International Symposium on \\n     Electronic Imaging: Science and Technology, volume 1905, pages 861-870,\\n     San Jose, CA, 1993.\\n   - O.L. Mangasarian, W.N. Street and W.H. Wolberg. Breast cancer diagnosis and \\n     prognosis via linear programming. Operations Research, 43(4), pages 570-577, \\n     July-August 1995.\\n   - W.H. Wolberg, W.N. Street, and O.L. Mangasarian. Machine learning techniques\\n     to diagnose breast cancer from fine-needle aspirates. Cancer Letters 77 (1994) \\n     163-171.'"
            ]
          },
          "metadata": {
            "tags": []
          },
          "execution_count": 17
        }
      ]
    },
    {
      "cell_type": "code",
      "metadata": {
        "id": "zbeBBiPSUKAg",
        "colab_type": "code",
        "colab": {}
      },
      "source": [
        "from sklearn.model_selection import train_test_split\n",
        "X_train, X_test, y_train, y_test = train_test_split(X, y, test_size=0.2,stratify=y, random_state=42)\n",
        "from sklearn.preprocessing import StandardScaler\n",
        "sc = StandardScaler()\n",
        "sc.fit(X_train)\n",
        "X_train_std = sc.transform(X_train)\n",
        "X_test_std = sc.transform(X_test)\n"
      ],
      "execution_count": 0,
      "outputs": []
    },
    {
      "cell_type": "code",
      "metadata": {
        "id": "LafAiUpKVKNO",
        "colab_type": "code",
        "outputId": "826d6bf3-0559-4b88-e17f-e77520265d4a",
        "colab": {
          "base_uri": "https://localhost:8080/",
          "height": 1000
        }
      },
      "source": [
        "model_MLP = keras.models.Sequential()\n",
        "model_MLP.add(keras.layers.Dense(units=5, activation='relu',input_shape= X_train.shape[1:]))\n",
        "model_MLP.add(keras.layers.Dense(units=1, activation='sigmoid'))\n",
        "\n",
        "\n",
        "model_MLP.summary()\n",
        "\n",
        "model_MLP.compile(loss='binary_crossentropy', optimizer='adam',metrics=['accuracy'])\n",
        "model_MLP.fit(x=X_train_std, y=y_train, validation_split=0.1,epochs=50, batch_size=16)\n",
        "test_loss, test_accuracy = model_MLP.evaluate(x=X_test_std, y=y_test)\n",
        "print(test_loss, test_accuracy)"
      ],
      "execution_count": 0,
      "outputs": [
        {
          "output_type": "stream",
          "text": [
            "Model: \"sequential_2\"\n",
            "_________________________________________________________________\n",
            "Layer (type)                 Output Shape              Param #   \n",
            "=================================================================\n",
            "dense_4 (Dense)              (None, 5)                 155       \n",
            "_________________________________________________________________\n",
            "dense_5 (Dense)              (None, 1)                 6         \n",
            "=================================================================\n",
            "Total params: 161\n",
            "Trainable params: 161\n",
            "Non-trainable params: 0\n",
            "_________________________________________________________________\n",
            "Train on 409 samples, validate on 46 samples\n",
            "Epoch 1/50\n",
            "409/409 [==============================] - 0s 243us/sample - loss: 0.5982 - acc: 0.7311 - val_loss: 0.6158 - val_acc: 0.6957\n",
            "Epoch 2/50\n",
            "409/409 [==============================] - 0s 90us/sample - loss: 0.5009 - acc: 0.7922 - val_loss: 0.5527 - val_acc: 0.8043\n",
            "Epoch 3/50\n",
            "409/409 [==============================] - 0s 87us/sample - loss: 0.4261 - acc: 0.8704 - val_loss: 0.4975 - val_acc: 0.8261\n",
            "Epoch 4/50\n",
            "409/409 [==============================] - 0s 86us/sample - loss: 0.3665 - acc: 0.9095 - val_loss: 0.4463 - val_acc: 0.8478\n",
            "Epoch 5/50\n",
            "409/409 [==============================] - 0s 70us/sample - loss: 0.3179 - acc: 0.9315 - val_loss: 0.3995 - val_acc: 0.8696\n",
            "Epoch 6/50\n",
            "409/409 [==============================] - 0s 77us/sample - loss: 0.2775 - acc: 0.9438 - val_loss: 0.3569 - val_acc: 0.9130\n",
            "Epoch 7/50\n",
            "409/409 [==============================] - 0s 73us/sample - loss: 0.2448 - acc: 0.9511 - val_loss: 0.3215 - val_acc: 0.9130\n",
            "Epoch 8/50\n",
            "409/409 [==============================] - 0s 84us/sample - loss: 0.2188 - acc: 0.9511 - val_loss: 0.2923 - val_acc: 0.9130\n",
            "Epoch 9/50\n",
            "409/409 [==============================] - 0s 83us/sample - loss: 0.1977 - acc: 0.9535 - val_loss: 0.2651 - val_acc: 0.9130\n",
            "Epoch 10/50\n",
            "409/409 [==============================] - 0s 75us/sample - loss: 0.1794 - acc: 0.9535 - val_loss: 0.2434 - val_acc: 0.9130\n",
            "Epoch 11/50\n",
            "409/409 [==============================] - 0s 85us/sample - loss: 0.1646 - acc: 0.9535 - val_loss: 0.2247 - val_acc: 0.9130\n",
            "Epoch 12/50\n",
            "409/409 [==============================] - 0s 82us/sample - loss: 0.1517 - acc: 0.9633 - val_loss: 0.2101 - val_acc: 0.9130\n",
            "Epoch 13/50\n",
            "409/409 [==============================] - 0s 97us/sample - loss: 0.1407 - acc: 0.9658 - val_loss: 0.1958 - val_acc: 0.9348\n",
            "Epoch 14/50\n",
            "409/409 [==============================] - 0s 90us/sample - loss: 0.1308 - acc: 0.9731 - val_loss: 0.1799 - val_acc: 0.9348\n",
            "Epoch 15/50\n",
            "409/409 [==============================] - 0s 89us/sample - loss: 0.1224 - acc: 0.9756 - val_loss: 0.1689 - val_acc: 0.9348\n",
            "Epoch 16/50\n",
            "409/409 [==============================] - 0s 85us/sample - loss: 0.1152 - acc: 0.9756 - val_loss: 0.1582 - val_acc: 0.9565\n",
            "Epoch 17/50\n",
            "409/409 [==============================] - 0s 85us/sample - loss: 0.1087 - acc: 0.9731 - val_loss: 0.1496 - val_acc: 0.9565\n",
            "Epoch 18/50\n",
            "409/409 [==============================] - 0s 83us/sample - loss: 0.1029 - acc: 0.9731 - val_loss: 0.1431 - val_acc: 0.9565\n",
            "Epoch 19/50\n",
            "409/409 [==============================] - 0s 95us/sample - loss: 0.0981 - acc: 0.9731 - val_loss: 0.1371 - val_acc: 0.9565\n",
            "Epoch 20/50\n",
            "409/409 [==============================] - 0s 86us/sample - loss: 0.0938 - acc: 0.9731 - val_loss: 0.1318 - val_acc: 0.9565\n",
            "Epoch 21/50\n",
            "409/409 [==============================] - 0s 94us/sample - loss: 0.0903 - acc: 0.9756 - val_loss: 0.1272 - val_acc: 0.9565\n",
            "Epoch 22/50\n",
            "409/409 [==============================] - 0s 85us/sample - loss: 0.0869 - acc: 0.9756 - val_loss: 0.1234 - val_acc: 0.9565\n",
            "Epoch 23/50\n",
            "409/409 [==============================] - 0s 88us/sample - loss: 0.0841 - acc: 0.9780 - val_loss: 0.1200 - val_acc: 0.9565\n",
            "Epoch 24/50\n",
            "409/409 [==============================] - 0s 111us/sample - loss: 0.0816 - acc: 0.9780 - val_loss: 0.1164 - val_acc: 0.9565\n",
            "Epoch 25/50\n",
            "409/409 [==============================] - 0s 111us/sample - loss: 0.0792 - acc: 0.9804 - val_loss: 0.1140 - val_acc: 0.9565\n",
            "Epoch 26/50\n",
            "409/409 [==============================] - 0s 92us/sample - loss: 0.0771 - acc: 0.9804 - val_loss: 0.1113 - val_acc: 0.9565\n",
            "Epoch 27/50\n",
            "409/409 [==============================] - 0s 90us/sample - loss: 0.0751 - acc: 0.9804 - val_loss: 0.1099 - val_acc: 0.9565\n",
            "Epoch 28/50\n",
            "409/409 [==============================] - 0s 83us/sample - loss: 0.0732 - acc: 0.9829 - val_loss: 0.1075 - val_acc: 0.9565\n",
            "Epoch 29/50\n",
            "409/409 [==============================] - 0s 86us/sample - loss: 0.0715 - acc: 0.9829 - val_loss: 0.1054 - val_acc: 0.9565\n",
            "Epoch 30/50\n",
            "409/409 [==============================] - 0s 78us/sample - loss: 0.0699 - acc: 0.9829 - val_loss: 0.1041 - val_acc: 0.9565\n",
            "Epoch 31/50\n",
            "409/409 [==============================] - 0s 88us/sample - loss: 0.0686 - acc: 0.9829 - val_loss: 0.1019 - val_acc: 0.9565\n",
            "Epoch 32/50\n",
            "409/409 [==============================] - 0s 86us/sample - loss: 0.0671 - acc: 0.9829 - val_loss: 0.0998 - val_acc: 0.9565\n",
            "Epoch 33/50\n",
            "409/409 [==============================] - 0s 76us/sample - loss: 0.0659 - acc: 0.9829 - val_loss: 0.0990 - val_acc: 0.9565\n",
            "Epoch 34/50\n",
            "409/409 [==============================] - 0s 87us/sample - loss: 0.0645 - acc: 0.9853 - val_loss: 0.0967 - val_acc: 0.9565\n",
            "Epoch 35/50\n",
            "409/409 [==============================] - 0s 111us/sample - loss: 0.0633 - acc: 0.9829 - val_loss: 0.0945 - val_acc: 0.9565\n",
            "Epoch 36/50\n",
            "409/409 [==============================] - 0s 100us/sample - loss: 0.0621 - acc: 0.9829 - val_loss: 0.0924 - val_acc: 0.9565\n",
            "Epoch 37/50\n",
            "409/409 [==============================] - 0s 99us/sample - loss: 0.0610 - acc: 0.9853 - val_loss: 0.0905 - val_acc: 0.9565\n",
            "Epoch 38/50\n",
            "409/409 [==============================] - 0s 92us/sample - loss: 0.0599 - acc: 0.9853 - val_loss: 0.0900 - val_acc: 0.9565\n",
            "Epoch 39/50\n",
            "409/409 [==============================] - 0s 97us/sample - loss: 0.0588 - acc: 0.9853 - val_loss: 0.0885 - val_acc: 0.9565\n",
            "Epoch 40/50\n",
            "409/409 [==============================] - 0s 90us/sample - loss: 0.0578 - acc: 0.9853 - val_loss: 0.0868 - val_acc: 0.9565\n",
            "Epoch 41/50\n",
            "409/409 [==============================] - 0s 87us/sample - loss: 0.0568 - acc: 0.9853 - val_loss: 0.0855 - val_acc: 0.9565\n",
            "Epoch 42/50\n",
            "409/409 [==============================] - 0s 87us/sample - loss: 0.0559 - acc: 0.9853 - val_loss: 0.0844 - val_acc: 0.9565\n",
            "Epoch 43/50\n",
            "409/409 [==============================] - 0s 88us/sample - loss: 0.0548 - acc: 0.9853 - val_loss: 0.0831 - val_acc: 0.9565\n",
            "Epoch 44/50\n",
            "409/409 [==============================] - 0s 85us/sample - loss: 0.0540 - acc: 0.9853 - val_loss: 0.0822 - val_acc: 0.9565\n",
            "Epoch 45/50\n",
            "409/409 [==============================] - 0s 86us/sample - loss: 0.0529 - acc: 0.9878 - val_loss: 0.0801 - val_acc: 0.9565\n",
            "Epoch 46/50\n",
            "409/409 [==============================] - 0s 99us/sample - loss: 0.0520 - acc: 0.9878 - val_loss: 0.0797 - val_acc: 0.9565\n",
            "Epoch 47/50\n",
            "409/409 [==============================] - 0s 93us/sample - loss: 0.0511 - acc: 0.9878 - val_loss: 0.0788 - val_acc: 0.9565\n",
            "Epoch 48/50\n",
            "409/409 [==============================] - 0s 96us/sample - loss: 0.0503 - acc: 0.9878 - val_loss: 0.0768 - val_acc: 0.9565\n",
            "Epoch 49/50\n",
            "409/409 [==============================] - 0s 89us/sample - loss: 0.0496 - acc: 0.9878 - val_loss: 0.0762 - val_acc: 0.9565\n",
            "Epoch 50/50\n",
            "409/409 [==============================] - 0s 96us/sample - loss: 0.0488 - acc: 0.9878 - val_loss: 0.0756 - val_acc: 0.9565\n",
            "114/114 [==============================] - 0s 52us/sample - loss: 0.1020 - acc: 0.9474\n",
            "0.10202030046728619 0.94736844\n"
          ],
          "name": "stdout"
        }
      ]
    },
    {
      "cell_type": "code",
      "metadata": {
        "id": "_UW2mzPMYxHD",
        "colab_type": "code",
        "outputId": "fefaab92-15f1-4090-b48a-e93708e94cc7",
        "colab": {
          "base_uri": "https://localhost:8080/",
          "height": 34
        }
      },
      "source": [
        "print(X_train.shape[:])"
      ],
      "execution_count": 0,
      "outputs": [
        {
          "output_type": "stream",
          "text": [
            "(455, 30)\n"
          ],
          "name": "stdout"
        }
      ]
    },
    {
      "cell_type": "code",
      "metadata": {
        "id": "T1ybaja_arEC",
        "colab_type": "code",
        "colab": {}
      },
      "source": [
        ""
      ],
      "execution_count": 0,
      "outputs": []
    }
  ]
}