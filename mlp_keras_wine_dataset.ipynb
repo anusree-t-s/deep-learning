{
  "nbformat": 4,
  "nbformat_minor": 0,
  "metadata": {
    "colab": {
      "name": "mlp_keras_wine_dataset.ipynb",
      "provenance": [],
      "authorship_tag": "ABX9TyMRxf+mfutIqvA/G+1jopXb",
      "include_colab_link": true
    },
    "kernelspec": {
      "name": "python3",
      "display_name": "Python 3"
    }
  },
  "cells": [
    {
      "cell_type": "markdown",
      "metadata": {
        "id": "view-in-github",
        "colab_type": "text"
      },
      "source": [
        "<a href=\"https://colab.research.google.com/github/anusree-t-s/deep-learning/blob/master/mlp_keras_wine_dataset.ipynb\" target=\"_parent\"><img src=\"https://colab.research.google.com/assets/colab-badge.svg\" alt=\"Open In Colab\"/></a>"
      ]
    },
    {
      "cell_type": "code",
      "metadata": {
        "id": "g5yCNuFnKWjG",
        "colab_type": "code",
        "colab": {}
      },
      "source": [
        "import numpy as np\n",
        "import pandas as pd\n",
        "import matplotlib.pyplot as plt\n",
        "# Load the dataset from sklearn\n",
        "from sklearn.datasets import load_wine"
      ],
      "execution_count": 0,
      "outputs": []
    },
    {
      "cell_type": "code",
      "metadata": {
        "id": "KvJhGWLqJhvX",
        "colab_type": "code",
        "colab": {}
      },
      "source": [
        "wineData = load_wine()\n",
        "X = wineData.data\n",
        "y = wineData.target\n"
      ],
      "execution_count": 0,
      "outputs": []
    },
    {
      "cell_type": "code",
      "metadata": {
        "id": "alKwbtzAJhsS",
        "colab_type": "code",
        "colab": {}
      },
      "source": [
        "from sklearn.model_selection import train_test_split\n",
        "\n",
        "X_train, X_test, y_train, y_test = train_test_split(X, y, test_size=0.2,stratify=y, random_state=42)"
      ],
      "execution_count": 0,
      "outputs": []
    },
    {
      "cell_type": "code",
      "metadata": {
        "id": "-wewTyJsKfw3",
        "colab_type": "code",
        "colab": {}
      },
      "source": [
        "import tensorflow as tf\n",
        "from tensorflow import keras"
      ],
      "execution_count": 0,
      "outputs": []
    },
    {
      "cell_type": "code",
      "metadata": {
        "id": "OmQKa7eOKidZ",
        "colab_type": "code",
        "colab": {}
      },
      "source": [
        "tf.set_random_seed(42)\n",
        "np.random.seed(42)"
      ],
      "execution_count": 0,
      "outputs": []
    },
    {
      "cell_type": "code",
      "metadata": {
        "id": "CkJV8CUJKyl1",
        "colab_type": "code",
        "colab": {}
      },
      "source": [
        "from sklearn.preprocessing import StandardScaler\n",
        "sc = StandardScaler()\n",
        "# Training the feature scaling parameters\n",
        "sc.fit(X_train)\n",
        "# Applying transformations to both training and testing set\n",
        "X_train_std = sc.transform(X_train)\n",
        "X_test_std = sc.transform(X_test)"
      ],
      "execution_count": 0,
      "outputs": []
    },
    {
      "cell_type": "code",
      "metadata": {
        "id": "JcLJGM3xK3C2",
        "colab_type": "code",
        "outputId": "f32298e3-ee46-4bcf-f729-185904a3ff86",
        "colab": {
          "base_uri": "https://localhost:8080/",
          "height": 286
        }
      },
      "source": [
        "model_MLP = keras.models.Sequential()\n",
        "# Hidden layer definitions\n",
        "model_MLP.add(keras.layers.Dense(units=5, activation='relu',\n",
        "input_shape= X_train.shape[1:]))\n",
        "# Output layer definitions\n",
        "model_MLP.add(keras.layers.Dense(units=3, activation='softmax'))\n",
        "\n",
        "# Print the summary of network architecture\n",
        "model_MLP.summary()"
      ],
      "execution_count": 0,
      "outputs": [
        {
          "output_type": "stream",
          "text": [
            "WARNING:tensorflow:From /usr/local/lib/python3.6/dist-packages/tensorflow_core/python/ops/resource_variable_ops.py:1630: calling BaseResourceVariable.__init__ (from tensorflow.python.ops.resource_variable_ops) with constraint is deprecated and will be removed in a future version.\n",
            "Instructions for updating:\n",
            "If using Keras pass *_constraint arguments to layers.\n",
            "Model: \"sequential\"\n",
            "_________________________________________________________________\n",
            "Layer (type)                 Output Shape              Param #   \n",
            "=================================================================\n",
            "dense (Dense)                (None, 5)                 70        \n",
            "_________________________________________________________________\n",
            "dense_1 (Dense)              (None, 3)                 18        \n",
            "=================================================================\n",
            "Total params: 88\n",
            "Trainable params: 88\n",
            "Non-trainable params: 0\n",
            "_________________________________________________________________\n"
          ],
          "name": "stdout"
        }
      ]
    },
    {
      "cell_type": "code",
      "metadata": {
        "id": "f1R1UDQ1K6yC",
        "colab_type": "code",
        "colab": {}
      },
      "source": [
        "model_MLP.compile(loss='sparse_categorical_crossentropy',optimizer='adam', metrics=['accuracy'])"
      ],
      "execution_count": 0,
      "outputs": []
    },
    {
      "cell_type": "code",
      "metadata": {
        "id": "t6fTfAXjK_Fu",
        "colab_type": "code",
        "outputId": "0dbbbcf1-32fd-4965-a608-0af892b15073",
        "colab": {
          "base_uri": "https://localhost:8080/",
          "height": 1000
        }
      },
      "source": [
        "model_MLP.fit(x=X_train_std, y=y_train, validation_split=0.1, epochs=50,batch_size=16)"
      ],
      "execution_count": 0,
      "outputs": [
        {
          "output_type": "stream",
          "text": [
            "Train on 127 samples, validate on 15 samples\n",
            "Epoch 1/50\n",
            "127/127 [==============================] - 0s 2ms/sample - loss: 1.3160 - acc: 0.3465 - val_loss: 1.3367 - val_acc: 0.0667\n",
            "Epoch 2/50\n",
            "127/127 [==============================] - 0s 143us/sample - loss: 1.2678 - acc: 0.3780 - val_loss: 1.2835 - val_acc: 0.0667\n",
            "Epoch 3/50\n",
            "127/127 [==============================] - 0s 117us/sample - loss: 1.2202 - acc: 0.3937 - val_loss: 1.2360 - val_acc: 0.0667\n",
            "Epoch 4/50\n",
            "127/127 [==============================] - 0s 136us/sample - loss: 1.1764 - acc: 0.4488 - val_loss: 1.1911 - val_acc: 0.0667\n",
            "Epoch 5/50\n",
            "127/127 [==============================] - 0s 112us/sample - loss: 1.1339 - acc: 0.4882 - val_loss: 1.1480 - val_acc: 0.2000\n",
            "Epoch 6/50\n",
            "127/127 [==============================] - 0s 105us/sample - loss: 1.0946 - acc: 0.5039 - val_loss: 1.1061 - val_acc: 0.2000\n",
            "Epoch 7/50\n",
            "127/127 [==============================] - 0s 104us/sample - loss: 1.0564 - acc: 0.5118 - val_loss: 1.0672 - val_acc: 0.2000\n",
            "Epoch 8/50\n",
            "127/127 [==============================] - 0s 113us/sample - loss: 1.0213 - acc: 0.5433 - val_loss: 1.0307 - val_acc: 0.3333\n",
            "Epoch 9/50\n",
            "127/127 [==============================] - 0s 100us/sample - loss: 0.9871 - acc: 0.5591 - val_loss: 0.9966 - val_acc: 0.4000\n",
            "Epoch 10/50\n",
            "127/127 [==============================] - 0s 121us/sample - loss: 0.9548 - acc: 0.5669 - val_loss: 0.9656 - val_acc: 0.4000\n",
            "Epoch 11/50\n",
            "127/127 [==============================] - 0s 102us/sample - loss: 0.9239 - acc: 0.6063 - val_loss: 0.9371 - val_acc: 0.4667\n",
            "Epoch 12/50\n",
            "127/127 [==============================] - 0s 110us/sample - loss: 0.8980 - acc: 0.6063 - val_loss: 0.9109 - val_acc: 0.4667\n",
            "Epoch 13/50\n",
            "127/127 [==============================] - 0s 118us/sample - loss: 0.8710 - acc: 0.6220 - val_loss: 0.8873 - val_acc: 0.4667\n",
            "Epoch 14/50\n",
            "127/127 [==============================] - 0s 116us/sample - loss: 0.8472 - acc: 0.6378 - val_loss: 0.8653 - val_acc: 0.4667\n",
            "Epoch 15/50\n",
            "127/127 [==============================] - 0s 112us/sample - loss: 0.8244 - acc: 0.6614 - val_loss: 0.8456 - val_acc: 0.5333\n",
            "Epoch 16/50\n",
            "127/127 [==============================] - 0s 105us/sample - loss: 0.8037 - acc: 0.6614 - val_loss: 0.8268 - val_acc: 0.5333\n",
            "Epoch 17/50\n",
            "127/127 [==============================] - 0s 106us/sample - loss: 0.7822 - acc: 0.6614 - val_loss: 0.8101 - val_acc: 0.5333\n",
            "Epoch 18/50\n",
            "127/127 [==============================] - 0s 102us/sample - loss: 0.7628 - acc: 0.6693 - val_loss: 0.7950 - val_acc: 0.5333\n",
            "Epoch 19/50\n",
            "127/127 [==============================] - 0s 105us/sample - loss: 0.7444 - acc: 0.6772 - val_loss: 0.7810 - val_acc: 0.5333\n",
            "Epoch 20/50\n",
            "127/127 [==============================] - 0s 106us/sample - loss: 0.7263 - acc: 0.6929 - val_loss: 0.7678 - val_acc: 0.5333\n",
            "Epoch 21/50\n",
            "127/127 [==============================] - 0s 114us/sample - loss: 0.7091 - acc: 0.7008 - val_loss: 0.7553 - val_acc: 0.5333\n",
            "Epoch 22/50\n",
            "127/127 [==============================] - 0s 126us/sample - loss: 0.6938 - acc: 0.7008 - val_loss: 0.7436 - val_acc: 0.5333\n",
            "Epoch 23/50\n",
            "127/127 [==============================] - 0s 173us/sample - loss: 0.6775 - acc: 0.7008 - val_loss: 0.7333 - val_acc: 0.5333\n",
            "Epoch 24/50\n",
            "127/127 [==============================] - 0s 194us/sample - loss: 0.6627 - acc: 0.7008 - val_loss: 0.7236 - val_acc: 0.5333\n",
            "Epoch 25/50\n",
            "127/127 [==============================] - 0s 107us/sample - loss: 0.6481 - acc: 0.7087 - val_loss: 0.7144 - val_acc: 0.5333\n",
            "Epoch 26/50\n",
            "127/127 [==============================] - 0s 106us/sample - loss: 0.6345 - acc: 0.7165 - val_loss: 0.7059 - val_acc: 0.5333\n",
            "Epoch 27/50\n",
            "127/127 [==============================] - 0s 119us/sample - loss: 0.6214 - acc: 0.7165 - val_loss: 0.6971 - val_acc: 0.5333\n",
            "Epoch 28/50\n",
            "127/127 [==============================] - 0s 128us/sample - loss: 0.6087 - acc: 0.7165 - val_loss: 0.6891 - val_acc: 0.5333\n",
            "Epoch 29/50\n",
            "127/127 [==============================] - 0s 147us/sample - loss: 0.5968 - acc: 0.7165 - val_loss: 0.6812 - val_acc: 0.5333\n",
            "Epoch 30/50\n",
            "127/127 [==============================] - 0s 117us/sample - loss: 0.5851 - acc: 0.7323 - val_loss: 0.6739 - val_acc: 0.5333\n",
            "Epoch 31/50\n",
            "127/127 [==============================] - 0s 123us/sample - loss: 0.5738 - acc: 0.7323 - val_loss: 0.6668 - val_acc: 0.5333\n",
            "Epoch 32/50\n",
            "127/127 [==============================] - 0s 168us/sample - loss: 0.5629 - acc: 0.7323 - val_loss: 0.6603 - val_acc: 0.5333\n",
            "Epoch 33/50\n",
            "127/127 [==============================] - 0s 117us/sample - loss: 0.5529 - acc: 0.7323 - val_loss: 0.6533 - val_acc: 0.5333\n",
            "Epoch 34/50\n",
            "127/127 [==============================] - 0s 144us/sample - loss: 0.5429 - acc: 0.7323 - val_loss: 0.6469 - val_acc: 0.5333\n",
            "Epoch 35/50\n",
            "127/127 [==============================] - 0s 115us/sample - loss: 0.5335 - acc: 0.7323 - val_loss: 0.6408 - val_acc: 0.5333\n",
            "Epoch 36/50\n",
            "127/127 [==============================] - 0s 157us/sample - loss: 0.5240 - acc: 0.7323 - val_loss: 0.6347 - val_acc: 0.5333\n",
            "Epoch 37/50\n",
            "127/127 [==============================] - 0s 141us/sample - loss: 0.5154 - acc: 0.7402 - val_loss: 0.6288 - val_acc: 0.5333\n",
            "Epoch 38/50\n",
            "127/127 [==============================] - 0s 139us/sample - loss: 0.5067 - acc: 0.7480 - val_loss: 0.6232 - val_acc: 0.5333\n",
            "Epoch 39/50\n",
            "127/127 [==============================] - 0s 148us/sample - loss: 0.4984 - acc: 0.7638 - val_loss: 0.6174 - val_acc: 0.5333\n",
            "Epoch 40/50\n",
            "127/127 [==============================] - 0s 108us/sample - loss: 0.4901 - acc: 0.7638 - val_loss: 0.6113 - val_acc: 0.5333\n",
            "Epoch 41/50\n",
            "127/127 [==============================] - 0s 120us/sample - loss: 0.4822 - acc: 0.7638 - val_loss: 0.6056 - val_acc: 0.5333\n",
            "Epoch 42/50\n",
            "127/127 [==============================] - 0s 127us/sample - loss: 0.4747 - acc: 0.7795 - val_loss: 0.5996 - val_acc: 0.5333\n",
            "Epoch 43/50\n",
            "127/127 [==============================] - 0s 128us/sample - loss: 0.4675 - acc: 0.7795 - val_loss: 0.5945 - val_acc: 0.5333\n",
            "Epoch 44/50\n",
            "127/127 [==============================] - 0s 131us/sample - loss: 0.4601 - acc: 0.7795 - val_loss: 0.5887 - val_acc: 0.5333\n",
            "Epoch 45/50\n",
            "127/127 [==============================] - 0s 129us/sample - loss: 0.4529 - acc: 0.7874 - val_loss: 0.5833 - val_acc: 0.5333\n",
            "Epoch 46/50\n",
            "127/127 [==============================] - 0s 115us/sample - loss: 0.4462 - acc: 0.7953 - val_loss: 0.5780 - val_acc: 0.5333\n",
            "Epoch 47/50\n",
            "127/127 [==============================] - 0s 126us/sample - loss: 0.4398 - acc: 0.8031 - val_loss: 0.5725 - val_acc: 0.5333\n",
            "Epoch 48/50\n",
            "127/127 [==============================] - 0s 131us/sample - loss: 0.4331 - acc: 0.8031 - val_loss: 0.5671 - val_acc: 0.5333\n",
            "Epoch 49/50\n",
            "127/127 [==============================] - 0s 125us/sample - loss: 0.4267 - acc: 0.8031 - val_loss: 0.5619 - val_acc: 0.5333\n",
            "Epoch 50/50\n",
            "127/127 [==============================] - 0s 119us/sample - loss: 0.4208 - acc: 0.8110 - val_loss: 0.5567 - val_acc: 0.6000\n"
          ],
          "name": "stdout"
        },
        {
          "output_type": "execute_result",
          "data": {
            "text/plain": [
              "<tensorflow.python.keras.callbacks.History at 0x7fac7cfe2550>"
            ]
          },
          "metadata": {
            "tags": []
          },
          "execution_count": 12
        }
      ]
    },
    {
      "cell_type": "code",
      "metadata": {
        "id": "WNMbt0UrLDAd",
        "colab_type": "code",
        "outputId": "32b0f0cd-f390-4202-93b8-21099eedfe35",
        "colab": {
          "base_uri": "https://localhost:8080/",
          "height": 33
        }
      },
      "source": [
        "test_loss, test_accuracy = model_MLP.evaluate(x=X_test_std, y=y_test)"
      ],
      "execution_count": 0,
      "outputs": [
        {
          "output_type": "stream",
          "text": [
            "36/36 [==============================] - 0s 156us/sample - loss: 0.5300 - acc: 0.7222\n"
          ],
          "name": "stdout"
        }
      ]
    },
    {
      "cell_type": "code",
      "metadata": {
        "id": "YfT6KbUTLF9p",
        "colab_type": "code",
        "outputId": "ce805b26-0a7f-4fb6-9fdd-46f24097439d",
        "colab": {
          "base_uri": "https://localhost:8080/",
          "height": 33
        }
      },
      "source": [
        "print(test_loss, test_accuracy)"
      ],
      "execution_count": 0,
      "outputs": [
        {
          "output_type": "stream",
          "text": [
            "0.5300196276770698 0.7222222\n"
          ],
          "name": "stdout"
        }
      ]
    },
    {
      "cell_type": "code",
      "metadata": {
        "id": "YcZC8ABnLIof",
        "colab_type": "code",
        "colab": {}
      },
      "source": [
        ""
      ],
      "execution_count": 0,
      "outputs": []
    }
  ]
}